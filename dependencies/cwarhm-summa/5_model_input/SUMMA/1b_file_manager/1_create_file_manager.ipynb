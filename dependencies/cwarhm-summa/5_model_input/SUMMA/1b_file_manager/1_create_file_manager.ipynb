{
 "cells": [
  {
   "cell_type": "markdown",
   "metadata": {},
   "source": [
    "# Create file manager\n",
    "Populates a text file with the required inputs for a SUMMA run."
   ]
  },
  {
   "cell_type": "code",
   "execution_count": 1,
   "metadata": {},
   "outputs": [],
   "source": [
    "# modules\n",
    "import os\n",
    "from pathlib import Path\n",
    "from shutil import copyfile\n",
    "from datetime import datetime"
   ]
  },
  {
   "cell_type": "markdown",
   "metadata": {},
   "source": [
    "#### Control file handling"
   ]
  },
  {
   "cell_type": "code",
   "execution_count": 2,
   "metadata": {},
   "outputs": [],
   "source": [
    "# Easy access to control file folder\n",
    "controlFolder = Path('../../../0_control_files')"
   ]
  },
  {
   "cell_type": "code",
   "execution_count": 3,
   "metadata": {},
   "outputs": [],
   "source": [
    "# Store the name of the 'active' file in a variable\n",
    "controlFile = 'control_active.txt'"
   ]
  },
  {
   "cell_type": "code",
   "execution_count": 4,
   "metadata": {},
   "outputs": [],
   "source": [
    "# Function to extract a given setting from the control file\n",
    "def read_from_control( file, setting ):\n",
    "    \n",
    "    # Open 'control_active.txt' and ...\n",
    "    with open(file) as contents:\n",
    "        for line in contents:\n",
    "            \n",
    "            # ... find the line with the requested setting\n",
    "            if setting in line and not line.startswith('#'):\n",
    "                break\n",
    "    \n",
    "    # Extract the setting's value\n",
    "    substring = line.split('|',1)[1]      # Remove the setting's name (split into 2 based on '|', keep only 2nd part)\n",
    "    substring = substring.split('#',1)[0] # Remove comments, does nothing if no '#' is found\n",
    "    substring = substring.strip()         # Remove leading and trailing whitespace, tabs, newlines\n",
    "       \n",
    "    # Return this value    \n",
    "    return substring"
   ]
  },
  {
   "cell_type": "code",
   "execution_count": 5,
   "metadata": {},
   "outputs": [],
   "source": [
    "# Function to specify a default path\n",
    "def make_default_path(suffix):\n",
    "    \n",
    "    # Get the root path\n",
    "    rootPath = Path( read_from_control(controlFolder/controlFile,'root_path') )\n",
    "    \n",
    "    # Get the domain folder\n",
    "    domainName = read_from_control(controlFolder/controlFile,'domain_name')\n",
    "    domainFolder = 'domain_' + domainName\n",
    "    \n",
    "    # Specify the forcing path\n",
    "    defaultPath = rootPath / domainFolder / suffix\n",
    "    \n",
    "    return defaultPath"
   ]
  },
  {
   "cell_type": "markdown",
   "metadata": {},
   "source": [
    "#### Find where the file manager needs to go"
   ]
  },
  {
   "cell_type": "code",
   "execution_count": 8,
   "metadata": {},
   "outputs": [],
   "source": [
    "# Forcing file list path & name\n",
    "filemanager_path = read_from_control(controlFolder/controlFile,'settings_summa_path')\n",
    "filemanager_name = read_from_control(controlFolder/controlFile,'settings_summa_filemanager')"
   ]
  },
  {
   "cell_type": "code",
   "execution_count": 9,
   "metadata": {},
   "outputs": [],
   "source": [
    "# Specify default path if needed\n",
    "if filemanager_path == 'default':\n",
    "    filemanager_path = make_default_path('settings/SUMMA') # outputs a Path()\n",
    "else:\n",
    "    filemanager_path = Path(filemanager_path) # make sure a user-specified path is a Path()"
   ]
  },
  {
   "cell_type": "code",
   "execution_count": 10,
   "metadata": {},
   "outputs": [],
   "source": [
    "# Make the folder if it doesn't exist\n",
    "filemanager_path.mkdir(parents=True, exist_ok=True)"
   ]
  },
  {
   "cell_type": "markdown",
   "metadata": {},
   "source": [
    "#### Read the required information from control file"
   ]
  },
  {
   "cell_type": "code",
   "execution_count": 23,
   "metadata": {},
   "outputs": [],
   "source": [
    "# Get the experiment ID\n",
    "experiment_id = read_from_control(controlFolder/controlFile,'experiment_id')"
   ]
  },
  {
   "cell_type": "code",
   "execution_count": 24,
   "metadata": {},
   "outputs": [],
   "source": [
    "# Simulation times\n",
    "sim_start = read_from_control(controlFolder/controlFile,'experiment_time_start')\n",
    "sim_end   = read_from_control(controlFolder/controlFile,'experiment_time_end')\n",
    "\n",
    "# Define default times if needed\n",
    "if sim_start == 'default':\n",
    "    raw_time = read_from_control(controlFolder/controlFile,'forcing_raw_time') # downloaded forcing (years)\n",
    "    year_start,_ = raw_time.split(',') # split into separate variables\n",
    "    sim_start = year_start + '-01-01 00:00' # construct the filemanager field\n",
    "\n",
    "if sim_end == 'default':\n",
    "    raw_time = read_from_control(controlFolder/controlFile,'forcing_raw_time') # downloaded forcing (years)\n",
    "    _,year_end = raw_time.split(',') # split into separate variables\n",
    "    sim_end   = year_end   + '-12-31 23:00' # construct the filemanager field"
   ]
  },
  {
   "cell_type": "code",
   "execution_count": 37,
   "metadata": {},
   "outputs": [],
   "source": [
    "# Paths - settings folder\n",
    "path_to_settings = read_from_control(controlFolder/controlFile,'settings_summa_path')\n",
    "\n",
    "# Specify default path if needed\n",
    "if path_to_settings == 'default':\n",
    "    path_to_settings = make_default_path('settings/SUMMA') # outputs a Path()\n",
    "else:\n",
    "    path_to_settings = Path(path_to_settings) # make sure a user-specified path is a Path()"
   ]
  },
  {
   "cell_type": "code",
   "execution_count": 42,
   "metadata": {},
   "outputs": [],
   "source": [
    "# Paths - forcing folder\n",
    "path_to_forcing = read_from_control(controlFolder/controlFile,'forcing_summa_path')\n",
    "\n",
    "# Specify default path if needed\n",
    "if path_to_forcing == 'default':\n",
    "    path_to_forcing = make_default_path('forcing/4_SUMMA_input') # outputs a Path()\n",
    "else:\n",
    "    path_to_forcing = Path(path_to_forcing) # make sure a user-specified path is a Path()"
   ]
  },
  {
   "cell_type": "code",
   "execution_count": 46,
   "metadata": {},
   "outputs": [],
   "source": [
    "# Paths - output folder\n",
    "path_to_output = read_from_control(controlFolder/controlFile,'experiment_output_summa')\n",
    "\n",
    "# Specify default path if needed\n",
    "if path_to_output == 'default':  \n",
    "    path_to_output = make_default_path('simulations/' + experiment_id + '/SUMMA') # outputs a Path()\n",
    "else:\n",
    "    path_to_output = Path(path_to_output) # make sure a user-specified path is a Path()\n",
    "    \n",
    "# Make the folder if it doesn't exist\n",
    "path_to_output.mkdir(parents=True, exist_ok=True)"
   ]
  },
  {
   "cell_type": "code",
   "execution_count": 51,
   "metadata": {},
   "outputs": [],
   "source": [
    "# File names of setting files\n",
    "initial_conditions_nc = read_from_control(controlFolder/controlFile,'settings_summa_coldstate')\n",
    "attributes_nc         = read_from_control(controlFolder/controlFile,'settings_summa_attributes')\n",
    "trial_parameters_nc   = read_from_control(controlFolder/controlFile,'settings_summa_trialParams')\n",
    "forcing_file_list_txt = read_from_control(controlFolder/controlFile,'settings_summa_forcing_list')"
   ]
  },
  {
   "cell_type": "markdown",
   "metadata": {},
   "source": [
    "#### Make the file"
   ]
  },
  {
   "cell_type": "code",
   "execution_count": 55,
   "metadata": {},
   "outputs": [],
   "source": [
    "# Create the file list\n",
    "with open(filemanager_path / filemanager_name, 'w') as fm:\n",
    "    \n",
    "    # Header\n",
    "    fm.write(\"controlVersion       'SUMMA_FILE_MANAGER_V3.0.0' !  file manager version \\n\")\n",
    "    \n",
    "    # Simulation times\n",
    "    fm.write(\"simStartTime         '{}' ! \\n\".format(sim_start))\n",
    "    fm.write(\"simEndTime           '{}' ! \\n\".format(sim_end))\n",
    "    fm.write(\"tmZoneInfo           'utcTime' ! \\n\")\n",
    "    \n",
    "    # Prefix for SUMMA outputs\n",
    "    fm.write(\"outFilePrefix        '{}' ! \\n\".format(experiment_id))\n",
    "    \n",
    "    # Paths\n",
    "    fm.write(\"settingsPath         '{}/' ! \\n\".format(path_to_settings))\n",
    "    fm.write(\"forcingPath          '{}/' ! \\n\".format(path_to_forcing))\n",
    "    fm.write(\"outputPath           '{}/' ! \\n\".format(path_to_output))\n",
    "    \n",
    "    # Input file names\n",
    "    fm.write(\"initConditionFile    '{}' ! Relative to settingsPath \\n\".format(initial_conditions_nc))\n",
    "    fm.write(\"attributeFile        '{}' ! Relative to settingsPath \\n\".format(attributes_nc))\n",
    "    fm.write(\"trialParamFile       '{}' ! Relative to settingsPath \\n\".format(trial_parameters_nc))\n",
    "    fm.write(\"forcingListFile      '{}' ! Relative to settingsPath \\n\".format(forcing_file_list_txt))\n",
    "    \n",
    "    # Base files (not domain-dependent)\n",
    "    fm.write(\"decisionsFile        'modelDecisions.txt' !  Relative to settingsPath \\n\")\n",
    "    fm.write(\"outputControlFile    'outputControl.txt' !  Relative to settingsPath \\n\")\n",
    "    fm.write(\"globalHruParamFile   'localParamInfo.txt' !  Relative to settingsPath \\n\")\n",
    "    fm.write(\"globalGruParamFile   'basinParamInfo.txt' !  Relative to settingsPatho \\n\")\n",
    "    fm.write(\"vegTableFile         'TBL_VEGPARM.TBL' ! Relative to settingsPath \\n\")\n",
    "    fm.write(\"soilTableFile        'TBL_SOILPARM.TBL' ! Relative to settingsPath \\n\")\n",
    "    fm.write(\"generalTableFile     'TBL_GENPARM.TBL' ! Relative to settingsPath \\n\")\n",
    "    fm.write(\"noahmpTableFile      'TBL_MPTABLE.TBL' ! Relative to settingsPath \\n\")"
   ]
  },
  {
   "cell_type": "markdown",
   "metadata": {},
   "source": [
    "#### Code provenance\n",
    "Generates a basic log file in the domain folder and copies the control file and itself there."
   ]
  },
  {
   "cell_type": "code",
   "execution_count": 57,
   "metadata": {},
   "outputs": [],
   "source": [
    "# Set the log path and file name\n",
    "logPath = filemanager_path\n",
    "log_suffix = '_make_file_manager.txt'"
   ]
  },
  {
   "cell_type": "code",
   "execution_count": 58,
   "metadata": {},
   "outputs": [],
   "source": [
    "# Create a log folder\n",
    "logFolder = '_workflow_log'\n",
    "Path( logPath / logFolder ).mkdir(parents=True, exist_ok=True)"
   ]
  },
  {
   "cell_type": "code",
   "execution_count": 59,
   "metadata": {},
   "outputs": [],
   "source": [
    "# Copy this script\n",
    "thisFile = '1_create_file_manager.ipynb'\n",
    "copyfile(thisFile, logPath / logFolder / thisFile);"
   ]
  },
  {
   "cell_type": "code",
   "execution_count": 60,
   "metadata": {},
   "outputs": [],
   "source": [
    "# Get current date and time\n",
    "now = datetime.now()"
   ]
  },
  {
   "cell_type": "code",
   "execution_count": 61,
   "metadata": {},
   "outputs": [],
   "source": [
    "# Create a log file \n",
    "logFile = now.strftime('%Y%m%d') + log_suffix\n",
    "with open( logPath / logFolder / logFile, 'w') as file:\n",
    "    \n",
    "    lines = ['Log generated by ' + thisFile + ' on ' + now.strftime('%Y/%m/%d %H:%M:%S') + '\\n',\n",
    "             'Generated file manager.']\n",
    "    for txt in lines:\n",
    "        file.write(txt) "
   ]
  },
  {
   "cell_type": "code",
   "execution_count": null,
   "metadata": {},
   "outputs": [],
   "source": []
  }
 ],
 "metadata": {
  "kernelspec": {
   "display_name": "summa-env",
   "language": "python",
   "name": "summa-env"
  },
  "language_info": {
   "codemirror_mode": {
    "name": "ipython",
    "version": 3
   },
   "file_extension": ".py",
   "mimetype": "text/x-python",
   "name": "python",
   "nbconvert_exporter": "python",
   "pygments_lexer": "ipython3",
   "version": "3.8.8"
  }
 },
 "nbformat": 4,
 "nbformat_minor": 4
}
