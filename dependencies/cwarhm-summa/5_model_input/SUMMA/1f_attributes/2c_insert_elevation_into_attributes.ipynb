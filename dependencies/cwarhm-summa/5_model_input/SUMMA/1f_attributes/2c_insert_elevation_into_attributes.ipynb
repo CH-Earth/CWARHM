{
 "cells": [
  {
   "cell_type": "markdown",
   "metadata": {},
   "source": [
    "# Insert MERIT Hydro elevation in SUMMA set up\n",
    "Inserts elevation of each HRU into the attributes `.nc` file. The intersection code stores this value in field `elev_mean`. \n",
    "\n",
    "If the field `settings_summa_connect_HRUs` is set to `yes` in the control file, this script also finds the downslope HRU (attribute `downHRUindex`) for the HRUs within each GRU. The most downstream HRU (i.e. the GRU outlet) is set to `0` to follow SUMMA conventions. If `settings_summa_connect_HRUs` is set to `no`, all HRUs are modelled as indepdendent columns and outflow from all HRUs inside each GRU is combined into basin-average outflow. No further action is needed, as `downHRUindex` for each HRU has already been set to `0`."
   ]
  },
  {
   "cell_type": "code",
   "execution_count": 1,
   "metadata": {},
   "outputs": [],
   "source": [
    "# modules\n",
    "import os\n",
    "import numpy as np\n",
    "import netCDF4 as nc4\n",
    "import geopandas as gpd\n",
    "from pathlib import Path\n",
    "from shutil import copyfile\n",
    "from datetime import datetime"
   ]
  },
  {
   "cell_type": "markdown",
   "metadata": {},
   "source": [
    "#### Control file handling"
   ]
  },
  {
   "cell_type": "code",
   "execution_count": 2,
   "metadata": {},
   "outputs": [],
   "source": [
    "# Easy access to control file folder\n",
    "controlFolder = Path('../../../0_control_files')"
   ]
  },
  {
   "cell_type": "code",
   "execution_count": 3,
   "metadata": {},
   "outputs": [],
   "source": [
    "# Store the name of the 'active' file in a variable\n",
    "controlFile = 'control_active.txt'"
   ]
  },
  {
   "cell_type": "code",
   "execution_count": 4,
   "metadata": {},
   "outputs": [],
   "source": [
    "# Function to extract a given setting from the control file\n",
    "def read_from_control( file, setting ):\n",
    "    \n",
    "    # Open 'control_active.txt' and ...\n",
    "    with open(file) as contents:\n",
    "        for line in contents:\n",
    "            \n",
    "            # ... find the line with the requested setting\n",
    "            if setting in line and not line.startswith('#'):\n",
    "                break\n",
    "    \n",
    "    # Extract the setting's value\n",
    "    substring = line.split('|',1)[1]      # Remove the setting's name (split into 2 based on '|', keep only 2nd part)\n",
    "    substring = substring.split('#',1)[0] # Remove comments, does nothing if no '#' is found\n",
    "    substring = substring.strip()         # Remove leading and trailing whitespace, tabs, newlines\n",
    "       \n",
    "    # Return this value    \n",
    "    return substring"
   ]
  },
  {
   "cell_type": "code",
   "execution_count": 5,
   "metadata": {},
   "outputs": [],
   "source": [
    "# Function to specify a default path\n",
    "def make_default_path(suffix):\n",
    "    \n",
    "    # Get the root path\n",
    "    rootPath = Path( read_from_control(controlFolder/controlFile,'root_path') )\n",
    "    \n",
    "    # Get the domain folder\n",
    "    domainName = read_from_control(controlFolder/controlFile,'domain_name')\n",
    "    domainFolder = 'domain_' + domainName\n",
    "    \n",
    "    # Specify the forcing path\n",
    "    defaultPath = rootPath / domainFolder / suffix\n",
    "    \n",
    "    return defaultPath"
   ]
  },
  {
   "cell_type": "markdown",
   "metadata": {},
   "source": [
    "#### Find shapefile location and name"
   ]
  },
  {
   "cell_type": "code",
   "execution_count": 6,
   "metadata": {},
   "outputs": [],
   "source": [
    "# Path to and name of shapefile with intersection between catchment and soil classes\n",
    "intersect_path = read_from_control(controlFolder/controlFile,'intersect_dem_path')\n",
    "intersect_name = read_from_control(controlFolder/controlFile,'intersect_dem_name')"
   ]
  },
  {
   "cell_type": "code",
   "execution_count": 7,
   "metadata": {},
   "outputs": [],
   "source": [
    "# Specify default path if needed\n",
    "if intersect_path == 'default':\n",
    "    intersect_path = make_default_path('shapefiles/catchment_intersection/with_dem') # outputs a Path()\n",
    "else:\n",
    "    intersect_path = Path(intersect_path) # make sure a user-specified path is a Path()"
   ]
  },
  {
   "cell_type": "code",
   "execution_count": 8,
   "metadata": {},
   "outputs": [],
   "source": [
    "# Variable names used in shapefile\n",
    "intersect_hruId_var = read_from_control(controlFolder/controlFile,'catchment_shp_hruid')\n",
    "intersect_gruId_var = read_from_control(controlFolder/controlFile,'catchment_shp_gruid')"
   ]
  },
  {
   "cell_type": "markdown",
   "metadata": {},
   "source": [
    "#### Find where the attributes file is"
   ]
  },
  {
   "cell_type": "code",
   "execution_count": 9,
   "metadata": {},
   "outputs": [],
   "source": [
    "# Attribute path & name\n",
    "attribute_path = read_from_control(controlFolder/controlFile,'settings_summa_path')\n",
    "attribute_name = read_from_control(controlFolder/controlFile,'settings_summa_attributes')"
   ]
  },
  {
   "cell_type": "code",
   "execution_count": 10,
   "metadata": {},
   "outputs": [],
   "source": [
    "# Specify default path if needed\n",
    "if attribute_path == 'default':\n",
    "    attribute_path = make_default_path('settings/SUMMA') # outputs a Path()\n",
    "else:\n",
    "    attribute_path = Path(attribute_path) # make sure a user-specified path is a Path()"
   ]
  },
  {
   "cell_type": "markdown",
   "metadata": {},
   "source": [
    "#### Open the shapefile"
   ]
  },
  {
   "cell_type": "code",
   "execution_count": 11,
   "metadata": {},
   "outputs": [],
   "source": [
    "# Open files\n",
    "shp = gpd.read_file(intersect_path/intersect_name)"
   ]
  },
  {
   "cell_type": "markdown",
   "metadata": {},
   "source": [
    "#### Define `downHRUindex` values if requested"
   ]
  },
  {
   "cell_type": "code",
   "execution_count": 12,
   "metadata": {},
   "outputs": [],
   "source": [
    "# Create a field with downHRUindex = 0, that we wil potentially overwrite\n",
    "shp['downHRUindex'] = 0\n",
    "\n",
    "# Find if this is requested by the user\n",
    "do_downHRUindex = read_from_control(controlFolder/controlFile,'settings_summa_connect_HRUs')"
   ]
  },
  {
   "cell_type": "code",
   "execution_count": 13,
   "metadata": {},
   "outputs": [
    {
     "name": "stdout",
     "output_type": "stream",
     "text": [
      "Filling downHRUindex of HRU 48 with HRU 97\n",
      "Filling downHRUindex of HRU 97 with HRU 118\n",
      "Filling downHRUindex of HRU 118 with HRU 0\n",
      "Filling downHRUindex of HRU 1 with HRU 49\n",
      "Filling downHRUindex of HRU 49 with HRU 100\n",
      "Filling downHRUindex of HRU 100 with HRU 0\n",
      "Filling downHRUindex of HRU 2 with HRU 50\n",
      "Filling downHRUindex of HRU 50 with HRU 101\n",
      "Filling downHRUindex of HRU 101 with HRU 0\n",
      "Filling downHRUindex of HRU 3 with HRU 51\n",
      "Filling downHRUindex of HRU 51 with HRU 102\n",
      "Filling downHRUindex of HRU 102 with HRU 0\n",
      "Filling downHRUindex of HRU 4 with HRU 52\n",
      "Filling downHRUindex of HRU 52 with HRU 103\n",
      "Filling downHRUindex of HRU 103 with HRU 0\n",
      "Filling downHRUindex of HRU 5 with HRU 53\n",
      "Filling downHRUindex of HRU 53 with HRU 104\n",
      "Filling downHRUindex of HRU 104 with HRU 0\n",
      "Filling downHRUindex of HRU 6 with HRU 54\n",
      "Filling downHRUindex of HRU 54 with HRU 105\n",
      "Filling downHRUindex of HRU 105 with HRU 0\n",
      "Filling downHRUindex of HRU 7 with HRU 55\n",
      "Filling downHRUindex of HRU 55 with HRU 106\n",
      "Filling downHRUindex of HRU 106 with HRU 0\n",
      "Filling downHRUindex of HRU 8 with HRU 56\n",
      "Filling downHRUindex of HRU 56 with HRU 107\n",
      "Filling downHRUindex of HRU 107 with HRU 0\n",
      "Filling downHRUindex of HRU 9 with HRU 57\n",
      "Filling downHRUindex of HRU 57 with HRU 0\n",
      "Filling downHRUindex of HRU 10 with HRU 58\n",
      "Filling downHRUindex of HRU 58 with HRU 0\n",
      "Filling downHRUindex of HRU 0 with HRU 99\n",
      "Filling downHRUindex of HRU 99 with HRU 0\n",
      "Filling downHRUindex of HRU 0 with HRU 59\n",
      "Filling downHRUindex of HRU 59 with HRU 0\n",
      "Filling downHRUindex of HRU 11 with HRU 60\n",
      "Filling downHRUindex of HRU 60 with HRU 0\n",
      "Filling downHRUindex of HRU 12 with HRU 61\n",
      "Filling downHRUindex of HRU 61 with HRU 0\n",
      "Filling downHRUindex of HRU 13 with HRU 62\n",
      "Filling downHRUindex of HRU 62 with HRU 108\n",
      "Filling downHRUindex of HRU 108 with HRU 0\n",
      "Filling downHRUindex of HRU 14 with HRU 63\n",
      "Filling downHRUindex of HRU 63 with HRU 109\n",
      "Filling downHRUindex of HRU 109 with HRU 0\n",
      "Filling downHRUindex of HRU 15 with HRU 64\n",
      "Filling downHRUindex of HRU 64 with HRU 110\n",
      "Filling downHRUindex of HRU 110 with HRU 0\n",
      "Filling downHRUindex of HRU 16 with HRU 65\n",
      "Filling downHRUindex of HRU 65 with HRU 0\n",
      "Filling downHRUindex of HRU 0 with HRU 98\n",
      "Filling downHRUindex of HRU 98 with HRU 0\n",
      "Filling downHRUindex of HRU 17 with HRU 66\n",
      "Filling downHRUindex of HRU 66 with HRU 0\n",
      "Filling downHRUindex of HRU 18 with HRU 67\n",
      "Filling downHRUindex of HRU 67 with HRU 111\n",
      "Filling downHRUindex of HRU 111 with HRU 0\n",
      "Filling downHRUindex of HRU 19 with HRU 68\n",
      "Filling downHRUindex of HRU 68 with HRU 0\n",
      "Filling downHRUindex of HRU 20 with HRU 69\n",
      "Filling downHRUindex of HRU 69 with HRU 112\n",
      "Filling downHRUindex of HRU 112 with HRU 0\n",
      "Filling downHRUindex of HRU 21 with HRU 70\n",
      "Filling downHRUindex of HRU 70 with HRU 0\n",
      "Filling downHRUindex of HRU 22 with HRU 71\n",
      "Filling downHRUindex of HRU 71 with HRU 0\n",
      "Filling downHRUindex of HRU 23 with HRU 72\n",
      "Filling downHRUindex of HRU 72 with HRU 0\n",
      "Filling downHRUindex of HRU 24 with HRU 73\n",
      "Filling downHRUindex of HRU 73 with HRU 0\n",
      "Filling downHRUindex of HRU 25 with HRU 74\n",
      "Filling downHRUindex of HRU 74 with HRU 113\n",
      "Filling downHRUindex of HRU 113 with HRU 0\n",
      "Filling downHRUindex of HRU 26 with HRU 75\n",
      "Filling downHRUindex of HRU 75 with HRU 114\n",
      "Filling downHRUindex of HRU 114 with HRU 0\n",
      "Filling downHRUindex of HRU 27 with HRU 76\n",
      "Filling downHRUindex of HRU 76 with HRU 0\n",
      "Filling downHRUindex of HRU 28 with HRU 77\n",
      "Filling downHRUindex of HRU 77 with HRU 0\n",
      "Filling downHRUindex of HRU 29 with HRU 78\n",
      "Filling downHRUindex of HRU 78 with HRU 0\n",
      "Filling downHRUindex of HRU 30 with HRU 79\n",
      "Filling downHRUindex of HRU 79 with HRU 0\n",
      "Filling downHRUindex of HRU 31 with HRU 80\n",
      "Filling downHRUindex of HRU 80 with HRU 115\n",
      "Filling downHRUindex of HRU 115 with HRU 0\n",
      "Filling downHRUindex of HRU 32 with HRU 81\n",
      "Filling downHRUindex of HRU 81 with HRU 0\n",
      "Filling downHRUindex of HRU 33 with HRU 82\n",
      "Filling downHRUindex of HRU 82 with HRU 116\n",
      "Filling downHRUindex of HRU 116 with HRU 0\n",
      "Filling downHRUindex of HRU 34 with HRU 83\n",
      "Filling downHRUindex of HRU 83 with HRU 0\n",
      "Filling downHRUindex of HRU 35 with HRU 84\n",
      "Filling downHRUindex of HRU 84 with HRU 117\n",
      "Filling downHRUindex of HRU 117 with HRU 0\n",
      "Filling downHRUindex of HRU 36 with HRU 85\n",
      "Filling downHRUindex of HRU 85 with HRU 0\n",
      "Filling downHRUindex of HRU 37 with HRU 86\n",
      "Filling downHRUindex of HRU 86 with HRU 0\n",
      "Filling downHRUindex of HRU 38 with HRU 87\n",
      "Filling downHRUindex of HRU 87 with HRU 0\n",
      "Filling downHRUindex of HRU 39 with HRU 88\n",
      "Filling downHRUindex of HRU 88 with HRU 0\n",
      "Filling downHRUindex of HRU 40 with HRU 89\n",
      "Filling downHRUindex of HRU 89 with HRU 0\n",
      "Filling downHRUindex of HRU 41 with HRU 90\n",
      "Filling downHRUindex of HRU 90 with HRU 0\n",
      "Filling downHRUindex of HRU 42 with HRU 91\n",
      "Filling downHRUindex of HRU 91 with HRU 0\n",
      "Filling downHRUindex of HRU 43 with HRU 92\n",
      "Filling downHRUindex of HRU 92 with HRU 0\n",
      "Filling downHRUindex of HRU 44 with HRU 93\n",
      "Filling downHRUindex of HRU 93 with HRU 0\n",
      "Filling downHRUindex of HRU 45 with HRU 94\n",
      "Filling downHRUindex of HRU 94 with HRU 0\n",
      "Filling downHRUindex of HRU 46 with HRU 95\n",
      "Filling downHRUindex of HRU 95 with HRU 0\n",
      "Filling downHRUindex of HRU 47 with HRU 96\n",
      "Filling downHRUindex of HRU 96 with HRU 0\n"
     ]
    }
   ],
   "source": [
    "# Find the downHRUindex value if requested\n",
    "if do_downHRUindex.lower() == 'yes':\n",
    "    \n",
    "    # Find the unique GRU IDs\n",
    "    gru_ids = shp[intersect_gruId_var].unique()\n",
    "    \n",
    "    # Create a temporary field we'll fill\n",
    "    shp['downHRUindex'] = 0\n",
    "    \n",
    "    # Make hruId the index\n",
    "    shp.set_index(intersect_hruId_var, inplace=True)\n",
    "    \n",
    "    # Loop over the GRUs\n",
    "    for gru_id in gru_ids:\n",
    "    \n",
    "        # Select only the GRU we're currently working on\n",
    "        gru_mask = (shp[intersect_gruId_var] == gru_id)\n",
    "    \n",
    "        # Find the soring order of HRUs in this GRU based on their elevations\n",
    "        tmp_sort = shp[gru_mask]['elev_mean'].argsort()\n",
    "    \n",
    "        # Loop over the HRUs in this GRU and set their downHRUindex in the shapefile\n",
    "        HRUs_seen = 0\n",
    "        last_HRU = 0\n",
    "        for HRU,order in tmp_sort.iteritems():\n",
    "            if order == 0: \n",
    "                # most downstream HRU\n",
    "                print('Filling downHRUindex of HRU {} with HRU {}'.format(last_HRU,HRU)) \n",
    "                print('Filling downHRUindex of HRU {} with HRU {}'.format(HRU,0)) \n",
    "                if last_HRU != 0: # If there are more HRUs in this GRU ...\n",
    "                    shp.at[last_HRU, 'downHRUindex'] = int(HRU) # fill the second-to last and also ...\n",
    "                shp.at[HRU,      'downHRUindex'] = 0   # fill the last (possibly only) HRU\n",
    "            elif HRUs_seen > 0:\n",
    "                # not the first iteration\n",
    "                print('Filling downHRUindex of HRU {} with HRU {}'.format(last_HRU,HRU))        \n",
    "                shp.at[last_HRU, 'downHRUindex'] = int(HRU)\n",
    "            HRUs_seen += 1\n",
    "            last_HRU = HRU\n",
    "            \n",
    "    # Reset the index\n",
    "    shp.reset_index(inplace=True)"
   ]
  },
  {
   "cell_type": "markdown",
   "metadata": {},
   "source": [
    "#### Open the attributes file and fill the placeholder values in the attributes file"
   ]
  },
  {
   "cell_type": "code",
   "execution_count": 15,
   "metadata": {},
   "outputs": [
    {
     "name": "stdout",
     "output_type": "stream",
     "text": [
      "Replacing elevation 2181.1250443522135 [m] with 2181.1250443522135 [m] at HRU 1\n",
      "Replacing downHRUindex 49 [m] with 49 [m] at HRU 1\n",
      "Replacing elevation 2232.4051443401136 [m] with 2232.4051443401136 [m] at HRU 2\n",
      "Replacing downHRUindex 50 [m] with 50 [m] at HRU 2\n",
      "Replacing elevation 2301.8800536404706 [m] with 2301.8800536404706 [m] at HRU 3\n",
      "Replacing downHRUindex 51 [m] with 51 [m] at HRU 3\n",
      "Replacing elevation 2240.0869338322423 [m] with 2240.0869338322423 [m] at HRU 4\n",
      "Replacing downHRUindex 52 [m] with 52 [m] at HRU 4\n",
      "Replacing elevation 2288.068843562057 [m] with 2288.068843562057 [m] at HRU 5\n",
      "Replacing downHRUindex 53 [m] with 53 [m] at HRU 5\n",
      "Replacing elevation 2331.4548456084212 [m] with 2331.4548456084212 [m] at HRU 6\n",
      "Replacing downHRUindex 54 [m] with 54 [m] at HRU 6\n",
      "Replacing elevation 2253.423467422212 [m] with 2253.423467422212 [m] at HRU 7\n",
      "Replacing downHRUindex 55 [m] with 55 [m] at HRU 7\n",
      "Replacing elevation 2263.222648965515 [m] with 2263.222648965515 [m] at HRU 8\n",
      "Replacing downHRUindex 56 [m] with 56 [m] at HRU 8\n",
      "Replacing elevation 2256.672683114219 [m] with 2256.672683114219 [m] at HRU 9\n",
      "Replacing downHRUindex 57 [m] with 57 [m] at HRU 9\n",
      "Replacing elevation 2106.7463736185214 [m] with 2106.7463736185214 [m] at HRU 10\n",
      "Replacing downHRUindex 58 [m] with 58 [m] at HRU 10\n",
      "Replacing elevation 2306.797862832942 [m] with 2306.797862832942 [m] at HRU 11\n",
      "Replacing downHRUindex 60 [m] with 60 [m] at HRU 11\n",
      "Replacing elevation 2429.18112792269 [m] with 2429.18112792269 [m] at HRU 12\n",
      "Replacing downHRUindex 61 [m] with 61 [m] at HRU 12\n",
      "Replacing elevation 2193.0411298393024 [m] with 2193.0411298393024 [m] at HRU 13\n",
      "Replacing downHRUindex 62 [m] with 62 [m] at HRU 13\n",
      "Replacing elevation 2251.4697985453454 [m] with 2251.4697985453454 [m] at HRU 14\n",
      "Replacing downHRUindex 63 [m] with 63 [m] at HRU 14\n",
      "Replacing elevation 2262.1000473788886 [m] with 2262.1000473788886 [m] at HRU 15\n",
      "Replacing downHRUindex 64 [m] with 64 [m] at HRU 15\n",
      "Replacing elevation 2311.798003889686 [m] with 2311.798003889686 [m] at HRU 16\n",
      "Replacing downHRUindex 65 [m] with 65 [m] at HRU 16\n",
      "Replacing elevation 2293.1301961330055 [m] with 2293.1301961330055 [m] at HRU 17\n",
      "Replacing downHRUindex 66 [m] with 66 [m] at HRU 17\n",
      "Replacing elevation 2341.9224303943306 [m] with 2341.9224303943306 [m] at HRU 18\n",
      "Replacing downHRUindex 67 [m] with 67 [m] at HRU 18\n",
      "Replacing elevation 2380.264395329075 [m] with 2380.264395329075 [m] at HRU 19\n",
      "Replacing downHRUindex 68 [m] with 68 [m] at HRU 19\n",
      "Replacing elevation 2301.928243692535 [m] with 2301.928243692535 [m] at HRU 20\n",
      "Replacing downHRUindex 69 [m] with 69 [m] at HRU 20\n",
      "Replacing elevation 2257.3265592997454 [m] with 2257.3265592997454 [m] at HRU 21\n",
      "Replacing downHRUindex 70 [m] with 70 [m] at HRU 21\n",
      "Replacing elevation 2352.439437695002 [m] with 2352.439437695002 [m] at HRU 22\n",
      "Replacing downHRUindex 71 [m] with 71 [m] at HRU 22\n",
      "Replacing elevation 2333.8318323918893 [m] with 2333.8318323918893 [m] at HRU 23\n",
      "Replacing downHRUindex 72 [m] with 72 [m] at HRU 23\n",
      "Replacing elevation 2304.6155485563413 [m] with 2304.6155485563413 [m] at HRU 24\n",
      "Replacing downHRUindex 73 [m] with 73 [m] at HRU 24\n",
      "Replacing elevation 2282.8794914959362 [m] with 2282.8794914959362 [m] at HRU 25\n",
      "Replacing downHRUindex 74 [m] with 74 [m] at HRU 25\n",
      "Replacing elevation 2265.0246623817884 [m] with 2265.0246623817884 [m] at HRU 26\n",
      "Replacing downHRUindex 75 [m] with 75 [m] at HRU 26\n",
      "Replacing elevation 2234.6343787747865 [m] with 2234.6343787747865 [m] at HRU 27\n",
      "Replacing downHRUindex 76 [m] with 76 [m] at HRU 27\n",
      "Replacing elevation 2362.721576433616 [m] with 2362.721576433616 [m] at HRU 28\n",
      "Replacing downHRUindex 77 [m] with 77 [m] at HRU 28\n",
      "Replacing elevation 2327.208907950236 [m] with 2327.208907950236 [m] at HRU 29\n",
      "Replacing downHRUindex 78 [m] with 78 [m] at HRU 29\n",
      "Replacing elevation 2329.113305513756 [m] with 2329.113305513756 [m] at HRU 30\n",
      "Replacing downHRUindex 79 [m] with 79 [m] at HRU 30\n",
      "Replacing elevation 2305.7710661256215 [m] with 2305.7710661256215 [m] at HRU 31\n",
      "Replacing downHRUindex 80 [m] with 80 [m] at HRU 31\n",
      "Replacing elevation 2319.7143563098407 [m] with 2319.7143563098407 [m] at HRU 32\n",
      "Replacing downHRUindex 81 [m] with 81 [m] at HRU 32\n",
      "Replacing elevation 2415.539345052886 [m] with 2415.539345052886 [m] at HRU 33\n",
      "Replacing downHRUindex 82 [m] with 82 [m] at HRU 33\n",
      "Replacing elevation 2413.054304645063 [m] with 2413.054304645063 [m] at HRU 34\n",
      "Replacing downHRUindex 83 [m] with 83 [m] at HRU 34\n",
      "Replacing elevation 2371.327424044896 [m] with 2371.327424044896 [m] at HRU 35\n",
      "Replacing downHRUindex 84 [m] with 84 [m] at HRU 35\n",
      "Replacing elevation 2492.927133332092 [m] with 2492.927133332092 [m] at HRU 36\n",
      "Replacing downHRUindex 85 [m] with 85 [m] at HRU 36\n",
      "Replacing elevation 2357.0340437189216 [m] with 2357.0340437189216 [m] at HRU 37\n",
      "Replacing downHRUindex 86 [m] with 86 [m] at HRU 37\n",
      "Replacing elevation 2516.085360689106 [m] with 2516.085360689106 [m] at HRU 38\n",
      "Replacing downHRUindex 87 [m] with 87 [m] at HRU 38\n",
      "Replacing elevation 2399.790764952759 [m] with 2399.790764952759 [m] at HRU 39\n",
      "Replacing downHRUindex 88 [m] with 88 [m] at HRU 39\n",
      "Replacing elevation 2382.656989395468 [m] with 2382.656989395468 [m] at HRU 40\n",
      "Replacing downHRUindex 89 [m] with 89 [m] at HRU 40\n",
      "Replacing elevation 2364.009798590133 [m] with 2364.009798590133 [m] at HRU 41\n",
      "Replacing downHRUindex 90 [m] with 90 [m] at HRU 41\n",
      "Replacing elevation 2485.7857243688713 [m] with 2485.7857243688713 [m] at HRU 42\n",
      "Replacing downHRUindex 91 [m] with 91 [m] at HRU 42\n",
      "Replacing elevation 2413.538904729149 [m] with 2413.538904729149 [m] at HRU 43\n",
      "Replacing downHRUindex 92 [m] with 92 [m] at HRU 43\n",
      "Replacing elevation 2552.319670473011 [m] with 2552.319670473011 [m] at HRU 44\n",
      "Replacing downHRUindex 93 [m] with 93 [m] at HRU 44\n",
      "Replacing elevation 2430.2113419923253 [m] with 2430.2113419923253 [m] at HRU 45\n",
      "Replacing downHRUindex 94 [m] with 94 [m] at HRU 45\n",
      "Replacing elevation 2407.4173527545177 [m] with 2407.4173527545177 [m] at HRU 46\n",
      "Replacing downHRUindex 95 [m] with 95 [m] at HRU 46\n",
      "Replacing elevation 2398.2599948145635 [m] with 2398.2599948145635 [m] at HRU 47\n",
      "Replacing downHRUindex 96 [m] with 96 [m] at HRU 47\n",
      "Replacing elevation 2113.275575029089 [m] with 2113.275575029089 [m] at HRU 48\n",
      "Replacing downHRUindex 97 [m] with 97 [m] at HRU 48\n",
      "Replacing elevation 1704.8815968540737 [m] with 1704.8815968540737 [m] at HRU 49\n",
      "Replacing downHRUindex 100 [m] with 100 [m] at HRU 49\n",
      "Replacing elevation 1775.0189928296886 [m] with 1775.0189928296886 [m] at HRU 50\n",
      "Replacing downHRUindex 101 [m] with 101 [m] at HRU 50\n",
      "Replacing elevation 1744.985064444409 [m] with 1744.985064444409 [m] at HRU 51\n",
      "Replacing downHRUindex 102 [m] with 102 [m] at HRU 51\n",
      "Replacing elevation 1665.4638240180705 [m] with 1665.4638240180705 [m] at HRU 52\n",
      "Replacing downHRUindex 103 [m] with 103 [m] at HRU 52\n",
      "Replacing elevation 1738.7191887190781 [m] with 1738.7191887190781 [m] at HRU 53\n",
      "Replacing downHRUindex 104 [m] with 104 [m] at HRU 53\n",
      "Replacing elevation 1684.8137203694423 [m] with 1684.8137203694423 [m] at HRU 54\n",
      "Replacing downHRUindex 105 [m] with 105 [m] at HRU 54\n",
      "Replacing elevation 1678.4244692442846 [m] with 1678.4244692442846 [m] at HRU 55\n",
      "Replacing downHRUindex 106 [m] with 106 [m] at HRU 55\n",
      "Replacing elevation 1679.4948833739265 [m] with 1679.4948833739265 [m] at HRU 56\n",
      "Replacing downHRUindex 107 [m] with 107 [m] at HRU 56\n",
      "Replacing elevation 1709.6730152445498 [m] with 1709.6730152445498 [m] at HRU 57\n",
      "Replacing downHRUindex 0 [m] with 0 [m] at HRU 57\n",
      "Replacing elevation 1651.6449719923164 [m] with 1651.6449719923164 [m] at HRU 58\n",
      "Replacing downHRUindex 0 [m] with 0 [m] at HRU 58\n",
      "Replacing elevation 1618.189980397106 [m] with 1618.189980397106 [m] at HRU 59\n",
      "Replacing downHRUindex 0 [m] with 0 [m] at HRU 59\n",
      "Replacing elevation 1763.1302202019258 [m] with 1763.1302202019258 [m] at HRU 60\n",
      "Replacing downHRUindex 0 [m] with 0 [m] at HRU 60\n",
      "Replacing elevation 1845.3284817415126 [m] with 1845.3284817415126 [m] at HRU 61\n",
      "Replacing downHRUindex 0 [m] with 0 [m] at HRU 61\n",
      "Replacing elevation 1659.4221740126222 [m] with 1659.4221740126222 [m] at HRU 62\n",
      "Replacing downHRUindex 108 [m] with 108 [m] at HRU 62\n",
      "Replacing elevation 1727.5450937962864 [m] with 1727.5450937962864 [m] at HRU 63\n",
      "Replacing downHRUindex 109 [m] with 109 [m] at HRU 63\n",
      "Replacing elevation 1706.2268354907878 [m] with 1706.2268354907878 [m] at HRU 64\n",
      "Replacing downHRUindex 110 [m] with 110 [m] at HRU 64\n",
      "Replacing elevation 1796.2653492576833 [m] with 1796.2653492576833 [m] at HRU 65\n",
      "Replacing downHRUindex 0 [m] with 0 [m] at HRU 65\n",
      "Replacing elevation 1745.9620791015625 [m] with 1745.9620791015625 [m] at HRU 66\n",
      "Replacing downHRUindex 0 [m] with 0 [m] at HRU 66\n",
      "Replacing elevation 1718.4629421245725 [m] with 1718.4629421245725 [m] at HRU 67\n",
      "Replacing downHRUindex 111 [m] with 111 [m] at HRU 67\n",
      "Replacing elevation 1891.5113396812012 [m] with 1891.5113396812012 [m] at HRU 68\n",
      "Replacing downHRUindex 0 [m] with 0 [m] at HRU 68\n",
      "Replacing elevation 1774.5584678019272 [m] with 1774.5584678019272 [m] at HRU 69\n",
      "Replacing downHRUindex 112 [m] with 112 [m] at HRU 69\n",
      "Replacing elevation 1820.6775236419758 [m] with 1820.6775236419758 [m] at HRU 70\n",
      "Replacing downHRUindex 0 [m] with 0 [m] at HRU 70\n",
      "Replacing elevation 1851.7455949884697 [m] with 1851.7455949884697 [m] at HRU 71\n",
      "Replacing downHRUindex 0 [m] with 0 [m] at HRU 71\n",
      "Replacing elevation 1862.8642035457174 [m] with 1862.8642035457174 [m] at HRU 72\n",
      "Replacing downHRUindex 0 [m] with 0 [m] at HRU 72\n",
      "Replacing elevation 1829.3687234984898 [m] with 1829.3687234984898 [m] at HRU 73\n",
      "Replacing downHRUindex 0 [m] with 0 [m] at HRU 73\n",
      "Replacing elevation 1793.0929272320675 [m] with 1793.0929272320675 [m] at HRU 74\n",
      "Replacing downHRUindex 113 [m] with 113 [m] at HRU 74\n",
      "Replacing elevation 1753.8234884600572 [m] with 1753.8234884600572 [m] at HRU 75\n",
      "Replacing downHRUindex 114 [m] with 114 [m] at HRU 75\n",
      "Replacing elevation 1933.919295247396 [m] with 1933.919295247396 [m] at HRU 76\n",
      "Replacing downHRUindex 0 [m] with 0 [m] at HRU 76\n",
      "Replacing elevation 1900.0878893197387 [m] with 1900.0878893197387 [m] at HRU 77\n",
      "Replacing downHRUindex 0 [m] with 0 [m] at HRU 77\n",
      "Replacing elevation 1874.36350994975 [m] with 1874.36350994975 [m] at HRU 78\n",
      "Replacing downHRUindex 0 [m] with 0 [m] at HRU 78\n",
      "Replacing elevation 1861.6985952637085 [m] with 1861.6985952637085 [m] at HRU 79\n",
      "Replacing downHRUindex 0 [m] with 0 [m] at HRU 79\n",
      "Replacing elevation 1769.9297779075466 [m] with 1769.9297779075466 [m] at HRU 80\n",
      "Replacing downHRUindex 115 [m] with 115 [m] at HRU 80\n",
      "Replacing elevation 1845.7322665075606 [m] with 1845.7322665075606 [m] at HRU 81\n",
      "Replacing downHRUindex 0 [m] with 0 [m] at HRU 81\n",
      "Replacing elevation 1865.9531506917563 [m] with 1865.9531506917563 [m] at HRU 82\n",
      "Replacing downHRUindex 116 [m] with 116 [m] at HRU 82\n",
      "Replacing elevation 1874.7576618478367 [m] with 1874.7576618478367 [m] at HRU 83\n",
      "Replacing downHRUindex 0 [m] with 0 [m] at HRU 83\n",
      "Replacing elevation 1828.3330862389837 [m] with 1828.3330862389837 [m] at HRU 84\n",
      "Replacing downHRUindex 117 [m] with 117 [m] at HRU 84\n",
      "Replacing elevation 1797.1932520877829 [m] with 1797.1932520877829 [m] at HRU 85\n",
      "Replacing downHRUindex 0 [m] with 0 [m] at HRU 85\n",
      "Replacing elevation 1715.6011860771387 [m] with 1715.6011860771387 [m] at HRU 86\n",
      "Replacing downHRUindex 0 [m] with 0 [m] at HRU 86\n",
      "Replacing elevation 1879.1256612340999 [m] with 1879.1256612340999 [m] at HRU 87\n",
      "Replacing downHRUindex 0 [m] with 0 [m] at HRU 87\n",
      "Replacing elevation 1909.6004163864877 [m] with 1909.6004163864877 [m] at HRU 88\n",
      "Replacing downHRUindex 0 [m] with 0 [m] at HRU 88\n",
      "Replacing elevation 1758.5804202763911 [m] with 1758.5804202763911 [m] at HRU 89\n",
      "Replacing downHRUindex 0 [m] with 0 [m] at HRU 89\n",
      "Replacing elevation 1907.6234737221712 [m] with 1907.6234737221712 [m] at HRU 90\n",
      "Replacing downHRUindex 0 [m] with 0 [m] at HRU 90\n",
      "Replacing elevation 1815.5280036661727 [m] with 1815.5280036661727 [m] at HRU 91\n",
      "Replacing downHRUindex 0 [m] with 0 [m] at HRU 91\n",
      "Replacing elevation 1923.8615226081024 [m] with 1923.8615226081024 [m] at HRU 92\n",
      "Replacing downHRUindex 0 [m] with 0 [m] at HRU 92\n",
      "Replacing elevation 1929.2600221445862 [m] with 1929.2600221445862 [m] at HRU 93\n",
      "Replacing downHRUindex 0 [m] with 0 [m] at HRU 93\n",
      "Replacing elevation 1946.3547414463771 [m] with 1946.3547414463771 [m] at HRU 94\n",
      "Replacing downHRUindex 0 [m] with 0 [m] at HRU 94\n",
      "Replacing elevation 1934.536977016752 [m] with 1934.536977016752 [m] at HRU 95\n",
      "Replacing downHRUindex 0 [m] with 0 [m] at HRU 95\n",
      "Replacing elevation 1931.3799124358497 [m] with 1931.3799124358497 [m] at HRU 96\n",
      "Replacing downHRUindex 0 [m] with 0 [m] at HRU 96\n",
      "Replacing elevation 1694.167915267689 [m] with 1694.167915267689 [m] at HRU 97\n",
      "Replacing downHRUindex 118 [m] with 118 [m] at HRU 97\n",
      "Replacing elevation 1809.3268275310083 [m] with 1809.3268275310083 [m] at HRU 98\n",
      "Replacing downHRUindex 0 [m] with 0 [m] at HRU 98\n",
      "Replacing elevation 1542.3192467322717 [m] with 1542.3192467322717 [m] at HRU 99\n",
      "Replacing downHRUindex 0 [m] with 0 [m] at HRU 99\n",
      "Replacing elevation 1402.249187127386 [m] with 1402.249187127386 [m] at HRU 100\n",
      "Replacing downHRUindex 0 [m] with 0 [m] at HRU 100\n",
      "Replacing elevation 1419.5045562444948 [m] with 1419.5045562444948 [m] at HRU 101\n",
      "Replacing downHRUindex 0 [m] with 0 [m] at HRU 101\n",
      "Replacing elevation 1422.0794577998156 [m] with 1422.0794577998156 [m] at HRU 102\n",
      "Replacing downHRUindex 0 [m] with 0 [m] at HRU 102\n",
      "Replacing elevation 1439.8104171266095 [m] with 1439.8104171266095 [m] at HRU 103\n",
      "Replacing downHRUindex 0 [m] with 0 [m] at HRU 103\n",
      "Replacing elevation 1443.0692795596449 [m] with 1443.0692795596449 [m] at HRU 104\n",
      "Replacing downHRUindex 0 [m] with 0 [m] at HRU 104\n",
      "Replacing elevation 1464.18726551272 [m] with 1464.18726551272 [m] at HRU 105\n",
      "Replacing downHRUindex 0 [m] with 0 [m] at HRU 105\n",
      "Replacing elevation 1494.287981862811 [m] with 1494.287981862811 [m] at HRU 106\n",
      "Replacing downHRUindex 0 [m] with 0 [m] at HRU 106\n",
      "Replacing elevation 1499.0364102450285 [m] with 1499.0364102450285 [m] at HRU 107\n",
      "Replacing downHRUindex 0 [m] with 0 [m] at HRU 107\n",
      "Replacing elevation 1435.8498362714915 [m] with 1435.8498362714915 [m] at HRU 108\n",
      "Replacing downHRUindex 0 [m] with 0 [m] at HRU 108\n",
      "Replacing elevation 1415.8900537939314 [m] with 1415.8900537939314 [m] at HRU 109\n",
      "Replacing downHRUindex 0 [m] with 0 [m] at HRU 109\n",
      "Replacing elevation 1487.8250122070312 [m] with 1487.8250122070312 [m] at HRU 110\n",
      "Replacing downHRUindex 0 [m] with 0 [m] at HRU 110\n",
      "Replacing elevation 1470.2656053112398 [m] with 1470.2656053112398 [m] at HRU 111\n",
      "Replacing downHRUindex 0 [m] with 0 [m] at HRU 111\n",
      "Replacing elevation 1492.0629973234954 [m] with 1492.0629973234954 [m] at HRU 112\n",
      "Replacing downHRUindex 0 [m] with 0 [m] at HRU 112\n",
      "Replacing elevation 1484.7316059313323 [m] with 1484.7316059313323 [m] at HRU 113\n",
      "Replacing downHRUindex 0 [m] with 0 [m] at HRU 113\n",
      "Replacing elevation 1442.9007405891693 [m] with 1442.9007405891693 [m] at HRU 114\n",
      "Replacing downHRUindex 0 [m] with 0 [m] at HRU 114\n",
      "Replacing elevation 1467.2970581054688 [m] with 1467.2970581054688 [m] at HRU 115\n",
      "Replacing downHRUindex 0 [m] with 0 [m] at HRU 115\n",
      "Replacing elevation 1502.0999755859375 [m] with 1502.0999755859375 [m] at HRU 116\n",
      "Replacing downHRUindex 0 [m] with 0 [m] at HRU 116\n",
      "Replacing elevation 1440.976313954776 [m] with 1440.976313954776 [m] at HRU 117\n",
      "Replacing downHRUindex 0 [m] with 0 [m] at HRU 117\n",
      "Replacing elevation 1409.597142016794 [m] with 1409.597142016794 [m] at HRU 118\n",
      "Replacing downHRUindex 0 [m] with 0 [m] at HRU 118\n"
     ]
    }
   ],
   "source": [
    "# Open the netcdf file for reading+writing\n",
    "with nc4.Dataset(attribute_path/attribute_name, \"r+\") as att:\n",
    "    \n",
    "    # Loop over the HRUs in the attributes\n",
    "    for idx in range(0,len(att['hruId'])):\n",
    "        \n",
    "        # Find the HRU ID (attributes file) at this index\n",
    "        attribute_hru = att['hruId'][idx]\n",
    "    \n",
    "        # Find the row in the shapefile that contains info for this HRU\n",
    "        shp_mask = (shp[intersect_hruId_var].astype(int) == attribute_hru)\n",
    "        \n",
    "        # Find the elevation & downHRUindex\n",
    "        tmp_elev = shp['elev_mean'][shp_mask].values[0]\n",
    "        tmp_down = shp['downHRUindex'][shp_mask].values[0]\n",
    "        \n",
    "        # Replace the value\n",
    "        print('Replacing elevation {} [m] with {} [m] at HRU {}'.format(att['elevation'][idx],tmp_elev,attribute_hru))\n",
    "        att['elevation'][idx] = tmp_elev\n",
    "        \n",
    "        if do_downHRUindex.lower() == 'yes':\n",
    "            print('Replacing downHRUindex {} with {} at HRU {}'.format(att['downHRUindex'][idx],tmp_down,attribute_hru))\n",
    "            att['downHRUindex'][idx] = tmp_down"
   ]
  },
  {
   "cell_type": "markdown",
   "metadata": {},
   "source": [
    "## Check\n",
    "Plot the elevations."
   ]
  },
  {
   "cell_type": "code",
   "execution_count": 17,
   "metadata": {},
   "outputs": [],
   "source": [
    "import xarray as xr\n",
    "import matplotlib as mpl\n",
    "import matplotlib.pyplot as plt"
   ]
  },
  {
   "cell_type": "code",
   "execution_count": 18,
   "metadata": {},
   "outputs": [],
   "source": [
    "# Open the files \n",
    "shp = gpd.read_file(intersect_path/intersect_name)\n",
    "att = xr.open_dataset(attribute_path/attribute_name)"
   ]
  },
  {
   "cell_type": "code",
   "execution_count": 19,
   "metadata": {},
   "outputs": [],
   "source": [
    "# Set HRU IDs as index in the shape\n",
    "shp = shp.set_index(intersect_hruId_var)"
   ]
  },
  {
   "cell_type": "code",
   "execution_count": 20,
   "metadata": {},
   "outputs": [],
   "source": [
    "# Sort the shape to match the order of the attributes\n",
    "shp = shp.loc[att['hruId'].values]"
   ]
  },
  {
   "cell_type": "code",
   "execution_count": 21,
   "metadata": {},
   "outputs": [],
   "source": [
    "# temporarily store the soiltype in the shape for plotting\n",
    "shp['elevation'] = att['elevation'][:]"
   ]
  },
  {
   "cell_type": "code",
   "execution_count": 22,
   "metadata": {},
   "outputs": [
    {
     "data": {
      "image/png": "[encoded data removed]",
      "text/plain": [
       "<Figure size 1152x576 with 2 Axes>"
      ]
     },
     "metadata": {
      "needs_background": "light"
     },
     "output_type": "display_data"
    }
   ],
   "source": [
    "# Make a plot to see what we did\n",
    "shp.plot(column='elevation',figsize=(16,8), legend=True,edgecolor='k')\n",
    "ax = plt.gca()\n",
    "ax.set_title('MERIT-derived elevation');"
   ]
  },
  {
   "cell_type": "code",
   "execution_count": null,
   "metadata": {},
   "outputs": [],
   "source": [
    "# Close the netCDF file\n",
    "att.close()"
   ]
  },
  {
   "cell_type": "markdown",
   "metadata": {},
   "source": [
    "#### Code provenance\n",
    "Generates a basic log file in the domain folder and copies the control file and itself there."
   ]
  },
  {
   "cell_type": "code",
   "execution_count": 23,
   "metadata": {},
   "outputs": [],
   "source": [
    "# Set the log path and file name\n",
    "logPath = attribute_path\n",
    "log_suffix = '_add_elevation_to_attributes.txt'"
   ]
  },
  {
   "cell_type": "code",
   "execution_count": 24,
   "metadata": {},
   "outputs": [],
   "source": [
    "# Create a log folder\n",
    "logFolder = '_workflow_log'\n",
    "Path( logPath / logFolder ).mkdir(parents=True, exist_ok=True)"
   ]
  },
  {
   "cell_type": "code",
   "execution_count": 25,
   "metadata": {},
   "outputs": [],
   "source": [
    "# Copy this script\n",
    "thisFile = '2c_insert_elevation_into_attributes.ipynb'\n",
    "copyfile(thisFile, logPath / logFolder / thisFile);"
   ]
  },
  {
   "cell_type": "code",
   "execution_count": 26,
   "metadata": {},
   "outputs": [],
   "source": [
    "# Get current date and time\n",
    "now = datetime.now()"
   ]
  },
  {
   "cell_type": "code",
   "execution_count": 27,
   "metadata": {},
   "outputs": [],
   "source": [
    "# Create a log file \n",
    "logFile = now.strftime('%Y%m%d') + log_suffix\n",
    "with open( logPath / logFolder / logFile, 'w') as file:\n",
    "    \n",
    "    lines = ['Log generated by ' + thisFile + ' on ' + now.strftime('%Y/%m/%d %H:%M:%S') + '\\n',\n",
    "             'Added elevation to attributes .nc file.']\n",
    "    for txt in lines:\n",
    "        file.write(txt) "
   ]
  },
  {
   "cell_type": "code",
   "execution_count": null,
   "metadata": {},
   "outputs": [],
   "source": []
  }
 ],
 "metadata": {
  "kernelspec": {
   "display_name": "summa-env",
   "language": "python",
   "name": "summa-env"
  },
  "language_info": {
   "codemirror_mode": {
    "name": "ipython",
    "version": 3
   },
   "file_extension": ".py",
   "mimetype": "text/x-python",
   "name": "python",
   "nbconvert_exporter": "python",
   "pygments_lexer": "ipython3",
   "version": "3.8.8"
  }
 },
 "nbformat": 4,
 "nbformat_minor": 4
}
