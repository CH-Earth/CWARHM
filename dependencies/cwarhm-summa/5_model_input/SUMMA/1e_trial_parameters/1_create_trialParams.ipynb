{
 "cells": [
  {
   "cell_type": "markdown",
   "metadata": {},
   "source": [
    "# Create trialParams.nc\n",
    "Creates empty `trialParams.nc` file for SUMMA runs. This file will initially be empty, but can later be populated with parameter values the user whishes to test.\n",
    "\n",
    "## Note on HRU order\n",
    "HRU order must be the same in forcing, attributes, initial conditions and trial parameter files. Order will be taken from forcing files to ensure consistency."
   ]
  },
  {
   "cell_type": "code",
   "execution_count": 50,
   "metadata": {},
   "outputs": [],
   "source": [
    "# modules\n",
    "import os\n",
    "import numpy as np\n",
    "import xarray as xr\n",
    "import netCDF4 as nc4\n",
    "from pathlib import Path\n",
    "from shutil import copyfile\n",
    "from datetime import datetime"
   ]
  },
  {
   "cell_type": "markdown",
   "metadata": {},
   "source": [
    "#### Control file handling"
   ]
  },
  {
   "cell_type": "code",
   "execution_count": 2,
   "metadata": {},
   "outputs": [],
   "source": [
    "# Easy access to control file folder\n",
    "controlFolder = Path('../../../0_control_files')"
   ]
  },
  {
   "cell_type": "code",
   "execution_count": 3,
   "metadata": {},
   "outputs": [],
   "source": [
    "# Store the name of the 'active' file in a variable\n",
    "controlFile = 'control_active.txt'"
   ]
  },
  {
   "cell_type": "code",
   "execution_count": 4,
   "metadata": {},
   "outputs": [],
   "source": [
    "# Function to extract a given setting from the control file\n",
    "def read_from_control( file, setting ):\n",
    "    \n",
    "    # Open 'control_active.txt' and ...\n",
    "    with open(file) as contents:\n",
    "        for line in contents:\n",
    "            \n",
    "            # ... find the line with the requested setting\n",
    "            if setting in line and not line.startswith('#'):\n",
    "                break\n",
    "    \n",
    "    # Extract the setting's value\n",
    "    substring = line.split('|',1)[1]      # Remove the setting's name (split into 2 based on '|', keep only 2nd part)\n",
    "    substring = substring.split('#',1)[0] # Remove comments, does nothing if no '#' is found\n",
    "    substring = substring.strip()         # Remove leading and trailing whitespace, tabs, newlines\n",
    "       \n",
    "    # Return this value    \n",
    "    return substring"
   ]
  },
  {
   "cell_type": "code",
   "execution_count": 5,
   "metadata": {},
   "outputs": [],
   "source": [
    "# Function to specify a default path\n",
    "def make_default_path(suffix):\n",
    "    \n",
    "    # Get the root path\n",
    "    rootPath = Path( read_from_control(controlFolder/controlFile,'root_path') )\n",
    "    \n",
    "    # Get the domain folder\n",
    "    domainName = read_from_control(controlFolder/controlFile,'domain_name')\n",
    "    domainFolder = 'domain_' + domainName\n",
    "    \n",
    "    # Specify the forcing path\n",
    "    defaultPath = rootPath / domainFolder / suffix\n",
    "    \n",
    "    return defaultPath"
   ]
  },
  {
   "cell_type": "markdown",
   "metadata": {},
   "source": [
    "#### Find forcing location and an example file"
   ]
  },
  {
   "cell_type": "code",
   "execution_count": 6,
   "metadata": {},
   "outputs": [],
   "source": [
    "# Forcing path\n",
    "forcing_path = read_from_control(controlFolder/controlFile,'forcing_summa_path')"
   ]
  },
  {
   "cell_type": "code",
   "execution_count": 7,
   "metadata": {},
   "outputs": [],
   "source": [
    "# Specify default path if needed\n",
    "if forcing_path == 'default':\n",
    "    forcing_path = make_default_path('forcing/4_SUMMA_input') # outputs a Path()\n",
    "else:\n",
    "    forcing_path = Path(forcing_path) # make sure a user-specified path is a Path()"
   ]
  },
  {
   "cell_type": "code",
   "execution_count": 8,
   "metadata": {},
   "outputs": [],
   "source": [
    "# Find a list of forcing files\n",
    "_,_,forcing_files = next(os.walk(forcing_path))"
   ]
  },
  {
   "cell_type": "code",
   "execution_count": 9,
   "metadata": {},
   "outputs": [],
   "source": [
    "# Select a random file as a template for hruId order\n",
    "forcing_name = forcing_files[0]"
   ]
  },
  {
   "cell_type": "markdown",
   "metadata": {},
   "source": [
    "#### Find where the trial parameter file needs to go"
   ]
  },
  {
   "cell_type": "code",
   "execution_count": 10,
   "metadata": {},
   "outputs": [],
   "source": [
    "# Trial parameter path & name\n",
    "parameter_path = read_from_control(controlFolder/controlFile,'settings_summa_path')\n",
    "parameter_name = read_from_control(controlFolder/controlFile,'settings_summa_trialParams')"
   ]
  },
  {
   "cell_type": "code",
   "execution_count": 11,
   "metadata": {},
   "outputs": [],
   "source": [
    "# Specify default path if needed\n",
    "if parameter_path == 'default':\n",
    "    parameter_path = make_default_path('settings/SUMMA') # outputs a Path()\n",
    "else:\n",
    "    parameter_path = Path(parameter_path) # make sure a user-specified path is a Path()"
   ]
  },
  {
   "cell_type": "code",
   "execution_count": 12,
   "metadata": {},
   "outputs": [],
   "source": [
    "# Make the folder if it doesn't exist\n",
    "parameter_path.mkdir(parents=True, exist_ok=True)"
   ]
  },
  {
   "cell_type": "markdown",
   "metadata": {},
   "source": [
    "#### Find order and number of HRUs in forcing file"
   ]
  },
  {
   "cell_type": "code",
   "execution_count": 13,
   "metadata": {},
   "outputs": [],
   "source": [
    "# Open the forcing file\n",
    "forc = xr.open_dataset(forcing_path/forcing_name)"
   ]
  },
  {
   "cell_type": "code",
   "execution_count": 14,
   "metadata": {},
   "outputs": [],
   "source": [
    "# Get the sorting order from the forcing file\n",
    "forcing_hruIds = forc['hruId'].values.astype(int) # 'hruId' is prescribed by SUMMA so this variable must exist"
   ]
  },
  {
   "cell_type": "code",
   "execution_count": 15,
   "metadata": {},
   "outputs": [],
   "source": [
    "# Number of HRUs\n",
    "num_hru = len(forcing_hruIds)"
   ]
  },
  {
   "cell_type": "markdown",
   "metadata": {},
   "source": [
    "#### Read any other trial parameters that need to be specified"
   ]
  },
  {
   "cell_type": "code",
   "execution_count": 60,
   "metadata": {},
   "outputs": [],
   "source": [
    "num_tp = int( read_from_control(controlFolder/controlFile,'settings_summa_trialParam_n') )"
   ]
  },
  {
   "cell_type": "code",
   "execution_count": 61,
   "metadata": {},
   "outputs": [],
   "source": [
    "# read the names and values of trial parameters to specify\n",
    "all_tp = {}\n",
    "for ii in range(0,num_tp):\n",
    "    \n",
    "    # Get the values\n",
    "    par_and_val = read_from_control(controlFolder/controlFile,f'settings_summa_trialParam_{ii+1}')\n",
    "    \n",
    "    # Split into parameter and value\n",
    "    arr = par_and_val.split(',')\n",
    "    \n",
    "    # Convert value(s) into float\n",
    "    if len(arr) > 2:\n",
    "        # Store all values as an array of floats    \n",
    "        val = np.array(arr[1:], dtype=np.float32)\n",
    "    else: \n",
    "        # Convert the single value to a float\n",
    "        val = float( arr[1] )\n",
    "        \n",
    "    # Store in dictionary\n",
    "    all_tp[arr[0]] = val"
   ]
  },
  {
   "cell_type": "markdown",
   "metadata": {},
   "source": [
    "#### Make the trial parameter file"
   ]
  },
  {
   "cell_type": "code",
   "execution_count": 63,
   "metadata": {},
   "outputs": [],
   "source": [
    "# Create the empty trial params file\n",
    "with nc4.Dataset(parameter_path/parameter_name, \"w\", format=\"NETCDF4\") as tp:\n",
    "    \n",
    "    # === Some general attributes\n",
    "    now = datetime.now()\n",
    "    tp.setncattr('Author', \"Created by SUMMA workflow scripts\")\n",
    "    tp.setncattr('History','Created ' + now.strftime('%Y/%m/%d %H:%M:%S'))\n",
    "    tp.setncattr('Purpose','Create a trial parameter .nc file for initial SUMMA runs')\n",
    "    \n",
    "    # === Define the dimensions \n",
    "    tp.createDimension('hru',num_hru)\n",
    "    \n",
    "    # === Variables ===\n",
    "    var = 'hruId'\n",
    "    tp.createVariable(var, 'i4', 'hru', fill_value = False)\n",
    "    tp[var].setncattr('units', '-')\n",
    "    tp[var].setncattr('long_name', 'Index of hydrological response unit (HRU)')\n",
    "    tp[var][:] = forcing_hruIds\n",
    "    \n",
    "    # Loop over any specified trial parameters and store in file\n",
    "    for var,val in all_tp.items():\n",
    "        tp.createVariable(var, 'f8', 'hru', fill_value = False)\n",
    "        tp[var][:] = val    "
   ]
  },
  {
   "cell_type": "markdown",
   "metadata": {},
   "source": [
    "#### Code provenance\n",
    "Generates a basic log file in the domain folder and copies the control file and itself there."
   ]
  },
  {
   "cell_type": "code",
   "execution_count": 21,
   "metadata": {},
   "outputs": [],
   "source": [
    "# Set the log path and file name\n",
    "logPath = parameter_path\n",
    "log_suffix = '_make_trial_parameter_file.txt'"
   ]
  },
  {
   "cell_type": "code",
   "execution_count": 22,
   "metadata": {},
   "outputs": [],
   "source": [
    "# Create a log folder\n",
    "logFolder = '_workflow_log'\n",
    "Path( logPath / logFolder ).mkdir(parents=True, exist_ok=True)"
   ]
  },
  {
   "cell_type": "code",
   "execution_count": 23,
   "metadata": {},
   "outputs": [],
   "source": [
    "# Copy this script\n",
    "thisFile = '1_create_trialParams.ipynb'\n",
    "copyfile(thisFile, logPath / logFolder / thisFile);"
   ]
  },
  {
   "cell_type": "code",
   "execution_count": 24,
   "metadata": {},
   "outputs": [],
   "source": [
    "# Get current date and time\n",
    "now = datetime.now()"
   ]
  },
  {
   "cell_type": "code",
   "execution_count": 25,
   "metadata": {},
   "outputs": [],
   "source": [
    "# Create a log file \n",
    "logFile = now.strftime('%Y%m%d') + log_suffix\n",
    "with open( logPath / logFolder / logFile, 'w') as file:\n",
    "    \n",
    "    lines = ['Log generated by ' + thisFile + ' on ' + now.strftime('%Y/%m/%d %H:%M:%S') + '\\n',\n",
    "             'Generated trial parameter .nc file.']\n",
    "    for txt in lines:\n",
    "        file.write(txt) "
   ]
  },
  {
   "cell_type": "code",
   "execution_count": null,
   "metadata": {},
   "outputs": [],
   "source": []
  }
 ],
 "metadata": {
  "kernelspec": {
   "display_name": "summa-env",
   "language": "python",
   "name": "summa-env"
  },
  "language_info": {
   "codemirror_mode": {
    "name": "ipython",
    "version": 3
   },
   "file_extension": ".py",
   "mimetype": "text/x-python",
   "name": "python",
   "nbconvert_exporter": "python",
   "pygments_lexer": "ipython3",
   "version": "3.8.8"
  }
 },
 "nbformat": 4,
 "nbformat_minor": 4
}
