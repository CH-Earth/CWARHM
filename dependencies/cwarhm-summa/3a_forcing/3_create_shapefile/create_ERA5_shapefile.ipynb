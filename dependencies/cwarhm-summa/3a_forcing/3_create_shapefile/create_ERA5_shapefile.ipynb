{
 "cells": [
  {
   "cell_type": "markdown",
   "metadata": {},
   "source": [
    "# Make ERA5 shapefile\n",
    "The shapefile for the forcing data needs to represent the regular latitude/longitude grid of the ERA5 data. We need this for later intersection with the catchment shape(s) so we can create appropriately weighted forcing for each model element. \n",
    "\n",
    "Note that ERA5 data should be thought of as being provided for a specific point in space. These points are the lat/lon coordinates found as netcdf dimensions in the data files. Here, these coordinates will act as center points for a grid. Each point is assumed to be representative for an equal-sized area around itself. See: https://confluence.ecmwf.int/display/CKB/ERA5%3A+What+is+the+spatial+reference\n",
    "\n",
    "We'll also add the elevation of each ERA5 grid cell for later temperature lapse rates. As per ERA5 docs, geopotential `[m^2 s^-2]` can be divided by `g=9.80665` `[m s^-2]` to obtain ERA5 elevation in `[m]`. Source: https://confluence.ecmwf.int/display/CKB/ERA5%3A+surface+elevation+and+orography#ERA5:surfaceelevationandorography-Howtocalculatesurfacegeopotentialheight\n",
    "\n",
    "#### Acknowledgements\n",
    "The code to generate the shapefile is inspired by a function from the EASYMORE toolbox: https://github.com/ShervanGharari/EASYMORE/. "
   ]
  },
  {
   "cell_type": "code",
   "execution_count": 1,
   "metadata": {},
   "outputs": [],
   "source": [
    "# modules\n",
    "import os\n",
    "import shapefile # this is installed as \"PyShp\" library\n",
    "import numpy as np\n",
    "import xarray as xr\n",
    "import netCDF4 as nc4\n",
    "import geopandas as gpd\n",
    "from pathlib import Path\n",
    "from shutil import copyfile\n",
    "from datetime import datetime\n",
    "import matplotlib.pyplot as plt"
   ]
  },
  {
   "cell_type": "markdown",
   "metadata": {},
   "source": [
    "#### Control file handling"
   ]
  },
  {
   "cell_type": "code",
   "execution_count": 2,
   "metadata": {},
   "outputs": [],
   "source": [
    "# Easy access to control file folder\n",
    "controlFolder = Path('../../0_control_files')"
   ]
  },
  {
   "cell_type": "code",
   "execution_count": 3,
   "metadata": {},
   "outputs": [],
   "source": [
    "# Store the name of the 'active' file in a variable\n",
    "controlFile = 'control_active.txt'"
   ]
  },
  {
   "cell_type": "code",
   "execution_count": 4,
   "metadata": {},
   "outputs": [],
   "source": [
    "# Function to extract a given setting from the control file\n",
    "def read_from_control( file, setting ):\n",
    "    \n",
    "    # Open 'control_active.txt' and ...\n",
    "    with open(file) as contents:\n",
    "        for line in contents:\n",
    "            \n",
    "            # ... find the line with the requested setting\n",
    "            if setting in line and not line.startswith('#'):\n",
    "                break\n",
    "    \n",
    "    # Extract the setting's value\n",
    "    substring = line.split('|',1)[1]      # Remove the setting's name (split into 2 based on '|', keep only 2nd part)\n",
    "    substring = substring.split('#',1)[0] # Remove comments, does nothing if no '#' is found\n",
    "    substring = substring.strip()         # Remove leading and trailing whitespace, tabs, newlines\n",
    "       \n",
    "    # Return this value    \n",
    "    return substring"
   ]
  },
  {
   "cell_type": "code",
   "execution_count": 5,
   "metadata": {},
   "outputs": [],
   "source": [
    "# Function to specify a default path\n",
    "def make_default_path(suffix):\n",
    "    \n",
    "    # Get the root path\n",
    "    rootPath = Path( read_from_control(controlFolder/controlFile,'root_path') )\n",
    "    \n",
    "    # Get the domain folder\n",
    "    domainName = read_from_control(controlFolder/controlFile,'domain_name')\n",
    "    domainFolder = 'domain_' + domainName\n",
    "    \n",
    "    # Specify the forcing path\n",
    "    defaultPath = rootPath / domainFolder / suffix\n",
    "    \n",
    "    return defaultPath"
   ]
  },
  {
   "cell_type": "markdown",
   "metadata": {},
   "source": [
    "#### Find location of merged forcing data"
   ]
  },
  {
   "cell_type": "code",
   "execution_count": 6,
   "metadata": {},
   "outputs": [],
   "source": [
    "# Find the path where the merged forcing is\n",
    "mergePath = read_from_control(controlFolder/controlFile,'forcing_merged_path')"
   ]
  },
  {
   "cell_type": "code",
   "execution_count": 7,
   "metadata": {},
   "outputs": [],
   "source": [
    "# Specify the default path if required\n",
    "if mergePath == 'default':\n",
    "    mergePath = make_default_path('forcing/2_merged_data')\n",
    "else: \n",
    "    mergePath = Path(mergePath) # ensure Path() object "
   ]
  },
  {
   "cell_type": "markdown",
   "metadata": {},
   "source": [
    "#### Find spatial extent of domain"
   ]
  },
  {
   "cell_type": "code",
   "execution_count": 8,
   "metadata": {},
   "outputs": [],
   "source": [
    "# Find which locations to download\n",
    "coordinates = read_from_control(controlFolder/controlFile,'forcing_raw_space')"
   ]
  },
  {
   "cell_type": "markdown",
   "metadata": {},
   "source": [
    "#### Find location of geopotential data file"
   ]
  },
  {
   "cell_type": "code",
   "execution_count": 9,
   "metadata": {},
   "outputs": [],
   "source": [
    "# Find file path\n",
    "geoPath = read_from_control(controlFolder/controlFile,'forcing_geo_path')"
   ]
  },
  {
   "cell_type": "code",
   "execution_count": 10,
   "metadata": {},
   "outputs": [],
   "source": [
    "# Specify the default path if required\n",
    "if geoPath == 'default':\n",
    "    geoPath = make_default_path('forcing/0_geopotential')\n",
    "else: \n",
    "    geoPath = Path(geoPath) # ensure Path() object "
   ]
  },
  {
   "cell_type": "code",
   "execution_count": 11,
   "metadata": {},
   "outputs": [],
   "source": [
    "# Specify the filename\n",
    "geoName = 'ERA5_geopotential.nc'"
   ]
  },
  {
   "cell_type": "markdown",
   "metadata": {},
   "source": [
    "#### Find where the shapefile needs to go"
   ]
  },
  {
   "cell_type": "code",
   "execution_count": 12,
   "metadata": {},
   "outputs": [],
   "source": [
    "# Find the path where the new shapefile needs to go\n",
    "shapePath = read_from_control(controlFolder/controlFile,'forcing_shape_path')"
   ]
  },
  {
   "cell_type": "code",
   "execution_count": 13,
   "metadata": {},
   "outputs": [],
   "source": [
    "# Specify the default path if required\n",
    "if shapePath == 'default':\n",
    "    shapePath = make_default_path('shapefiles/forcing')\n",
    "else: \n",
    "    shapePath = Path(shapePath) # ensure Path() object "
   ]
  },
  {
   "cell_type": "code",
   "execution_count": 14,
   "metadata": {},
   "outputs": [],
   "source": [
    "# Find name of the new shapefil\n",
    "shapeName = read_from_control(controlFolder/controlFile,'forcing_shape_name')"
   ]
  },
  {
   "cell_type": "code",
   "execution_count": 15,
   "metadata": {},
   "outputs": [],
   "source": [
    "# Find the names of the latitude and longitude fields\n",
    "field_lat = read_from_control(controlFolder/controlFile,'forcing_shape_lat_name')\n",
    "field_lon = read_from_control(controlFolder/controlFile,'forcing_shape_lon_name')"
   ]
  },
  {
   "cell_type": "markdown",
   "metadata": {},
   "source": [
    "#### Read the source file to find the grid spacing"
   ]
  },
  {
   "cell_type": "code",
   "execution_count": 16,
   "metadata": {},
   "outputs": [],
   "source": [
    "# Find an .nc file in the forcing path\n",
    "for file in os.listdir(mergePath):\n",
    "    if file.endswith('.nc'):\n",
    "        forcing_file = file\n",
    "        break"
   ]
  },
  {
   "cell_type": "code",
   "execution_count": 17,
   "metadata": {},
   "outputs": [],
   "source": [
    "# Set the dimension variable names\n",
    "source_name_lat = \"latitude\"\n",
    "source_name_lon = \"longitude\""
   ]
  },
  {
   "cell_type": "code",
   "execution_count": 18,
   "metadata": {},
   "outputs": [],
   "source": [
    "# Open the file and get the dimensions\n",
    "with nc4.Dataset(mergePath / forcing_file) as src:\n",
    "    lat = src.variables[source_name_lat][:]\n",
    "    lon = src.variables[source_name_lon][:]"
   ]
  },
  {
   "cell_type": "code",
   "execution_count": 19,
   "metadata": {},
   "outputs": [],
   "source": [
    "# Find the spacing\n",
    "half_dlat = abs(lat[1] - lat[0])/2\n",
    "half_dlon = abs(lon[1] - lon[0])/2"
   ]
  },
  {
   "cell_type": "markdown",
   "metadata": {},
   "source": [
    "#### Create the new shape"
   ]
  },
  {
   "cell_type": "code",
   "execution_count": 21,
   "metadata": {},
   "outputs": [],
   "source": [
    "# create a new shapefile object\n",
    "with shapefile.Writer(str(shapePath / shapeName)) as w:\n",
    "    w.autoBalance = 1 # turn on function that keeps file stable if number of shapes and records don't line up\n",
    "    w.field(\"ID\",'N') # create (N)umerical attribute fields, integer\n",
    "    w.field(field_lat,'F',decimal=4) # float with 4 decimals\n",
    "    w.field(field_lon,'F',decimal=4)\n",
    "    ID = 0 # start ID counter of empty\n",
    "    \n",
    "    for i in range(0,len(lon)):\n",
    "        for j in range(0,len(lat)):\n",
    "            ID += 1\n",
    "            center_lon = lon[i]\n",
    "            center_lat = lat[j]\n",
    "            vertices = []\n",
    "            parts = []\n",
    "            vertices.append([center_lon-half_dlon, center_lat])\n",
    "            vertices.append([center_lon-half_dlon, center_lat+half_dlat])\n",
    "            vertices.append([center_lon          , center_lat+half_dlat])\n",
    "            vertices.append([center_lon+half_dlon, center_lat+half_dlat])\n",
    "            vertices.append([center_lon+half_dlon, center_lat])\n",
    "            vertices.append([center_lon+half_dlon, center_lat-half_dlat])\n",
    "            vertices.append([center_lon          , center_lat-half_dlat])\n",
    "            vertices.append([center_lon-half_dlon, center_lat-half_dlat])\n",
    "            vertices.append([center_lon-half_dlon, center_lat])\n",
    "            parts.append(vertices)\n",
    "            w.poly(parts)\n",
    "            w.record(ID, center_lat, center_lon)"
   ]
  },
  {
   "cell_type": "code",
   "execution_count": 22,
   "metadata": {},
   "outputs": [
    {
     "data": {
      "image/png": "[encoded data removed]",
      "text/plain": [
       "<Figure size 720x720 with 1 Axes>"
      ]
     },
     "metadata": {
      "needs_background": "light"
     },
     "output_type": "display_data"
    }
   ],
   "source": [
    "# plot the shapefile to see if this matches the bounds\n",
    "shp = gpd.read_file( shapePath / shapeName )\n",
    "shp.plot(figsize=(10,10), facecolor='none', edgecolor='b');\n",
    "plt.title('Grid should cover catchment bounding box [{}]'.format(coordinates));"
   ]
  },
  {
   "cell_type": "markdown",
   "metadata": {},
   "source": [
    "#### Add the geopotential data to the shape"
   ]
  },
  {
   "cell_type": "code",
   "execution_count": 23,
   "metadata": {},
   "outputs": [],
   "source": [
    "# Open the geopotential data file\n",
    "geo = xr.open_dataset( geoPath / geoName ).isel(time=0)"
   ]
  },
  {
   "cell_type": "code",
   "execution_count": 24,
   "metadata": {},
   "outputs": [
    {
     "data": {
      "image/png": "[encoded data removed]",
      "text/plain": [
       "<Figure size 432x288 with 2 Axes>"
      ]
     },
     "metadata": {
      "needs_background": "light"
     },
     "output_type": "display_data"
    }
   ],
   "source": [
    "# plot the geopotential data to check\n",
    "geo['z'].plot();"
   ]
  },
  {
   "cell_type": "code",
   "execution_count": 25,
   "metadata": {},
   "outputs": [],
   "source": [
    "# Open shapefile (again)\n",
    "shp = gpd.read_file( shapePath / shapeName )"
   ]
  },
  {
   "cell_type": "code",
   "execution_count": 26,
   "metadata": {},
   "outputs": [],
   "source": [
    "# Define the constant\n",
    "g = 9.80665"
   ]
  },
  {
   "cell_type": "code",
   "execution_count": 27,
   "metadata": {},
   "outputs": [],
   "source": [
    "# Add new column to shapefile\n",
    "shp = shp.assign(elev_m = -999)  # insert a placeholder value"
   ]
  },
  {
   "cell_type": "code",
   "execution_count": 28,
   "metadata": {},
   "outputs": [],
   "source": [
    "# For each row in the shapefile, match its ERA5 lat/lon coordinates \n",
    "# with those in the 'geo' file and extract the appropriate geopotential\n",
    "for index, row in shp.iterrows():\n",
    "       \n",
    "    # Find elevation\n",
    "    elev = geo['z'].sel(latitude = row['lat'], longitude=row['lon']).values.flatten() / g\n",
    "    \n",
    "    # Add elevation into shapefile\n",
    "    shp.at[index,'elev_m'] = elev[0]"
   ]
  },
  {
   "cell_type": "code",
   "execution_count": 29,
   "metadata": {},
   "outputs": [
    {
     "data": {
      "text/html": [
       "<div>\n",
       "<style scoped>\n",
       "    .dataframe tbody tr th:only-of-type {\n",
       "        vertical-align: middle;\n",
       "    }\n",
       "\n",
       "    .dataframe tbody tr th {\n",
       "        vertical-align: top;\n",
       "    }\n",
       "\n",
       "    .dataframe thead th {\n",
       "        text-align: right;\n",
       "    }\n",
       "</style>\n",
       "<table border=\"1\" class=\"dataframe\">\n",
       "  <thead>\n",
       "    <tr style=\"text-align: right;\">\n",
       "      <th></th>\n",
       "      <th>ID</th>\n",
       "      <th>lat</th>\n",
       "      <th>lon</th>\n",
       "      <th>geometry</th>\n",
       "      <th>elev_m</th>\n",
       "    </tr>\n",
       "  </thead>\n",
       "  <tbody>\n",
       "    <tr>\n",
       "      <th>0</th>\n",
       "      <td>1.0</td>\n",
       "      <td>51.75</td>\n",
       "      <td>-116.50</td>\n",
       "      <td>POLYGON ((-116.62500 51.75000, -116.62500 51.8...</td>\n",
       "      <td>2243</td>\n",
       "    </tr>\n",
       "    <tr>\n",
       "      <th>1</th>\n",
       "      <td>2.0</td>\n",
       "      <td>51.50</td>\n",
       "      <td>-116.50</td>\n",
       "      <td>POLYGON ((-116.62500 51.50000, -116.62500 51.6...</td>\n",
       "      <td>2093</td>\n",
       "    </tr>\n",
       "    <tr>\n",
       "      <th>2</th>\n",
       "      <td>3.0</td>\n",
       "      <td>51.25</td>\n",
       "      <td>-116.50</td>\n",
       "      <td>POLYGON ((-116.62500 51.25000, -116.62500 51.3...</td>\n",
       "      <td>1810</td>\n",
       "    </tr>\n",
       "    <tr>\n",
       "      <th>3</th>\n",
       "      <td>4.0</td>\n",
       "      <td>51.00</td>\n",
       "      <td>-116.50</td>\n",
       "      <td>POLYGON ((-116.62500 51.00000, -116.62500 51.1...</td>\n",
       "      <td>1637</td>\n",
       "    </tr>\n",
       "    <tr>\n",
       "      <th>4</th>\n",
       "      <td>5.0</td>\n",
       "      <td>51.75</td>\n",
       "      <td>-116.25</td>\n",
       "      <td>POLYGON ((-116.37500 51.75000, -116.37500 51.8...</td>\n",
       "      <td>2284</td>\n",
       "    </tr>\n",
       "    <tr>\n",
       "      <th>5</th>\n",
       "      <td>6.0</td>\n",
       "      <td>51.50</td>\n",
       "      <td>-116.25</td>\n",
       "      <td>POLYGON ((-116.37500 51.50000, -116.37500 51.6...</td>\n",
       "      <td>2258</td>\n",
       "    </tr>\n",
       "    <tr>\n",
       "      <th>6</th>\n",
       "      <td>7.0</td>\n",
       "      <td>51.25</td>\n",
       "      <td>-116.25</td>\n",
       "      <td>POLYGON ((-116.37500 51.25000, -116.37500 51.3...</td>\n",
       "      <td>1999</td>\n",
       "    </tr>\n",
       "    <tr>\n",
       "      <th>7</th>\n",
       "      <td>8.0</td>\n",
       "      <td>51.00</td>\n",
       "      <td>-116.25</td>\n",
       "      <td>POLYGON ((-116.37500 51.00000, -116.37500 51.1...</td>\n",
       "      <td>1641</td>\n",
       "    </tr>\n",
       "    <tr>\n",
       "      <th>8</th>\n",
       "      <td>9.0</td>\n",
       "      <td>51.75</td>\n",
       "      <td>-116.00</td>\n",
       "      <td>POLYGON ((-116.12500 51.75000, -116.12500 51.8...</td>\n",
       "      <td>2223</td>\n",
       "    </tr>\n",
       "    <tr>\n",
       "      <th>9</th>\n",
       "      <td>10.0</td>\n",
       "      <td>51.50</td>\n",
       "      <td>-116.00</td>\n",
       "      <td>POLYGON ((-116.12500 51.50000, -116.12500 51.6...</td>\n",
       "      <td>2259</td>\n",
       "    </tr>\n",
       "    <tr>\n",
       "      <th>10</th>\n",
       "      <td>11.0</td>\n",
       "      <td>51.25</td>\n",
       "      <td>-116.00</td>\n",
       "      <td>POLYGON ((-116.12500 51.25000, -116.12500 51.3...</td>\n",
       "      <td>2088</td>\n",
       "    </tr>\n",
       "    <tr>\n",
       "      <th>11</th>\n",
       "      <td>12.0</td>\n",
       "      <td>51.00</td>\n",
       "      <td>-116.00</td>\n",
       "      <td>POLYGON ((-116.12500 51.00000, -116.12500 51.1...</td>\n",
       "      <td>1848</td>\n",
       "    </tr>\n",
       "    <tr>\n",
       "      <th>12</th>\n",
       "      <td>13.0</td>\n",
       "      <td>51.75</td>\n",
       "      <td>-115.75</td>\n",
       "      <td>POLYGON ((-115.87500 51.75000, -115.87500 51.8...</td>\n",
       "      <td>2115</td>\n",
       "    </tr>\n",
       "    <tr>\n",
       "      <th>13</th>\n",
       "      <td>14.0</td>\n",
       "      <td>51.50</td>\n",
       "      <td>-115.75</td>\n",
       "      <td>POLYGON ((-115.87500 51.50000, -115.87500 51.6...</td>\n",
       "      <td>2150</td>\n",
       "    </tr>\n",
       "    <tr>\n",
       "      <th>14</th>\n",
       "      <td>15.0</td>\n",
       "      <td>51.25</td>\n",
       "      <td>-115.75</td>\n",
       "      <td>POLYGON ((-115.87500 51.25000, -115.87500 51.3...</td>\n",
       "      <td>2169</td>\n",
       "    </tr>\n",
       "    <tr>\n",
       "      <th>15</th>\n",
       "      <td>16.0</td>\n",
       "      <td>51.00</td>\n",
       "      <td>-115.75</td>\n",
       "      <td>POLYGON ((-115.87500 51.00000, -115.87500 51.1...</td>\n",
       "      <td>2003</td>\n",
       "    </tr>\n",
       "    <tr>\n",
       "      <th>16</th>\n",
       "      <td>17.0</td>\n",
       "      <td>51.75</td>\n",
       "      <td>-115.50</td>\n",
       "      <td>POLYGON ((-115.62500 51.75000, -115.62500 51.8...</td>\n",
       "      <td>1871</td>\n",
       "    </tr>\n",
       "    <tr>\n",
       "      <th>17</th>\n",
       "      <td>18.0</td>\n",
       "      <td>51.50</td>\n",
       "      <td>-115.50</td>\n",
       "      <td>POLYGON ((-115.62500 51.50000, -115.62500 51.6...</td>\n",
       "      <td>1953</td>\n",
       "    </tr>\n",
       "    <tr>\n",
       "      <th>18</th>\n",
       "      <td>19.0</td>\n",
       "      <td>51.25</td>\n",
       "      <td>-115.50</td>\n",
       "      <td>POLYGON ((-115.62500 51.25000, -115.62500 51.3...</td>\n",
       "      <td>2020</td>\n",
       "    </tr>\n",
       "    <tr>\n",
       "      <th>19</th>\n",
       "      <td>20.0</td>\n",
       "      <td>51.00</td>\n",
       "      <td>-115.50</td>\n",
       "      <td>POLYGON ((-115.62500 51.00000, -115.62500 51.1...</td>\n",
       "      <td>2041</td>\n",
       "    </tr>\n",
       "  </tbody>\n",
       "</table>\n",
       "</div>"
      ],
      "text/plain": [
       "      ID    lat     lon                                           geometry  \\\n",
       "0    1.0  51.75 -116.50  POLYGON ((-116.62500 51.75000, -116.62500 51.8...   \n",
       "1    2.0  51.50 -116.50  POLYGON ((-116.62500 51.50000, -116.62500 51.6...   \n",
       "2    3.0  51.25 -116.50  POLYGON ((-116.62500 51.25000, -116.62500 51.3...   \n",
       "3    4.0  51.00 -116.50  POLYGON ((-116.62500 51.00000, -116.62500 51.1...   \n",
       "4    5.0  51.75 -116.25  POLYGON ((-116.37500 51.75000, -116.37500 51.8...   \n",
       "5    6.0  51.50 -116.25  POLYGON ((-116.37500 51.50000, -116.37500 51.6...   \n",
       "6    7.0  51.25 -116.25  POLYGON ((-116.37500 51.25000, -116.37500 51.3...   \n",
       "7    8.0  51.00 -116.25  POLYGON ((-116.37500 51.00000, -116.37500 51.1...   \n",
       "8    9.0  51.75 -116.00  POLYGON ((-116.12500 51.75000, -116.12500 51.8...   \n",
       "9   10.0  51.50 -116.00  POLYGON ((-116.12500 51.50000, -116.12500 51.6...   \n",
       "10  11.0  51.25 -116.00  POLYGON ((-116.12500 51.25000, -116.12500 51.3...   \n",
       "11  12.0  51.00 -116.00  POLYGON ((-116.12500 51.00000, -116.12500 51.1...   \n",
       "12  13.0  51.75 -115.75  POLYGON ((-115.87500 51.75000, -115.87500 51.8...   \n",
       "13  14.0  51.50 -115.75  POLYGON ((-115.87500 51.50000, -115.87500 51.6...   \n",
       "14  15.0  51.25 -115.75  POLYGON ((-115.87500 51.25000, -115.87500 51.3...   \n",
       "15  16.0  51.00 -115.75  POLYGON ((-115.87500 51.00000, -115.87500 51.1...   \n",
       "16  17.0  51.75 -115.50  POLYGON ((-115.62500 51.75000, -115.62500 51.8...   \n",
       "17  18.0  51.50 -115.50  POLYGON ((-115.62500 51.50000, -115.62500 51.6...   \n",
       "18  19.0  51.25 -115.50  POLYGON ((-115.62500 51.25000, -115.62500 51.3...   \n",
       "19  20.0  51.00 -115.50  POLYGON ((-115.62500 51.00000, -115.62500 51.1...   \n",
       "\n",
       "    elev_m  \n",
       "0     2243  \n",
       "1     2093  \n",
       "2     1810  \n",
       "3     1637  \n",
       "4     2284  \n",
       "5     2258  \n",
       "6     1999  \n",
       "7     1641  \n",
       "8     2223  \n",
       "9     2259  \n",
       "10    2088  \n",
       "11    1848  \n",
       "12    2115  \n",
       "13    2150  \n",
       "14    2169  \n",
       "15    2003  \n",
       "16    1871  \n",
       "17    1953  \n",
       "18    2020  \n",
       "19    2041  "
      ]
     },
     "execution_count": 29,
     "metadata": {},
     "output_type": "execute_result"
    }
   ],
   "source": [
    "# Check\n",
    "shp"
   ]
  },
  {
   "cell_type": "code",
   "execution_count": 30,
   "metadata": {},
   "outputs": [],
   "source": [
    "# Overwrite the existing shapefile\n",
    "shp.to_file( shapePath / shapeName )"
   ]
  },
  {
   "cell_type": "code",
   "execution_count": 31,
   "metadata": {},
   "outputs": [],
   "source": [
    "# close the files\n",
    "geo.close()\n",
    "shp = []"
   ]
  },
  {
   "cell_type": "markdown",
   "metadata": {},
   "source": [
    "#### Code provenance\n",
    "Generates a basic log file in the domain folder and copies the control file and itself there."
   ]
  },
  {
   "cell_type": "code",
   "execution_count": 78,
   "metadata": {},
   "outputs": [],
   "source": [
    "# Create a log folder\n",
    "logFolder = '_workflow_log'\n",
    "Path( shapePath / logFolder ).mkdir(parents=True, exist_ok=True)"
   ]
  },
  {
   "cell_type": "code",
   "execution_count": 79,
   "metadata": {},
   "outputs": [],
   "source": [
    "# Copy this script\n",
    "thisFile = 'create_ERA5_shapefile.ipynb'\n",
    "copyfile(thisFile, shapePath / logFolder / thisFile);"
   ]
  },
  {
   "cell_type": "code",
   "execution_count": 80,
   "metadata": {},
   "outputs": [],
   "source": [
    "# Get current date and time\n",
    "now = datetime.now()"
   ]
  },
  {
   "cell_type": "code",
   "execution_count": 81,
   "metadata": {},
   "outputs": [],
   "source": [
    "# Create a log file \n",
    "logFile = now.strftime('%Y%m%d') + '_forcing_shapefile_log.txt'\n",
    "with open( shapePath / logFolder / logFile, 'w') as file:\n",
    "    \n",
    "    lines = ['Log generated by ' + thisFile + ' on ' + now.strftime('%Y/%m/%d %H:%M:%S') + '\\n',\n",
    "             'Created ERA5 regular latitude/longitude grid.']\n",
    "    for txt in lines:\n",
    "        file.write(txt) "
   ]
  },
  {
   "cell_type": "code",
   "execution_count": null,
   "metadata": {},
   "outputs": [],
   "source": []
  }
 ],
 "metadata": {
  "kernelspec": {
   "display_name": "summa-env",
   "language": "python",
   "name": "summa-env"
  },
  "language_info": {
   "codemirror_mode": {
    "name": "ipython",
    "version": 3
   },
   "file_extension": ".py",
   "mimetype": "text/x-python",
   "name": "python",
   "nbconvert_exporter": "python",
   "pygments_lexer": "ipython3",
   "version": "3.8.8"
  }
 },
 "nbformat": 4,
 "nbformat_minor": 4
}
