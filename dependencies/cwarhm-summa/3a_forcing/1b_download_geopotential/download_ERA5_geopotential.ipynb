{
 "cells": [
  {
   "cell_type": "markdown",
   "metadata": {},
   "source": [
    "# Download ERA5 geopotential data\n",
    "Geopotential data can be converted into elevation, which is needed for temperature lapsing.",
	"Requires use of the Copernicus Data Store API\n",
	"CDS registration: https://cds.climate.copernicus.eu/user/register?destination=%2F%23!%2Fhome \n",
	"CDS api setup: https://cds.climate.copernicus.eu/api-how-to"
   ]
  },
  {
   "cell_type": "code",
   "execution_count": 1,
   "metadata": {},
   "outputs": [],
   "source": [
    "# modules\n",
    "import cdsapi    # copernicus connection\n",
    "import calendar  # to find days per month\n",
    "import os        # to check if file already exists\n",
    "import math\n",
    "from pathlib import Path\n",
    "from shutil import copyfile\n",
    "from datetime import datetime"
   ]
  },
  {
   "cell_type": "markdown",
   "metadata": {},
   "source": [
    "#### Control file handling"
   ]
  },
  {
   "cell_type": "code",
   "execution_count": 2,
   "metadata": {},
   "outputs": [],
   "source": [
    "# Easy access to control file folder\n",
    "controlFolder = Path('../../0_control_files')"
   ]
  },
  {
   "cell_type": "code",
   "execution_count": 3,
   "metadata": {},
   "outputs": [],
   "source": [
    "# Store the name of the 'active' file in a variable\n",
    "controlFile = 'control_active.txt'"
   ]
  },
  {
   "cell_type": "code",
   "execution_count": 4,
   "metadata": {},
   "outputs": [],
   "source": [
    "# Function to extract a given setting from the control file\n",
    "def read_from_control( file, setting ):\n",
    "    \n",
    "    # Open 'control_active.txt' and ...\n",
    "    with open(file) as contents:\n",
    "        for line in contents:\n",
    "            \n",
    "            # ... find the line with the requested setting\n",
    "            if setting in line and not line.startswith('#'):\n",
    "                break\n",
    "    \n",
    "    # Extract the setting's value\n",
    "    substring = line.split('|',1)[1]      # Remove the setting's name (split into 2 based on '|', keep only 2nd part)\n",
    "    substring = substring.split('#',1)[0] # Remove comments, does nothing if no '#' is found\n",
    "    substring = substring.strip()         # Remove leading and trailing whitespace, tabs, newlines\n",
    "       \n",
    "    # Return this value    \n",
    "    return substring"
   ]
  },
  {
   "cell_type": "code",
   "execution_count": 5,
   "metadata": {},
   "outputs": [],
   "source": [
    "# Function to specify a default path\n",
    "def make_default_path(suffix):\n",
    "    \n",
    "    # Get the root path\n",
    "    rootPath = Path( read_from_control(controlFolder/controlFile,'root_path') )\n",
    "    \n",
    "    # Get the domain folder\n",
    "    domainName = read_from_control(controlFolder/controlFile,'domain_name')\n",
    "    domainFolder = 'domain_' + domainName\n",
    "    \n",
    "    # Specify the forcing path\n",
    "    defaultPath = rootPath / domainFolder / suffix\n",
    "    \n",
    "    return defaultPath"
   ]
  },
  {
   "cell_type": "markdown",
   "metadata": {},
   "source": [
    "#### Find where to save the data"
   ]
  },
  {
   "cell_type": "code",
   "execution_count": 6,
   "metadata": {},
   "outputs": [],
   "source": [
    "# Find the path where the raw forcing needs to go\n",
    "geoPath = read_from_control(controlFolder/controlFile,'forcing_geo_path')"
   ]
  },
  {
   "cell_type": "code",
   "execution_count": 7,
   "metadata": {},
   "outputs": [],
   "source": [
    "# Specify the default paths if required\n",
    "if geoPath == 'default':\n",
    "    geoPath = make_default_path('forcing/0_geopotential')\n",
    "else: \n",
    "    geoPath = Path(geoPath) # ensure Path() object "
   ]
  },
  {
   "cell_type": "code",
   "execution_count": 8,
   "metadata": {},
   "outputs": [],
   "source": [
    "# Make the folder if it doesn't exist\n",
    "geoPath.mkdir(parents=True, exist_ok=True)"
   ]
  },
  {
   "cell_type": "markdown",
   "metadata": {},
   "source": [
    "#### Find spatial domain from control file"
   ]
  },
  {
   "cell_type": "code",
   "execution_count": 6,
   "metadata": {},
   "outputs": [],
   "source": [
    "# Find the spatial extent the data needs to cover\n",
    "bounding_box = read_from_control(controlFolder/controlFile,'forcing_raw_space') "
   ]
  },
  {
   "cell_type": "code",
   "execution_count": 7,
   "metadata": {},
   "outputs": [],
   "source": [
    "# function to round coordinates of a bounding box to ERA5s 0.25 degree resolution\n",
    "def round_coords_to_ERA5(coords):\n",
    "    \n",
    "    '''Assumes coodinates are an array: [lon_min,lat_min,lon_max,lat_max].\n",
    "    Returns separate lat and lon vectors.'''\n",
    "    \n",
    "    # Extract values\n",
    "    lon = [coords[1],coords[3]]\n",
    "    lat = [coords[2],coords[0]]\n",
    "    \n",
    "    # Round to ERA5 0.25 degree resolution\n",
    "    rounded_lon = [math.floor(lon[0]*4)/4, math.ceil(lon[1]*4)/4]\n",
    "    rounded_lat = [math.floor(lat[0]*4)/4, math.ceil(lat[1]*4)/4]\n",
    "    \n",
    "    # Find if we are still in the representative area of a different ERA5 grid cell\n",
    "    if lat[0] > rounded_lat[0]+0.125:\n",
    "        rounded_lat[0] += 0.25\n",
    "    if lon[0] > rounded_lon[0]+0.125:\n",
    "        rounded_lon[0] += 0.25\n",
    "    if lat[1] < rounded_lat[1]-0.125:\n",
    "        rounded_lat[1] -= 0.25\n",
    "    if lon[1] < rounded_lon[1]-0.125:\n",
    "        rounded_lon[1] -= 0.25\n",
    "    \n",
    "    # Make a download string\n",
    "    dl_string = '{}/{}/{}/{}'.format(rounded_lat[1],rounded_lon[0],rounded_lat[0],rounded_lon[1])\n",
    "    \n",
    "    return dl_string, rounded_lat, rounded_lon"
   ]
  },
  {
   "cell_type": "code",
   "execution_count": 8,
   "metadata": {},
   "outputs": [],
   "source": [
    "# Convert string to array\n",
    "bounding_box = bounding_box.split('/')\n",
    "bounding_box = [float(value) for value in bounding_box]"
   ]
  },
  {
   "cell_type": "code",
   "execution_count": 9,
   "metadata": {},
   "outputs": [],
   "source": [
    "# Find the rounded bounding box\n",
    "coordinates,_,_ = round_coords_to_ERA5(bounding_box)"
   ]
  },
  {
   "cell_type": "code",
   "execution_count": 10,
   "metadata": {},
   "outputs": [
    {
     "name": "stdout",
     "output_type": "stream",
     "text": [
      "Starting download of [51.75/-116.5/51.0/-115.5].\n"
     ]
    }
   ],
   "source": [
    "# Check what we selected\n",
    "print('Starting download of [{}].'.format(coordinates))"
   ]
  },
  {
   "cell_type": "markdown",
   "metadata": {},
   "source": [
    "#### Specify a date to download\n",
    "Geopotential is part of the ERA5 \"invariant\" data, which are constant through time."
   ]
  },
  {
   "cell_type": "code",
   "execution_count": 11,
   "metadata": {},
   "outputs": [],
   "source": [
    "# Specify an arbitrary date to download\n",
    "date = '2019-01-01'"
   ]
  },
  {
   "cell_type": "markdown",
   "metadata": {},
   "source": [
    "#### Download the data"
   ]
  },
  {
   "cell_type": "code",
   "execution_count": 12,
   "metadata": {},
   "outputs": [],
   "source": [
    "# Specify a filename\n",
    "file = geoPath / 'ERA5_geopotential.nc'"
   ]
  },
  {
   "cell_type": "code",
   "execution_count": 13,
   "metadata": {},
   "outputs": [
    {
     "name": "stderr",
     "output_type": "stream",
     "text": [
      "2021-02-24 11:09:59,066 INFO Welcome to the CDS\n",
      "2021-02-24 11:09:59,066 INFO Sending request to https://cds.climate.copernicus.eu/api/v2/resources/reanalysis-era5-complete\n",
      "2021-02-24 11:09:59,238 INFO Request is queued\n",
      "2021-02-24 19:55:54,160 INFO Request is completed\n",
      "2021-02-24 19:55:54,188 INFO Downloading https://download-0014.copernicus-climate.eu/cache-compute-0014/cache/data5/adaptor.mars.external-1614221671.0050914-29905-32-4b846a4e-52af-41c1-8b24-534cf0efcb8c.nc to C:\\Globus endpoint\\summaWorkflow_data\\domain_BowAtBanff\\forcing\\0_geopotential\\ERA5_geopotential.nc (5.1K)\n",
      "2021-02-24 19:55:55,246 INFO Download rate 4.9K/s                                                                      \n"
     ]
    },
    {
     "ename": "TypeError",
     "evalue": "can only concatenate str (not \"WindowsPath\") to str",
     "output_type": "error",
     "traceback": [
      "\u001b[1;31m---------------------------------------------------------------------------\u001b[0m",
      "\u001b[1;31mTypeError\u001b[0m                                 Traceback (most recent call last)",
      "\u001b[1;32m<ipython-input-13-2d13e02677bd>\u001b[0m in \u001b[0;36m<module>\u001b[1;34m\u001b[0m\n\u001b[0;32m     25\u001b[0m             \u001b[1;31m# track progress\u001b[0m\u001b[1;33m\u001b[0m\u001b[1;33m\u001b[0m\u001b[1;33m\u001b[0m\u001b[0m\n\u001b[1;32m---> 26\u001b[1;33m             \u001b[0mprint\u001b[0m\u001b[1;33m(\u001b[0m\u001b[1;34m'Successfully downloaded '\u001b[0m \u001b[1;33m+\u001b[0m \u001b[0mfile\u001b[0m\u001b[1;33m)\u001b[0m\u001b[1;33m\u001b[0m\u001b[1;33m\u001b[0m\u001b[0m\n\u001b[0m\u001b[0;32m     27\u001b[0m \u001b[1;33m\u001b[0m\u001b[0m\n",
      "\u001b[1;31mTypeError\u001b[0m: can only concatenate str (not \"WindowsPath\") to str",
      "\nDuring handling of the above exception, another exception occurred:\n",
      "\u001b[1;31mTypeError\u001b[0m                                 Traceback (most recent call last)",
      "\u001b[1;32m<ipython-input-13-2d13e02677bd>\u001b[0m in \u001b[0;36m<module>\u001b[1;34m\u001b[0m\n\u001b[0;32m     27\u001b[0m \u001b[1;33m\u001b[0m\u001b[0m\n\u001b[0;32m     28\u001b[0m         \u001b[1;32mexcept\u001b[0m\u001b[1;33m:\u001b[0m\u001b[1;33m\u001b[0m\u001b[1;33m\u001b[0m\u001b[0m\n\u001b[1;32m---> 29\u001b[1;33m             \u001b[0mprint\u001b[0m\u001b[1;33m(\u001b[0m\u001b[1;34m'Error downloading '\u001b[0m \u001b[1;33m+\u001b[0m \u001b[0mfile\u001b[0m \u001b[1;33m+\u001b[0m \u001b[1;34m' on try '\u001b[0m \u001b[1;33m+\u001b[0m \u001b[0mstr\u001b[0m\u001b[1;33m(\u001b[0m\u001b[0mretries_cur\u001b[0m\u001b[1;33m)\u001b[0m\u001b[1;33m)\u001b[0m\u001b[1;33m\u001b[0m\u001b[1;33m\u001b[0m\u001b[0m\n\u001b[0m\u001b[0;32m     30\u001b[0m             \u001b[0mretries_cur\u001b[0m \u001b[1;33m+=\u001b[0m \u001b[1;36m1\u001b[0m\u001b[1;33m\u001b[0m\u001b[1;33m\u001b[0m\u001b[0m\n\u001b[0;32m     31\u001b[0m             \u001b[1;32mcontinue\u001b[0m\u001b[1;33m\u001b[0m\u001b[1;33m\u001b[0m\u001b[0m\n",
      "\u001b[1;31mTypeError\u001b[0m: can only concatenate str (not \"WindowsPath\") to str"
     ]
    }
   ],
   "source": [
    "# if file doesn't yet exist, download the data\n",
    "if not os.path.isfile(file):\n",
    "\n",
    "    # Make sure the connection is re-tried if it fails\n",
    "    retries_max = 10\n",
    "    retries_cur = 1\n",
    "    while retries_cur <= retries_max:\n",
    "        try:\n",
    "            \n",
    "            # connect to Copernicus (requires .cdsapirc file in $HOME)\n",
    "            c = cdsapi.Client()\n",
    "\n",
    "            # specify and retrieve data\n",
    "            c.retrieve('reanalysis-era5-complete', {    # do not change this!\n",
    "                    'stream': 'oper',\n",
    "                    'levtype': 'sf',\n",
    "                    'param': '26/228007/27/28/29/30/43/74/129/160/161/162/163/172',\n",
    "                    'date': date,\n",
    "                    'time': '00',#/to/23/by/1',\n",
    "                    'area': coordinates,\n",
    "                    'grid': '0.25/0.25', # Latitude/longitude grid: east-west (longitude) and north-south resolution (latitude).\n",
    "                    'format'  : 'netcdf',\n",
    "                }, file)\n",
    "            \n",
    "            # track progress\n",
    "            print('Successfully downloaded ' + str(file))\n",
    "\n",
    "        except:\n",
    "            print('Error downloading ' + str(file) + ' on try ' + str(retries_cur))\n",
    "            retries_cur += 1\n",
    "            continue\n",
    "        else:\n",
    "            break"
   ]
  },
  {
   "cell_type": "markdown",
   "metadata": {},
   "source": [
    "#### Code provenance\n",
    "Generates a basic log file in the domain folder and copies the control file and itself there."
   ]
  },
  {
   "cell_type": "code",
   "execution_count": 20,
   "metadata": {},
   "outputs": [],
   "source": [
    "# Create a log folder\n",
    "logFolder = '_era5_invariants_log'\n",
    "Path( geoPath / logFolder ).mkdir(parents=True, exist_ok=True)"
   ]
  },
  {
   "cell_type": "code",
   "execution_count": 22,
   "metadata": {},
   "outputs": [],
   "source": [
    "# Copy this script\n",
    "thisFile = 'download_ERA5_geopotential.ipynb'\n",
    "copyfile(thisFile, geoPath / logFolder / thisFile);"
   ]
  },
  {
   "cell_type": "code",
   "execution_count": 23,
   "metadata": {},
   "outputs": [],
   "source": [
    "# Get current date and time\n",
    "now = datetime.now()"
   ]
  },
  {
   "cell_type": "code",
   "execution_count": 24,
   "metadata": {},
   "outputs": [],
   "source": [
    "# Create a log file \n",
    "logFile = now.strftime('%Y%m%d') + '_pressure_level_log.txt'\n",
    "with open( geoPath / logFolder / logFile, 'w') as file:\n",
    "    \n",
    "    lines = ['Log generated by ' + thisFile + ' on ' + now.strftime('%Y/%m/%d %H:%M:%S') + '\\n',\n",
    "             'Downloaded ERA5 geopotential data for space (lat_max, lon_min, lat_min, lon_max) [{}].'.format(coordinates)]\n",
    "    for txt in lines:\n",
    "        file.write(txt)    "
   ]
  },
  {
   "cell_type": "code",
   "execution_count": null,
   "metadata": {},
   "outputs": [],
   "source": []
  }
 ],
 "metadata": {
  "kernelspec": {
   "display_name": "summa-env",
   "language": "python",
   "name": "summa-env"
  },
  "language_info": {
   "codemirror_mode": {
    "name": "ipython",
    "version": 3
   },
   "file_extension": ".py",
   "mimetype": "text/x-python",
   "name": "python",
   "nbconvert_exporter": "python",
   "pygments_lexer": "ipython3",
   "version": "3.8.8"
  }
 },
 "nbformat": 4,
 "nbformat_minor": 4
}
