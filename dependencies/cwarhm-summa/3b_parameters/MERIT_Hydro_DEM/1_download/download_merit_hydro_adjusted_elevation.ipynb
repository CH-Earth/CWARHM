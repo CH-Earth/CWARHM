{
 "cells": [
  {
   "cell_type": "markdown",
   "metadata": {},
   "source": [
    "# Download MERIT Hydro adjusted elevation\n",
    "Data source: http://hydro.iis.u-tokyo.ac.jp/~yamadai/MERIT_DEM/index.html. Download requires the user to be registered, which can be done through the website.\n",
    "\n",
    "Workflow:\n",
    "- Find the data locations;\n",
    "- Determine the files that need to be downloaded to cover the modelling domain;\n",
    "- Download data"
   ]
  },
  {
   "cell_type": "code",
   "execution_count": 1,
   "metadata": {},
   "outputs": [],
   "source": [
    "from datetime import datetime\n",
    "from shutil import copyfile\n",
    "from pathlib import Path\n",
    "import numpy as np\n",
    "import requests\n",
    "import shutil\n",
    "import os"
   ]
  },
  {
   "cell_type": "markdown",
   "metadata": {},
   "source": [
    "#### Control file handling"
   ]
  },
  {
   "cell_type": "code",
   "execution_count": 2,
   "metadata": {},
   "outputs": [],
   "source": [
    "# Easy access to control file folder\n",
    "controlFolder = Path('../../../0_control_files')"
   ]
  },
  {
   "cell_type": "code",
   "execution_count": 3,
   "metadata": {},
   "outputs": [],
   "source": [
    "# Store the name of the 'active' file in a variable\n",
    "controlFile = 'control_active.txt'"
   ]
  },
  {
   "cell_type": "code",
   "execution_count": 4,
   "metadata": {},
   "outputs": [],
   "source": [
    "# Function to extract a given setting from the control file\n",
    "def read_from_control( file, setting ):\n",
    "    \n",
    "    # Open 'control_active.txt' and ...\n",
    "    with open(file) as contents:\n",
    "        for line in contents:\n",
    "            \n",
    "            # ... find the line with the requested setting\n",
    "            if setting in line and not line.startswith('#'):\n",
    "                break\n",
    "    \n",
    "    # Extract the setting's value\n",
    "    substring = line.split('|',1)[1]      # Remove the setting's name (split into 2 based on '|', keep only 2nd part)\n",
    "    substring = substring.split('#',1)[0] # Remove comments, does nothing if no '#' is found\n",
    "    substring = substring.strip()         # Remove leading and trailing whitespace, tabs, newlines\n",
    "       \n",
    "    # Return this value    \n",
    "    return substring"
   ]
  },
  {
   "cell_type": "code",
   "execution_count": 5,
   "metadata": {},
   "outputs": [],
   "source": [
    "# Function to specify a default path\n",
    "def make_default_path(suffix):\n",
    "    \n",
    "    # Get the root path\n",
    "    rootPath = Path( read_from_control(controlFolder/controlFile,'root_path') )\n",
    "    \n",
    "    # Get the domain folder\n",
    "    domainName = read_from_control(controlFolder/controlFile,'domain_name')\n",
    "    domainFolder = 'domain_' + domainName\n",
    "    \n",
    "    # Specify the forcing path\n",
    "    defaultPath = rootPath / domainFolder / suffix\n",
    "    \n",
    "    return defaultPath"
   ]
  },
  {
   "cell_type": "markdown",
   "metadata": {},
   "source": [
    "#### Find where to save the files"
   ]
  },
  {
   "cell_type": "code",
   "execution_count": 6,
   "metadata": {},
   "outputs": [],
   "source": [
    "# Find the path where the raw files need to go\n",
    "merit_path = read_from_control(controlFolder/controlFile,'parameter_dem_raw_path')"
   ]
  },
  {
   "cell_type": "code",
   "execution_count": 7,
   "metadata": {},
   "outputs": [],
   "source": [
    "# Specify the default paths if required \n",
    "if merit_path == 'default':\n",
    "    merit_path = make_default_path('parameters/dem/1_MERIT_raw_data') # outputs a Path()\n",
    "else:\n",
    "    merit_path = Path(merit_path) # make sure a user-specified path is a Path()"
   ]
  },
  {
   "cell_type": "code",
   "execution_count": 8,
   "metadata": {},
   "outputs": [],
   "source": [
    "# Make the folder if it doesn't exist\n",
    "merit_path.mkdir(parents=True, exist_ok=True)"
   ]
  },
  {
   "cell_type": "markdown",
   "metadata": {},
   "source": [
    "#### Find the download area and which MERIT packages cover this area"
   ]
  },
  {
   "cell_type": "code",
   "execution_count": 11,
   "metadata": {},
   "outputs": [],
   "source": [
    "# Get the download url info\n",
    "merit_url = read_from_control(controlFolder/controlFile,'parameter_dem_main_url')\n",
    "merit_template = read_from_control(controlFolder/controlFile,'parameter_dem_file_template')"
   ]
  },
  {
   "cell_type": "code",
   "execution_count": 12,
   "metadata": {},
   "outputs": [],
   "source": [
    "# Find which locations to download\n",
    "coordinates = read_from_control(controlFolder/controlFile,'forcing_raw_space')"
   ]
  },
  {
   "cell_type": "code",
   "execution_count": 13,
   "metadata": {},
   "outputs": [],
   "source": [
    "# Split coordinates into the format the download interface needs\n",
    "coordinates = coordinates.split('/')"
   ]
  },
  {
   "cell_type": "code",
   "execution_count": 14,
   "metadata": {},
   "outputs": [],
   "source": [
    "# Store coordinates as floats in individual variables\n",
    "domain_min_lon = np.array(float(coordinates[1]))\n",
    "domain_max_lon = np.array(float(coordinates[3]))\n",
    "domain_min_lat = np.array(float(coordinates[2]))\n",
    "domain_max_lat = np.array(float(coordinates[0]))"
   ]
  },
  {
   "cell_type": "code",
   "execution_count": 15,
   "metadata": {},
   "outputs": [],
   "source": [
    "# Define the edges of the download areas\n",
    "lon_right_edge  = np.array([-150,-120, -90,-60,-30,  0,30,60,90,120,150,180])\n",
    "lon_left_edge   = np.array([-180,-150,-120,-90,-60,-30, 0,30,60, 90,120,150])\n",
    "lat_bottom_edge = np.array([-60,-30,0, 30,60]) # NOTE: latitudes -90 to -60 are NOT part of the MERIT domain\n",
    "lat_top_edge    = np.array([-30,  0,30,60,90]) "
   ]
  },
  {
   "cell_type": "code",
   "execution_count": 16,
   "metadata": {},
   "outputs": [],
   "source": [
    "# Define the download variables\n",
    "dl_lon_all = np.array(['w180','w150','w120','w090','w060','w030','e000','e030','e060','e090','e120','e150'])\n",
    "dl_lat_all = np.array(['s60','s30','n00','n30','n60'])"
   ]
  },
  {
   "cell_type": "code",
   "execution_count": 17,
   "metadata": {},
   "outputs": [],
   "source": [
    "# Find the lower-left corners of each download square\n",
    "dl_lons = dl_lon_all[(domain_min_lon < lon_right_edge) & (domain_max_lon > lon_left_edge)]\n",
    "dl_lats = dl_lat_all[(domain_min_lat < lat_top_edge) & (domain_max_lat > lat_bottom_edge)]"
   ]
  },
  {
   "cell_type": "markdown",
   "metadata": {},
   "source": [
    "#### Get authentication info"
   ]
  },
  {
   "cell_type": "code",
   "execution_count": 18,
   "metadata": {},
   "outputs": [],
   "source": [
    "# Open the login details file and store as a dictionary\n",
    "merit_login = {}\n",
    "with open(os.path.expanduser(\"~/.merit\")) as file:\n",
    "    for line in file:\n",
    "        (key, val) = line.split(':')\n",
    "        merit_login[key] = val.strip() # remove whitespace, newlines"
   ]
  },
  {
   "cell_type": "code",
   "execution_count": 19,
   "metadata": {},
   "outputs": [],
   "source": [
    "# Get the authentication details\n",
    "usr = merit_login['user']\n",
    "pwd = merit_login['pass']"
   ]
  },
  {
   "cell_type": "markdown",
   "metadata": {},
   "source": [
    "#### Do the downloads"
   ]
  },
  {
   "cell_type": "code",
   "execution_count": 20,
   "metadata": {},
   "outputs": [],
   "source": [
    "# Retry settings\n",
    "retries_max = 10"
   ]
  },
  {
   "cell_type": "code",
   "execution_count": 21,
   "metadata": {},
   "outputs": [
    {
     "name": "stdout",
     "output_type": "stream",
     "text": [
      "Successfully downloaded http://hydro.iis.u-tokyo.ac.jp/~yamadai/MERIT_Hydro/distribute/v1.0.1/elv_n30w120.tar\n"
     ]
    }
   ],
   "source": [
    "# Loop over the download files\n",
    "for dl_lon in dl_lons:\n",
    "    for dl_lat in dl_lats:\n",
    "        \n",
    "        # Skip those combinations for which no MERIT data exists\n",
    "        if (dl_lat == 'n00' and dl_lon == 'w150') or \\\n",
    "           (dl_lat == 's60' and dl_lon == 'w150') or \\\n",
    "           (dl_lat == 's60' and dl_lon == 'w120'):\n",
    "            continue\n",
    "        \n",
    "        # Make the download URL\n",
    "        file_url = (merit_url + merit_template).format(dl_lat,dl_lon)\n",
    "        \n",
    "        # Extract the filename from the URL\n",
    "        file_name = file_url.split('/')[-1].strip() # Get the last part of the url, strip whitespace and characters\n",
    "        \n",
    "        # If file already exists in destination, move to next file\n",
    "        if os.path.isfile(merit_path / file_name):\n",
    "            continue\n",
    "            \n",
    "        # Make sure the connection is re-tried if it fails\n",
    "        retries_cur = 1\n",
    "        while retries_cur <= retries_max:\n",
    "            try: \n",
    "\n",
    "                # Send a HTTP request to the server and save the HTTP response in a response object called resp\n",
    "                # 'stream = True' ensures that only response headers are downloaded initially (and not all file contents too, which are 2GB+)\n",
    "                with requests.get(file_url.strip(), auth=(usr, pwd), stream=True) as response:\n",
    "    \n",
    "                    # Decode the response\n",
    "                    response.raw.decode_content = True\n",
    "                    content = response.raw\n",
    "    \n",
    "                    # Write to file\n",
    "                    with open(merit_path / file_name, 'wb') as data:\n",
    "                        shutil.copyfileobj(content, data)\n",
    "\n",
    "                    # print a completion message\n",
    "                    print('Successfully downloaded ' + str(merit_path) + '/' + file_url)\n",
    "\n",
    "            except Exception as e:\n",
    "                print('Error downloading ' + file_url + ' on try ' + str(retries_cur) + ' with error: ' + str(e))\n",
    "                retries_cur += 1\n",
    "                continue\n",
    "            else:\n",
    "                break"
   ]
  },
  {
   "cell_type": "markdown",
   "metadata": {},
   "source": [
    "#### Code provenance\n",
    "Generates a basic log file in the domain folder and copies the control file and itself there."
   ]
  },
  {
   "cell_type": "code",
   "execution_count": 22,
   "metadata": {},
   "outputs": [],
   "source": [
    "# Set the log path and file name\n",
    "logPath = merit_path\n",
    "log_suffix = '_merit_dem_download_log.txt'"
   ]
  },
  {
   "cell_type": "code",
   "execution_count": 23,
   "metadata": {},
   "outputs": [],
   "source": [
    "# Create a log folder\n",
    "logFolder = '_workflow_log'\n",
    "Path( logPath / logFolder ).mkdir(parents=True, exist_ok=True)"
   ]
  },
  {
   "cell_type": "code",
   "execution_count": 27,
   "metadata": {},
   "outputs": [],
   "source": [
    "# Copy this script\n",
    "thisFile = 'download_merit_hydro_adjusted_elevation.ipynb'\n",
    "copyfile(thisFile, logPath / logFolder / thisFile);"
   ]
  },
  {
   "cell_type": "code",
   "execution_count": 25,
   "metadata": {},
   "outputs": [],
   "source": [
    "# Get current date and time\n",
    "now = datetime.now()"
   ]
  },
  {
   "cell_type": "code",
   "execution_count": 26,
   "metadata": {},
   "outputs": [],
   "source": [
    "# Create a log file \n",
    "logFile = now.strftime('%Y%m%d') + log_suffix\n",
    "with open( logPath / logFolder / logFile, 'w') as file:\n",
    "    \n",
    "    lines = ['Log generated by ' + thisFile + ' on ' + now.strftime('%Y/%m/%d %H:%M:%S') + '\\n',\n",
    "             'Downloaded MERIT Hydro adjusted elevation for area (lat_max, lon_min, lat_min, lon_max) [{}].'.format(coordinates)]\n",
    "    for txt in lines:\n",
    "        file.write(txt)  "
   ]
  }
 ],
 "metadata": {
  "kernelspec": {
   "display_name": "summa-env",
   "language": "python",
   "name": "summa-env"
  },
  "language_info": {
   "codemirror_mode": {
    "name": "ipython",
    "version": 3
   },
   "file_extension": ".py",
   "mimetype": "text/x-python",
   "name": "python",
   "nbconvert_exporter": "python",
   "pygments_lexer": "ipython3",
   "version": "3.8.8"
  }
 },
 "nbformat": 4,
 "nbformat_minor": 4
}
