{
 "cells": [
  {
   "cell_type": "markdown",
   "metadata": {},
   "source": [
    "# Download MODIS MCD12Q1_V6\n",
    "Script based on example provided on: https://git.earthdata.nasa.gov/projects/LPDUR/repos/daac_data_download_python/browse\n",
    "\n",
    "Requires a `.netrc` file in user's home directory with login credentials for `urs.earthdata.nasa.gov`. See: https://lpdaac.usgs.gov/resources/e-learning/how-access-lp-daac-data-command-line/"
   ]
  },
  {
   "cell_type": "code",
   "execution_count": 1,
   "metadata": {},
   "outputs": [],
   "source": [
    "# modules\n",
    "import os\n",
    "import time\n",
    "import shutil\n",
    "import requests\n",
    "from netrc import netrc\n",
    "from pathlib import Path\n",
    "from shutil import copyfile\n",
    "from datetime import datetime"
   ]
  },
  {
   "cell_type": "markdown",
   "metadata": {},
   "source": [
    "#### Control file handling"
   ]
  },
  {
   "cell_type": "code",
   "execution_count": 2,
   "metadata": {},
   "outputs": [],
   "source": [
    "# Easy access to control file folder\n",
    "controlFolder = Path('../../../0_control_files')"
   ]
  },
  {
   "cell_type": "code",
   "execution_count": 3,
   "metadata": {},
   "outputs": [],
   "source": [
    "# Store the name of the 'active' file in a variable\n",
    "controlFile = 'control_active.txt'"
   ]
  },
  {
   "cell_type": "code",
   "execution_count": 4,
   "metadata": {},
   "outputs": [],
   "source": [
    "# Function to extract a given setting from the control file\n",
    "def read_from_control( file, setting ):\n",
    "    \n",
    "    # Open 'control_active.txt' and ...\n",
    "    with open(file) as contents:\n",
    "        for line in contents:\n",
    "            \n",
    "            # ... find the line with the requested setting\n",
    "            if setting in line and not line.startswith('#'):\n",
    "                break\n",
    "    \n",
    "    # Extract the setting's value\n",
    "    substring = line.split('|',1)[1]      # Remove the setting's name (split into 2 based on '|', keep only 2nd part)\n",
    "    substring = substring.split('#',1)[0] # Remove comments, does nothing if no '#' is found\n",
    "    substring = substring.strip()         # Remove leading and trailing whitespace, tabs, newlines\n",
    "       \n",
    "    # Return this value    \n",
    "    return substring"
   ]
  },
  {
   "cell_type": "code",
   "execution_count": 5,
   "metadata": {},
   "outputs": [],
   "source": [
    "# Function to specify a default path\n",
    "def make_default_path(suffix):\n",
    "    \n",
    "    # Get the root path\n",
    "    rootPath = Path( read_from_control(controlFolder/controlFile,'root_path') )\n",
    "    \n",
    "    # Get the domain folder\n",
    "    domainName = read_from_control(controlFolder/controlFile,'domain_name')\n",
    "    domainFolder = 'domain_' + domainName\n",
    "    \n",
    "    # Specify the forcing path\n",
    "    defaultPath = rootPath / domainFolder / suffix\n",
    "    \n",
    "    return defaultPath"
   ]
  },
  {
   "cell_type": "markdown",
   "metadata": {},
   "source": [
    "#### Get the download settings"
   ]
  },
  {
   "cell_type": "code",
   "execution_count": 6,
   "metadata": {},
   "outputs": [],
   "source": [
    "# Path and name of file with download links\n",
    "links_path = read_from_control(controlFolder/controlFile,'parameter_land_list_path')\n",
    "links_file = read_from_control(controlFolder/controlFile,'parameter_land_list_name')"
   ]
  },
  {
   "cell_type": "code",
   "execution_count": 7,
   "metadata": {},
   "outputs": [],
   "source": [
    "# Specify the default paths if required \n",
    "if links_path == 'default':\n",
    "    links_path = Path('./') # outputs a Path()\n",
    "else:\n",
    "    links_path = Path(links_path) # make sure a user-specified path is a Path()"
   ]
  },
  {
   "cell_type": "code",
   "execution_count": 8,
   "metadata": {},
   "outputs": [],
   "source": [
    "# Find where the data needs to go\n",
    "modis_path = read_from_control(controlFolder/controlFile,'parameter_land_raw_path')"
   ]
  },
  {
   "cell_type": "code",
   "execution_count": 9,
   "metadata": {},
   "outputs": [],
   "source": [
    "# Specify the default paths if required \n",
    "if modis_path == 'default':\n",
    "    modis_path = make_default_path('parameters/landclass/1_MODIS_raw_data') # outputs a Path()\n",
    "else:\n",
    "    modis_path = Path(modis_path) # make sure a user-specified path is a Path()"
   ]
  },
  {
   "cell_type": "code",
   "execution_count": 10,
   "metadata": {},
   "outputs": [],
   "source": [
    "# Make output dir\n",
    "modis_path.mkdir(parents=True, exist_ok=True)"
   ]
  },
  {
   "cell_type": "markdown",
   "metadata": {},
   "source": [
    "#### Get the authentication info\n"
   ]
  },
  {
   "cell_type": "code",
   "execution_count": 12,
   "metadata": {},
   "outputs": [],
   "source": [
    "# authentication url\n",
    "url = 'urs.earthdata.nasa.gov'"
   ]
  },
  {
   "cell_type": "code",
   "execution_count": 13,
   "metadata": {},
   "outputs": [],
   "source": [
    "# make the netrc directory\n",
    "netrc_folder = os.path.expanduser(\"~/.netrc\")"
   ]
  },
  {
   "cell_type": "code",
   "execution_count": 14,
   "metadata": {},
   "outputs": [],
   "source": [
    "# Get user name and password - not great, but these are stored as plain text on the user's machine regardless..\n",
    "usr = netrc(netrc_folder).authenticators(url)[0]\n",
    "pwd = netrc(netrc_folder).authenticators(url)[2]"
   ]
  },
  {
   "cell_type": "markdown",
   "metadata": {},
   "source": [
    "#### Do the downloads"
   ]
  },
  {
   "cell_type": "code",
   "execution_count": 15,
   "metadata": {},
   "outputs": [],
   "source": [
    "# Get the download links from file\n",
    "file_list = open(links_file, 'r').readlines()"
   ]
  },
  {
   "cell_type": "code",
   "execution_count": 16,
   "metadata": {},
   "outputs": [],
   "source": [
    "# Retry settings: connection can be unstable, so specify a number of retries\n",
    "retries_max = 100 "
   ]
  },
  {
   "cell_type": "code",
   "execution_count": 17,
   "metadata": {},
   "outputs": [
    {
     "name": "stdout",
     "output_type": "stream",
     "text": [
      "Successfully downloaded: MCD12Q1.A2001001.h02v10.006.2018142183006.hdf\n",
      "Successfully downloaded: MCD12Q1.A2001001.h03v09.006.2018142183026.hdf\n",
      "Successfully downloaded: MCD12Q1.A2001001.h01v10.006.2018142182931.hdf\n",
      "Successfully downloaded: MCD12Q1.A2001001.h03v10.006.2018142183036.hdf\n",
      "Successfully downloaded: MCD12Q1.A2001001.h00v08.006.2018142182903.hdf\n",
      "Successfully downloaded: MCD12Q1.A2001001.h03v07.006.2018142183028.hdf\n",
      "Successfully downloaded: MCD12Q1.A2001001.h04v11.006.2018142183101.hdf\n",
      "Successfully downloaded: MCD12Q1.A2001001.h00v09.006.2018142182901.hdf\n",
      "Successfully downloaded: MCD12Q1.A2001001.h02v11.006.2018142183012.hdf\n",
      "Successfully downloaded: MCD12Q1.A2001001.h01v08.006.2018142182920.hdf\n",
      "Successfully downloaded: MCD12Q1.A2001001.h03v11.006.2018142183043.hdf\n",
      "Successfully downloaded: MCD12Q1.A2001001.h04v09.006.2018142183050.hdf\n",
      "Error downloading MCD12Q1.A2001001.h01v09.006.2018142182927.hdf on try 1\n",
      "Successfully downloaded: MCD12Q1.A2001001.h01v09.006.2018142182927.hdf\n",
      "Successfully downloaded: MCD12Q1.A2001001.h02v08.006.2018142182955.hdf\n",
      "Successfully downloaded: MCD12Q1.A2001001.h02v06.006.2018142182941.hdf\n",
      "Successfully downloaded: MCD12Q1.A2001001.h01v11.006.2018142182942.hdf\n",
      "Successfully downloaded: MCD12Q1.A2001001.h03v06.006.2018142183016.hdf\n",
      "Successfully downloaded: MCD12Q1.A2001001.h00v10.006.2018142182916.hdf\n",
      "Successfully downloaded: MCD12Q1.A2001001.h02v09.006.2018142182957.hdf\n",
      "Successfully downloaded: MCD12Q1.A2001001.h04v10.006.2018142183058.hdf\n"
     ]
    }
   ],
   "source": [
    "# Loop over the download files\n",
    "for file_url in file_list:\n",
    "    \n",
    "    # Make the file name\n",
    "    file_name = file_url.split('/')[-1].strip() # Get the last part of the url, strip whitespace and characters\n",
    "    \n",
    "    # Check if file already exists (i.e. interupted earlier download) and move to next file if so\n",
    "    if (modis_path / file_name).is_file():\n",
    "        continue \n",
    "        \n",
    "    # Make sure the connection is re-tried if it fails\n",
    "    retries_cur = 1\n",
    "    while retries_cur <= retries_max:\n",
    "        try:\n",
    "            # Send a HTTP request to the server and save the HTTP response in a response object called resp\n",
    "            # 'stream = True' ensures that only response headers are downloaded initially (and not all file contents too, which are 2GB+)\n",
    "            with requests.get(file_url.strip(), verify=True, stream=True, auth=(usr,pwd)) as response:\n",
    "        \n",
    "                # Decode the response\n",
    "                response.raw.decode_content = True\n",
    "                content = response.raw        \n",
    "        \n",
    "                # Write to file\n",
    "                with open(modis_path / file_name, 'wb') as data:\n",
    "                    shutil.copyfileobj(content, data)\n",
    "            \n",
    "                # Progress\n",
    "                print('Successfully downloaded: {}'.format(file_name))\n",
    "                time.sleep(3) # sleep for a bit so we don't overwhelm the server\n",
    "                \n",
    "        except:\n",
    "            print('Error downloading ' + file_name + ' on try ' + str(retries_cur))\n",
    "            retries_cur += 1\n",
    "            continue\n",
    "        else:\n",
    "            break"
   ]
  },
  {
   "cell_type": "markdown",
   "metadata": {},
   "source": [
    "#### Code provenance\n",
    "Generates a basic log file in the domain folder and copies the control file and itself there."
   ]
  },
  {
   "cell_type": "code",
   "execution_count": 18,
   "metadata": {},
   "outputs": [],
   "source": [
    "# Set the log path and file name\n",
    "logPath = modis_path\n",
    "log_suffix = '_modis_download_log.txt'"
   ]
  },
  {
   "cell_type": "code",
   "execution_count": 19,
   "metadata": {},
   "outputs": [],
   "source": [
    "# Create a log folder\n",
    "logFolder = '_workflow_log'\n",
    "Path( logPath / logFolder ).mkdir(parents=True, exist_ok=True)"
   ]
  },
  {
   "cell_type": "code",
   "execution_count": 20,
   "metadata": {},
   "outputs": [],
   "source": [
    "# Copy this script\n",
    "thisFile = 'download_modis_mcd12q1_v6.ipynb'\n",
    "copyfile(thisFile, logPath / logFolder / thisFile);"
   ]
  },
  {
   "cell_type": "code",
   "execution_count": 21,
   "metadata": {},
   "outputs": [],
   "source": [
    "# Get current date and time\n",
    "now = datetime.now()"
   ]
  },
  {
   "cell_type": "code",
   "execution_count": 22,
   "metadata": {},
   "outputs": [],
   "source": [
    "# Create a log file \n",
    "logFile = now.strftime('%Y%m%d') + log_suffix\n",
    "with open( logPath / logFolder / logFile, 'w') as file:\n",
    "    \n",
    "    lines = ['Log generated by ' + thisFile + ' on ' + now.strftime('%Y/%m/%d %H:%M:%S') + '\\n',\n",
    "             'Downloaded MODIS MCD12Q1_V6 data with global coverage.']\n",
    "    for txt in lines:\n",
    "        file.write(txt) "
   ]
  },
  {
   "cell_type": "code",
   "execution_count": null,
   "metadata": {},
   "outputs": [],
   "source": []
  }
 ],
 "metadata": {
  "kernelspec": {
   "display_name": "summa-env",
   "language": "python",
   "name": "summa-env"
  },
  "language_info": {
   "codemirror_mode": {
    "name": "ipython",
    "version": 3
   },
   "file_extension": ".py",
   "mimetype": "text/x-python",
   "name": "python",
   "nbconvert_exporter": "python",
   "pygments_lexer": "ipython3",
   "version": "3.8.8"
  }
 },
 "nbformat": 4,
 "nbformat_minor": 4
}
