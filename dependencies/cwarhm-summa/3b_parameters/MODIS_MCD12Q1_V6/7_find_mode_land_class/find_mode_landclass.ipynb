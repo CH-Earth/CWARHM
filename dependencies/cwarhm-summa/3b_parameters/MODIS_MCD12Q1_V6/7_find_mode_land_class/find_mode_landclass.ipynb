{
 "cells": [
  {
   "cell_type": "markdown",
   "metadata": {},
   "source": [
    "# Find mode land class"
   ]
  },
  {
   "cell_type": "code",
   "execution_count": 1,
   "metadata": {},
   "outputs": [],
   "source": [
    "import os\n",
    "import numpy as np\n",
    "from pathlib import Path\n",
    "import scipy.stats as sc\n",
    "from shutil import copyfile\n",
    "from datetime import datetime\n",
    "from osgeo import gdal, ogr, osr"
   ]
  },
  {
   "cell_type": "markdown",
   "metadata": {},
   "source": [
    "#### Control file handling"
   ]
  },
  {
   "cell_type": "code",
   "execution_count": 2,
   "metadata": {},
   "outputs": [],
   "source": [
    "# Easy access to control file folder\n",
    "controlFolder = Path('../../../0_control_files')"
   ]
  },
  {
   "cell_type": "code",
   "execution_count": 3,
   "metadata": {},
   "outputs": [],
   "source": [
    "# Store the name of the 'active' file in a variable\n",
    "controlFile = 'control_active.txt'"
   ]
  },
  {
   "cell_type": "code",
   "execution_count": 4,
   "metadata": {},
   "outputs": [],
   "source": [
    "# Function to extract a given setting from the control file\n",
    "def read_from_control( file, setting ):\n",
    "    \n",
    "    # Open 'control_active.txt' and ...\n",
    "    with open(file) as contents:\n",
    "        for line in contents:\n",
    "            \n",
    "            # ... find the line with the requested setting\n",
    "            if setting in line and not line.startswith('#'):\n",
    "                break\n",
    "    \n",
    "    # Extract the setting's value\n",
    "    substring = line.split('|',1)[1]      # Remove the setting's name (split into 2 based on '|', keep only 2nd part)\n",
    "    substring = substring.split('#',1)[0] # Remove comments, does nothing if no '#' is found\n",
    "    substring = substring.strip()         # Remove leading and trailing whitespace, tabs, newlines\n",
    "       \n",
    "    # Return this value    \n",
    "    return substring"
   ]
  },
  {
   "cell_type": "code",
   "execution_count": 5,
   "metadata": {},
   "outputs": [],
   "source": [
    "# Function to specify a default path\n",
    "def make_default_path(suffix):\n",
    "    \n",
    "    # Get the root path\n",
    "    rootPath = Path( read_from_control(controlFolder/controlFile,'root_path') )\n",
    "    \n",
    "    # Get the domain folder\n",
    "    domainName = read_from_control(controlFolder/controlFile,'domain_name')\n",
    "    domainFolder = 'domain_' + domainName\n",
    "    \n",
    "    # Specify the forcing path\n",
    "    defaultPath = rootPath / domainFolder / suffix\n",
    "    \n",
    "    return defaultPath"
   ]
  },
  {
   "cell_type": "markdown",
   "metadata": {},
   "source": [
    "#### Find source and destination locations"
   ]
  },
  {
   "cell_type": "code",
   "execution_count": 6,
   "metadata": {},
   "outputs": [],
   "source": [
    "# Find where the soil classes are\n",
    "landClassPath = read_from_control(controlFolder/controlFile,'parameter_land_tif_path')"
   ]
  },
  {
   "cell_type": "code",
   "execution_count": 7,
   "metadata": {},
   "outputs": [],
   "source": [
    "# Specify the default paths if required \n",
    "if landClassPath == 'default':\n",
    "    landClassPath = make_default_path('parameters/landclass/6_tif_multiband') # outputs a Path()\n",
    "else:\n",
    "    landClassPath = Path(landClassPath) # make sure a user-specified path is a Path()"
   ]
  },
  {
   "cell_type": "code",
   "execution_count": 8,
   "metadata": {},
   "outputs": [],
   "source": [
    "# Find where the mode soil class needs to go\n",
    "modeLandClassPath = read_from_control(controlFolder/controlFile,'parameter_land_mode_path')"
   ]
  },
  {
   "cell_type": "code",
   "execution_count": 9,
   "metadata": {},
   "outputs": [],
   "source": [
    "# Specify the default paths if required \n",
    "if modeLandClassPath == 'default':\n",
    "    modeLandClassPath = make_default_path('parameters/landclass/7_mode_land_class') # outputs a Path()\n",
    "else:\n",
    "    modeLandClassPath = Path(modeLandClassPath) # make sure a user-specified path is a Path()"
   ]
  },
  {
   "cell_type": "code",
   "execution_count": 15,
   "metadata": {},
   "outputs": [],
   "source": [
    "# Make the folder if it doesn't exist\n",
    "modeLandClassPath.mkdir(parents=True, exist_ok=True)"
   ]
  },
  {
   "cell_type": "markdown",
   "metadata": {},
   "source": [
    "#### Filenames"
   ]
  },
  {
   "cell_type": "code",
   "execution_count": 10,
   "metadata": {},
   "outputs": [],
   "source": [
    "# Find the name of the source file\n",
    "for file in os.listdir(landClassPath):\n",
    "    if file.endswith(\".tif\"):\n",
    "        source_file = file"
   ]
  },
  {
   "cell_type": "code",
   "execution_count": 11,
   "metadata": {},
   "outputs": [],
   "source": [
    "# New file\n",
    "dest_file = read_from_control(controlFolder/controlFile,'parameter_land_tif_name')"
   ]
  },
  {
   "cell_type": "markdown",
   "metadata": {},
   "source": [
    "#### Function definition"
   ]
  },
  {
   "cell_type": "code",
   "execution_count": 19,
   "metadata": {},
   "outputs": [],
   "source": [
    "# Opens geotif file, extracts data from a single band and computes corner & center coordinates in lat/lon\n",
    "def open_geotif(file,band):\n",
    "    \n",
    "    # Do the things\n",
    "    ds = gdal.Open(file) # open the file\n",
    "    band = ds.GetRasterBand(band) # get the data band; there should be 18 for each of the 18 years\n",
    "    data = band.ReadAsArray() # convert to numpy array for further manipulation\n",
    "    width = ds.RasterXSize # pixel width\n",
    "    height = ds.RasterYSize # pixel height\n",
    "    rasterSize = [width,height]\n",
    "    geoTransform = ds.GetGeoTransform() # geolocation\n",
    "    boundingBox = np.zeros((5,2)) # coordinates of bounding box\n",
    "    boundingBox[0,0] = boundingBox[1,0] = geoTransform[0]\n",
    "    boundingBox[0,1] = boundingBox[2,1] = geoTransform[3]\n",
    "    boundingBox[2,0] = boundingBox[3,0] = geoTransform[0] + width*geoTransform[1]\n",
    "    boundingBox[1,1] = boundingBox[3,1] = geoTransform[3] + height*geoTransform[5]\n",
    "    boundingBox[4,0] = geoTransform[0] + (width/2)*geoTransform[1]\n",
    "    boundingBox[4,1] = geoTransform[3] + (height/2)*geoTransform[5]\n",
    "    \n",
    "    return data, geoTransform, rasterSize, boundingBox"
   ]
  },
  {
   "cell_type": "code",
   "execution_count": 20,
   "metadata": {},
   "outputs": [],
   "source": [
    "# Writes data into a new geotif file\n",
    "# Source: https://gis.stackexchange.com/questions/199477/gdal-python-cut-geotiff-image/199565\n",
    "def write_geotif_sameDomain(src_file,des_file,des_data):\n",
    "    \n",
    "    # load the source file to get the appropriate attributes\n",
    "    src_ds = gdal.Open(src_file)\n",
    "    \n",
    "    # get the geotransform\n",
    "    des_transform = src_ds.GetGeoTransform()\n",
    "    \n",
    "    # get the data dimensions\n",
    "    ncols = des_data.shape[1]\n",
    "    nrows = des_data.shape[0]\n",
    "    \n",
    "    # make the file\n",
    "    driver = gdal.GetDriverByName(\"GTiff\")\n",
    "    dst_ds = driver.Create(des_file,ncols,nrows,1,gdal.GDT_Float32, options = [ 'COMPRESS=DEFLATE' ])\n",
    "    dst_ds.GetRasterBand(1).WriteArray( des_data ) \n",
    "    dst_ds.SetGeoTransform(des_transform)\n",
    "    wkt = src_ds.GetProjection()\n",
    "    srs = osr.SpatialReference()\n",
    "    srs.ImportFromWkt(wkt)\n",
    "    dst_ds.SetProjection( srs.ExportToWkt() )\n",
    "    \n",
    "    # close files\n",
    "    src_ds = None\n",
    "    des_ds = None\n",
    "\n",
    "    return"
   ]
  },
  {
   "cell_type": "markdown",
   "metadata": {},
   "source": [
    "#### Find mode land class "
   ]
  },
  {
   "cell_type": "code",
   "execution_count": 21,
   "metadata": {},
   "outputs": [],
   "source": [
    "# Get land use classes for each year\n",
    "land_use_classes = np.dstack((open_geotif( str(landClassPath/source_file) ,1)[0], \\\n",
    "                              open_geotif( str(landClassPath/source_file) ,2)[0], \\\n",
    "                              open_geotif( str(landClassPath/source_file) ,3)[0], \\\n",
    "                              open_geotif( str(landClassPath/source_file) ,4)[0], \\\n",
    "                              open_geotif( str(landClassPath/source_file) ,5)[0], \\\n",
    "                              open_geotif( str(landClassPath/source_file) ,6)[0], \\\n",
    "                              open_geotif( str(landClassPath/source_file) ,7)[0], \\\n",
    "                              open_geotif( str(landClassPath/source_file) ,8)[0], \\\n",
    "                              open_geotif( str(landClassPath/source_file) ,9)[0], \\\n",
    "                              open_geotif( str(landClassPath/source_file) ,10)[0], \\\n",
    "                              open_geotif( str(landClassPath/source_file) ,11)[0], \\\n",
    "                              open_geotif( str(landClassPath/source_file) ,12)[0], \\\n",
    "                              open_geotif( str(landClassPath/source_file) ,13)[0], \\\n",
    "                              open_geotif( str(landClassPath/source_file) ,14)[0], \\\n",
    "                              open_geotif( str(landClassPath/source_file) ,15)[0], \\\n",
    "                              open_geotif( str(landClassPath/source_file) ,16)[0], \\\n",
    "                              open_geotif( str(landClassPath/source_file) ,17)[0], \\\n",
    "                              open_geotif( str(landClassPath/source_file) ,18)[0]))"
   ]
  },
  {
   "cell_type": "code",
   "execution_count": 22,
   "metadata": {},
   "outputs": [],
   "source": [
    "# Extract mode\n",
    "mode = sc.mode(land_use_classes,axis=2)[0].squeeze()"
   ]
  },
  {
   "cell_type": "code",
   "execution_count": 34,
   "metadata": {},
   "outputs": [],
   "source": [
    "# Store this in a new geotif file\n",
    "src_file = str(landClassPath/source_file)\n",
    "des_file = str(modeLandClassPath/dest_file)\n",
    "write_geotif_sameDomain(src_file,des_file,mode)"
   ]
  },
  {
   "cell_type": "markdown",
   "metadata": {},
   "source": [
    "#### Code provenance"
   ]
  },
  {
   "cell_type": "code",
   "execution_count": 24,
   "metadata": {},
   "outputs": [],
   "source": [
    "# Set the log path and file name\n",
    "logPath = modeLandClassPath\n",
    "log_suffix = '_mode_over_years_log.txt'"
   ]
  },
  {
   "cell_type": "code",
   "execution_count": 25,
   "metadata": {},
   "outputs": [],
   "source": [
    "# Create a log folder\n",
    "logFolder = '_workflow_log'\n",
    "Path( logPath / logFolder ).mkdir(parents=True, exist_ok=True)"
   ]
  },
  {
   "cell_type": "code",
   "execution_count": 28,
   "metadata": {},
   "outputs": [],
   "source": [
    "# Copy this script\n",
    "thisFile = 'find_mode_landclass.ipynb'\n",
    "copyfile(thisFile, logPath / logFolder / thisFile);"
   ]
  },
  {
   "cell_type": "code",
   "execution_count": 26,
   "metadata": {},
   "outputs": [],
   "source": [
    "# Get current date and time\n",
    "now = datetime.now()"
   ]
  },
  {
   "cell_type": "code",
   "execution_count": 29,
   "metadata": {},
   "outputs": [],
   "source": [
    "# Create a log file \n",
    "logFile = now.strftime('%Y%m%d') + log_suffix\n",
    "with open( logPath / logFolder / logFile, 'w') as file:\n",
    "    \n",
    "    lines = ['Log generated by ' + thisFile + ' on ' + now.strftime('%Y/%m/%d %H:%M:%S') + '\\n',\n",
    "             'Found mode landclass over years']\n",
    "    for txt in lines:\n",
    "        file.write(txt) "
   ]
  },
  {
   "cell_type": "code",
   "execution_count": 30,
   "metadata": {},
   "outputs": [
    {
     "data": {
      "text/plain": [
       "WindowsPath('C:/Globus endpoint/summaWorkflow_data/domain_BowAtBanff/parameters/landclass/7_mode_land_class')"
      ]
     },
     "execution_count": 30,
     "metadata": {},
     "output_type": "execute_result"
    }
   ],
   "source": [
    "logPath"
   ]
  },
  {
   "cell_type": "code",
   "execution_count": null,
   "metadata": {},
   "outputs": [],
   "source": []
  }
 ],
 "metadata": {
  "kernelspec": {
   "display_name": "summa-env",
   "language": "python",
   "name": "summa-env"
  },
  "language_info": {
   "codemirror_mode": {
    "name": "ipython",
    "version": 3
   },
   "file_extension": ".py",
   "mimetype": "text/x-python",
   "name": "python",
   "nbconvert_exporter": "python",
   "pygments_lexer": "ipython3",
   "version": "3.8.8"
  }
 },
 "nbformat": 4,
 "nbformat_minor": 4
}
