{
 "cells": [
  {
   "cell_type": "markdown",
   "metadata": {},
   "source": [
    "# Download MODIS MCD12Q1_V6\n",
    "Script based on example provided on: https://git.earthdata.nasa.gov/projects/LPDUR/repos/daac_data_download_python/browse\n",
    "\n",
    "Requires a `.netrc` file in user's home directory with login credentials for `urs.earthdata.nasa.gov`. See: https://lpdaac.usgs.gov/resources/e-learning/how-access-lp-daac-data-command-line/"
   ]
  },
  {
   "cell_type": "code",
   "execution_count": 1,
   "metadata": {},
   "outputs": [],
   "source": [
    "# Import Modules\n",
    "import os,sys,glob\n",
    "import time\n",
    "import shutil\n",
    "import requests\n",
    "from netrc import netrc\n",
    "from pathlib import Path\n",
    "from shutil import copyfile\n",
    "from concurrent.futures import ThreadPoolExecutor\n",
    "import subprocess\n",
    "import ipynbname\n",
    "thisFile = ipynbname.name()+'.ipynb'\n",
    "#Import local modules\n",
    "from workflow_utility_functions import read_from_control,make_default_path, create_log_file\n"
   ]
  },
  {
   "cell_type": "markdown",
   "metadata": {},
   "source": [
    "#### Control file handling"
   ]
  },
  {
   "cell_type": "code",
   "execution_count": 2,
   "metadata": {},
   "outputs": [],
   "source": [
    "# Easy access to control file folder\n",
    "controlFolder = Path('../../../0_control_files')"
   ]
  },
  {
   "cell_type": "code",
   "execution_count": 3,
   "metadata": {},
   "outputs": [],
   "source": [
    "# Store the name of the 'active' file in a variable\n",
    "controlFile = 'control_active.txt'"
   ]
  },
  {
   "cell_type": "code",
   "execution_count": 4,
   "metadata": {},
   "outputs": [],
   "source": [
    "def request_get(file_url,output_file, usr, pwd):\n",
    "    '''Function to request and download data, given user credentials'''\n",
    "\n",
    "    try:\n",
    "        res = requests.get(file_url, verify=True, stream=True, auth=(usr, pwd))\n",
    "\n",
    "        # Decode the response\n",
    "        res.raw.decode_content = True\n",
    "        content = res.raw\n",
    "\n",
    "        # Write to file\n",
    "        with open(output_file, 'wb') as data:\n",
    "            shutil.copyfileobj(content, data)\n",
    "\n",
    "    except:\n",
    "        logger.warning(f'File {file_url} was not downloaded correctly, on attempt {retries_cur} of {retires_max}')\n",
    "        retries_cur += 1\n",
    "\n",
    "    return None"
   ]
  },
  {
   "cell_type": "code",
   "execution_count": 5,
   "metadata": {},
   "outputs": [],
   "source": [
    "def run_modis_download(file_list,usr,pwd,modis_path):\n",
    "    '''Download the needed files using Threading'''\n",
    "\n",
    "    with ThreadPoolExecutor() as executor:\n",
    "        futures = []\n",
    "        for file_url_raw in file_list:\n",
    "\n",
    "            file_url = file_url_raw.strip()\n",
    "            file_name = file_url.split('/')[-1].strip()  # Get the last part of the url, strip whitespace and characters\n",
    "\n",
    "            #Check if file already exists  and move to next file if so\n",
    "            if (modis_path / file_name).is_file():\n",
    "                logger.debug(f'File {file_name} exists, skipping download')\n",
    "            else:\n",
    "                #Set the output file name, and submit the download request\n",
    "                output_file = os.path.join(modis_path, file_name)\n",
    "                futures.append(executor.submit(request_get, file_url, output_file, usr, pwd))\n",
    "\n",
    "                logger.info(f'Downloading file: {file_name} from: {file_url}')\n",
    "\n",
    "    return None"
   ]
  },
  {
   "cell_type": "code",
   "execution_count": 6,
   "metadata": {},
   "outputs": [],
   "source": [
    "def download_check(file_list, modis_path,retries_cur):\n",
    "    '''This function checks that all needed files are downloaded, and if not will try again '''\n",
    "\n",
    "    check_folder = str(modis_path) + \"/*.hdf\"\n",
    "    file_list_check = glob.glob(check_folder)\n",
    "\n",
    "    file_list.sort()\n",
    "    file_list_check.sort()\n",
    "\n",
    "    if len(file_list) == len(file_list_check):\n",
    "        logger.info(f'All required files have been downloaded')\n",
    "        download_complete_bool = True\n",
    "    else:\n",
    "        logger.warning(f'Required files were not downloaded, another attempt will be made')\n",
    "        download_complete_bool = False\n",
    "        retries_cur += 1\n",
    "\n",
    "    return download_complete_bool,retries_cur"
   ]
  },
  {
   "cell_type": "markdown",
   "metadata": {},
   "source": [
    "#### Get the download settings"
   ]
  },
  {
   "cell_type": "code",
   "execution_count": 7,
   "metadata": {},
   "outputs": [],
   "source": [
    "# Path and name of file with download links\n",
    "links_path = read_from_control(controlFolder/controlFile,'parameter_land_list_path')\n",
    "links_file = read_from_control(controlFolder/controlFile,'parameter_land_list_name')"
   ]
  },
  {
   "cell_type": "code",
   "execution_count": 8,
   "metadata": {},
   "outputs": [],
   "source": [
    "# Specify the default paths if required \n",
    "if links_path == 'default':\n",
    "    links_path = Path('./') # outputs a Path()\n",
    "else:\n",
    "    links_path = Path(links_path) # make sure a user-specified path is a Path()"
   ]
  },
  {
   "cell_type": "code",
   "execution_count": 9,
   "metadata": {},
   "outputs": [],
   "source": [
    "# Find where the data needs to go\n",
    "modis_path = read_from_control(controlFolder/controlFile,'parameter_land_raw_path')"
   ]
  },
  {
   "cell_type": "code",
   "execution_count": 10,
   "metadata": {},
   "outputs": [],
   "source": [
    "# Specify the default paths if required \n",
    "if modis_path == 'default':\n",
    "    modis_path = make_default_path('parameters/landclass/1_MODIS_raw_data',controlFolder,controlFile) # outputs a Path()\n",
    "else:\n",
    "    modis_path = Path(modis_path) # make sure a user-specified path is a Path()"
   ]
  },
  {
   "cell_type": "code",
   "execution_count": 11,
   "metadata": {},
   "outputs": [],
   "source": [
    "# Make output dir\n",
    "modis_path.mkdir(parents=True, exist_ok=True)"
   ]
  },
  {
   "cell_type": "code",
   "execution_count": 12,
   "metadata": {},
   "outputs": [
    {
     "name": "stdout",
     "output_type": "stream",
     "text": [
      "2021-05-10 10:21:25,241 - INFO - Log file /Users/drc858/Data/workflow_output/domain_BowAtBanff/parameters/landclass/1_MODIS_raw_data/_workflow_log/20210510_modis_download__log.txt generated by download_modis_mcd12q1_v6.ipynb on 2021/05/10 10:21:25\n"
     ]
    }
   ],
   "source": [
    "# Set the log path and file name\n",
    "logPath = modis_path\n",
    "log_suffix = '_modis_download_'\n",
    "\n",
    "# Create a log folder\n",
    "logFolder = '_workflow_log'\n",
    "Path(logPath / logFolder).mkdir(parents=True, exist_ok=True)\n",
    "\n",
    "#Create a logging file\n",
    "logger = create_log_file(logPath / logFolder,thisFile,suffix=log_suffix)"
   ]
  },
  {
   "cell_type": "markdown",
   "metadata": {},
   "source": [
    "#### Get the authentication info\n"
   ]
  },
  {
   "cell_type": "code",
   "execution_count": 13,
   "metadata": {},
   "outputs": [],
   "source": [
    "# authentication url\n",
    "url = 'urs.earthdata.nasa.gov'"
   ]
  },
  {
   "cell_type": "code",
   "execution_count": 14,
   "metadata": {},
   "outputs": [],
   "source": [
    "# make the netrc directory\n",
    "netrc_folder = os.path.expanduser(\"~/.netrc\")"
   ]
  },
  {
   "cell_type": "code",
   "execution_count": 15,
   "metadata": {},
   "outputs": [],
   "source": [
    "# Get user name and password - not great, but these are stored as plain text on the user's machine regardless..\n",
    "usr = netrc(netrc_folder).authenticators(url)[0]\n",
    "pwd = netrc(netrc_folder).authenticators(url)[2]"
   ]
  },
  {
   "cell_type": "markdown",
   "metadata": {},
   "source": [
    "#### Do the downloads"
   ]
  },
  {
   "cell_type": "code",
   "execution_count": 16,
   "metadata": {},
   "outputs": [],
   "source": [
    "# Get the download links from file\n",
    "file_list = open(links_file, 'r').readlines()"
   ]
  },
  {
   "cell_type": "code",
   "execution_count": 17,
   "metadata": {},
   "outputs": [
    {
     "name": "stdout",
     "output_type": "stream",
     "text": [
      "2021-05-10 10:21:25,262 - INFO - Downloading MODIS MCD12Q1_V6 data with global coverage.\n"
     ]
    }
   ],
   "source": [
    "logger.info('Downloading MODIS MCD12Q1_V6 data with global coverage.')\n",
    "\n",
    "#Read all files in folder, in order to compare to download list\n",
    "check_folder = str(modis_path)+\"/*.hdf\"\n",
    "file_list_check = glob.glob(check_folder)\n",
    "\n",
    "file_list.sort()\n",
    "file_list_check.sort()\n",
    "\n",
    "download_complete_bool = False\n",
    "retries_cur = 1\n",
    "retries_max = 10"
   ]
  },
  {
   "cell_type": "code",
   "execution_count": 18,
   "metadata": {},
   "outputs": [
    {
     "name": "stdout",
     "output_type": "stream",
     "text": [
      "2021-05-10 10:21:25,681 - INFO - All required files have been downloaded\n"
     ]
    }
   ],
   "source": [
    "\"\"\"This is the main download loop\"\"\"\n",
    "while download_complete_bool == False:\n",
    "\n",
    "    #Run download given complete list\n",
    "    run_modis_download(file_list, usr, pwd, modis_path)\n",
    "    #Check if number of files meets the length of the list\n",
    "    download_complete_bool,retries_cur = download_check(file_list, modis_path,retries_cur)\n",
    "\n",
    "    #Break when all files are downloaded\n",
    "    if download_complete_bool == True:\n",
    "        break\n",
    "\n",
    "    #If there are too many retries, then break\n",
    "    if retries_cur >= retries_max:\n",
    "        logger.error(f'Maximum number of tries ({retries_max}) has been reached, aborting')\n",
    "        break"
   ]
  },
  {
   "cell_type": "markdown",
   "metadata": {},
   "source": [
    "#### Code provenance\n",
    "Generates a basic log file in the domain folder and copies the control file and itself there."
   ]
  },
  {
   "cell_type": "code",
   "execution_count": 20,
   "metadata": {},
   "outputs": [
    {
     "name": "stdout",
     "output_type": "stream",
     "text": [
      "2021-05-10 10:24:36,701 - INFO - File: (../../../0_control_files/control_active.txt) has been moved to /Users/drc858/Data/workflow_output/domain_BowAtBanff/parameters/landclass/1_MODIS_raw_data/_workflow_log/control_active.txt\n",
      "2021-05-10 10:24:36,703 - INFO - File: (download_modis_mcd12q1_v6.ipynb) has been moved to /Users/drc858/Data/workflow_output/domain_BowAtBanff/parameters/landclass/1_MODIS_raw_data/_workflow_log/download_modis_mcd12q1_v6.ipynb\n"
     ]
    }
   ],
   "source": [
    "# Generates copies the control file and itself there.\n",
    "#Copy the control file\n",
    "copyfile(controlFolder / controlFile, logPath / logFolder / controlFile)\n",
    "logger.info(f'File: ({controlFolder / controlFile}) has been moved to {logPath / logFolder / controlFile}')\n",
    "# Copy this script\n",
    "copyfile(thisFile, logPath / logFolder / thisFile)\n",
    "logger.info(f'File: ({thisFile}) has been moved to {logPath / logFolder / thisFile}')\n"
   ]
  },
  {
   "cell_type": "code",
   "execution_count": null,
   "metadata": {},
   "outputs": [],
   "source": []
  }
 ],
 "metadata": {
  "kernelspec": {
   "display_name": "summa-venv",
   "language": "python",
   "name": "summa-venv"
  },
  "language_info": {
   "codemirror_mode": {
    "name": "ipython",
    "version": 3
   },
   "file_extension": ".py",
   "mimetype": "text/x-python",
   "name": "python",
   "nbconvert_exporter": "python",
   "pygments_lexer": "ipython3",
   "version": "3.8.2"
  }
 },
 "nbformat": 4,
 "nbformat_minor": 4
}
