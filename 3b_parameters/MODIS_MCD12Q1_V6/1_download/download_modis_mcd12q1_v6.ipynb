{
 "cells": [
  {
   "cell_type": "markdown",
   "metadata": {},
   "source": [
    "# Download MODIS MCD12Q1_V6\n",
    "Script based on example provided on: https://git.earthdata.nasa.gov/projects/LPDUR/repos/daac_data_download_python/browse\n",
    "\n",
    "Requires a `.netrc` file in user's home directory with login credentials for `urs.earthdata.nasa.gov`. See: https://lpdaac.usgs.gov/resources/e-learning/how-access-lp-daac-data-command-line/"
   ]
  },
  {
   "cell_type": "code",
   "execution_count": null,
   "metadata": {},
   "outputs": [],
   "source": [
    "# modules\n",
    "import os\n",
    "import time\n",
    "import shutil\n",
    "import requests\n",
    "from netrc import netrc\n",
    "from pathlib import Path\n",
    "from shutil import copyfile\n",
    "from datetime import datetime\n",
    "import concurrent\n",
    "from concurrent.futures.thread import ThreadPoolExecutor"
   ]
  },
  {
   "cell_type": "markdown",
   "metadata": {},
   "source": [
    "#### Control file handling"
   ]
  },
  {
   "cell_type": "code",
   "execution_count": null,
   "metadata": {},
   "outputs": [],
   "source": [
    "# Easy access to control file folder\n",
    "controlFolder = Path('../../../0_control_files')"
   ]
  },
  {
   "cell_type": "code",
   "execution_count": null,
   "metadata": {},
   "outputs": [],
   "source": [
    "# Store the name of the 'active' file in a variable\n",
    "controlFile = 'control_active.txt'"
   ]
  },
  {
   "cell_type": "code",
   "execution_count": null,
   "metadata": {},
   "outputs": [],
   "source": [
    "# Function to extract a given setting from the control file\n",
    "def read_from_control( file, setting ):\n",
    "    \n",
    "    # Open 'control_active.txt' and ...\n",
    "    with open(file) as contents:\n",
    "        for line in contents:\n",
    "            \n",
    "            # ... find the line with the requested setting\n",
    "            if setting in line and not line.startswith('#'):\n",
    "                break\n",
    "    \n",
    "    # Extract the setting's value\n",
    "    substring = line.split('|',1)[1]      # Remove the setting's name (split into 2 based on '|', keep only 2nd part)\n",
    "    substring = substring.split('#',1)[0] # Remove comments, does nothing if no '#' is found\n",
    "    substring = substring.strip()         # Remove leading and trailing whitespace, tabs, newlines\n",
    "       \n",
    "    # Return this value    \n",
    "    return substring"
   ]
  },
  {
   "cell_type": "code",
   "execution_count": null,
   "metadata": {},
   "outputs": [],
   "source": [
    "# Function to specify a default path\n",
    "def make_default_path(suffix):\n",
    "    \n",
    "    # Get the root path\n",
    "    rootPath = Path( read_from_control(controlFolder/controlFile,'root_path') )\n",
    "    \n",
    "    # Get the domain folder\n",
    "    domainName = read_from_control(controlFolder/controlFile,'domain_name')\n",
    "    domainFolder = 'domain_' + domainName\n",
    "    \n",
    "    # Specify the forcing path\n",
    "    defaultPath = rootPath / domainFolder / suffix\n",
    "    \n",
    "    return defaultPath"
   ]
  },
  {
   "cell_type": "code",
   "execution_count": null,
   "metadata": {},
   "outputs": [],
   "source": [
    "#Function to request and download data\n",
    "def request_get(file_url,output_file, usr, pwd):\n",
    "    res = requests.get(file_url, verify=True, stream=True, auth=(usr, pwd))\n",
    "\n",
    "    # Decode the response\n",
    "    res.raw.decode_content = True\n",
    "    content = res.raw\n",
    "\n",
    "    # Write to file\n",
    "    with open(output_file, 'wb') as data:\n",
    "        shutil.copyfileobj(content, data)\n",
    "        \n",
    "    return None"
   ]
  },
  {
   "cell_type": "markdown",
   "metadata": {},
   "source": [
    "#### Get the download settings"
   ]
  },
  {
   "cell_type": "code",
   "execution_count": null,
   "metadata": {},
   "outputs": [],
   "source": [
    "# Path and name of file with download links\n",
    "links_path = read_from_control(controlFolder/controlFile,'parameter_land_list_path')\n",
    "links_file = read_from_control(controlFolder/controlFile,'parameter_land_list_name')"
   ]
  },
  {
   "cell_type": "code",
   "execution_count": null,
   "metadata": {},
   "outputs": [],
   "source": [
    "# Specify the default paths if required \n",
    "if links_path == 'default':\n",
    "    links_path = Path('./') # outputs a Path()\n",
    "else:\n",
    "    links_path = Path(links_path) # make sure a user-specified path is a Path()"
   ]
  },
  {
   "cell_type": "code",
   "execution_count": null,
   "metadata": {},
   "outputs": [],
   "source": [
    "# Find where the data needs to go\n",
    "modis_path = read_from_control(controlFolder/controlFile,'parameter_land_raw_path')"
   ]
  },
  {
   "cell_type": "code",
   "execution_count": null,
   "metadata": {},
   "outputs": [],
   "source": [
    "# Specify the default paths if required \n",
    "if modis_path == 'default':\n",
    "    modis_path = make_default_path('parameters/landclass/1_MODIS_raw_data') # outputs a Path()\n",
    "else:\n",
    "    modis_path = Path(modis_path) # make sure a user-specified path is a Path()"
   ]
  },
  {
   "cell_type": "code",
   "execution_count": null,
   "metadata": {},
   "outputs": [],
   "source": [
    "# Make output dir\n",
    "modis_path.mkdir(parents=True, exist_ok=True)"
   ]
  },
  {
   "cell_type": "markdown",
   "metadata": {},
   "source": [
    "#### Get the authentication info\n"
   ]
  },
  {
   "cell_type": "code",
   "execution_count": null,
   "metadata": {},
   "outputs": [],
   "source": [
    "# authentication url\n",
    "url = 'urs.earthdata.nasa.gov'"
   ]
  },
  {
   "cell_type": "code",
   "execution_count": null,
   "metadata": {},
   "outputs": [],
   "source": [
    "# make the netrc directory\n",
    "netrc_folder = os.path.expanduser(\"~/.netrc\")"
   ]
  },
  {
   "cell_type": "code",
   "execution_count": null,
   "metadata": {},
   "outputs": [],
   "source": [
    "# Get user name and password - not great, but these are stored as plain text on the user's machine regardless..\n",
    "usr = netrc(netrc_folder).authenticators(url)[0]\n",
    "pwd = netrc(netrc_folder).authenticators(url)[2]"
   ]
  },
  {
   "cell_type": "markdown",
   "metadata": {},
   "source": [
    "#### Do the downloads"
   ]
  },
  {
   "cell_type": "code",
   "execution_count": null,
   "metadata": {},
   "outputs": [],
   "source": [
    "# Get the download links from file\n",
    "file_list = open(links_file, 'r').readlines()"
   ]
  },
  {
   "cell_type": "code",
   "execution_count": null,
   "metadata": {},
   "outputs": [],
   "source": [
    "# Retry settings: connection can be unstable, so specify a number of retries\n",
    "retries_max = 100 "
   ]
  },
  {
   "cell_type": "code",
   "execution_count": null,
   "metadata": {},
   "outputs": [],
   "source": [
    "\n",
    "# Download needed files with threading\n",
    "with ThreadPoolExecutor() as executor:\n",
    "    futures = []\n",
    "    for file_url_raw in file_list:\n",
    "\n",
    "        file_url = file_url_raw.strip()\n",
    "\n",
    "        file_name = file_url.split('/')[-1].strip()  # Get the last part of the url, strip whitespace and characters\n",
    "        output_file = os.path.join(modis_path, file_name)\n",
    "        print(f'Downloading file: {file_name} from: {file_url}')\n",
    "        futures.append(executor.submit(request_get, file_url,output_file, usr, pwd))"
   ]
  },
  {
   "cell_type": "markdown",
   "metadata": {},
   "source": [
    "#### Code provenance\n",
    "Generates a basic log file in the domain folder and copies the control file and itself there."
   ]
  },
  {
   "cell_type": "code",
   "execution_count": null,
   "metadata": {},
   "outputs": [],
   "source": [
    "# Set the log path and file name\n",
    "logPath = modis_path\n",
    "log_suffix = '_modis_download_log.txt'"
   ]
  },
  {
   "cell_type": "code",
   "execution_count": null,
   "metadata": {},
   "outputs": [],
   "source": [
    "# Create a log folder\n",
    "logFolder = '_workflow_log'\n",
    "Path( logPath / logFolder ).mkdir(parents=True, exist_ok=True)"
   ]
  },
  {
   "cell_type": "code",
   "execution_count": null,
   "metadata": {},
   "outputs": [],
   "source": [
    "# Copy this script\n",
    "thisFile = 'download_modis_mcd12q1_v6.ipynb'\n",
    "copyfile(thisFile, logPath / logFolder / thisFile);"
   ]
  },
  {
   "cell_type": "code",
   "execution_count": null,
   "metadata": {},
   "outputs": [],
   "source": [
    "# Get current date and time\n",
    "now = datetime.now()"
   ]
  },
  {
   "cell_type": "code",
   "execution_count": null,
   "metadata": {},
   "outputs": [],
   "source": [
    "# Create a log file \n",
    "logFile = now.strftime('%Y%m%d') + log_suffix\n",
    "with open( logPath / logFolder / logFile, 'w') as file:\n",
    "    \n",
    "    lines = ['Log generated by ' + thisFile + ' on ' + now.strftime('%Y/%m/%d %H:%M:%S') + '\\n',\n",
    "             'Downloaded MODIS MCD12Q1_V6 data with global coverage.']\n",
    "    for txt in lines:\n",
    "        file.write(txt) "
   ]
  },
  {
   "cell_type": "code",
   "execution_count": null,
   "metadata": {},
   "outputs": [],
   "source": []
  }
 ],
 "metadata": {
  "kernelspec": {
   "display_name": "summa-env",
   "language": "python",
   "name": "summa-env"
  },
  "language_info": {
   "codemirror_mode": {
    "name": "ipython",
    "version": 3
   },
   "file_extension": ".py",
   "mimetype": "text/x-python",
   "name": "python",
   "nbconvert_exporter": "python",
   "pygments_lexer": "ipython3",
   "version": "3.8.8"
  }
 },
 "nbformat": 4,
 "nbformat_minor": 4
}
