{
 "cells": [
  {
   "cell_type": "markdown",
   "metadata": {},
   "source": [
    "# Create network topology .nc file\n",
    "Core assumption: routing is only performed between GRUs. It is recommended to route the runoff from HRUs inside a given GRU with SUMMA instead. This allows for lateral flows between HRUs. Routing HRU runoff with mizuRoute means all HRUs within a given GRU are effectively disconnected. \n",
    "\n",
    "**_The code here does not generalize to HRU-routing with mizuRoute without changes._**"
   ]
  },
  {
   "cell_type": "code",
   "execution_count": 1,
   "metadata": {},
   "outputs": [],
   "source": [
    "# modules\n",
    "import os\n",
    "import pandas as pd\n",
    "import netCDF4 as nc4\n",
    "import geopandas as gpd\n",
    "from pathlib import Path\n",
    "from shutil import copyfile\n",
    "from datetime import datetime"
   ]
  },
  {
   "cell_type": "markdown",
   "metadata": {},
   "source": [
    "#### Control file handling"
   ]
  },
  {
   "cell_type": "code",
   "execution_count": 2,
   "metadata": {},
   "outputs": [],
   "source": [
    "# Easy access to control file folder\n",
    "controlFolder = Path('../../../0_control_files')"
   ]
  },
  {
   "cell_type": "code",
   "execution_count": 3,
   "metadata": {},
   "outputs": [],
   "source": [
    "# Store the name of the 'active' file in a variable\n",
    "controlFile = 'control_active.txt'"
   ]
  },
  {
   "cell_type": "code",
   "execution_count": 4,
   "metadata": {},
   "outputs": [],
   "source": [
    "# Function to extract a given setting from the control file\n",
    "def read_from_control( file, setting ):\n",
    "    \n",
    "    # Open 'control_active.txt' and ...\n",
    "    with open(file) as contents:\n",
    "        for line in contents:\n",
    "            \n",
    "            # ... find the line with the requested setting\n",
    "            if setting in line and not line.startswith('#'):\n",
    "                break\n",
    "    \n",
    "    # Extract the setting's value\n",
    "    substring = line.split('|',1)[1]      # Remove the setting's name (split into 2 based on '|', keep only 2nd part)\n",
    "    substring = substring.split('#',1)[0] # Remove comments, does nothing if no '#' is found\n",
    "    substring = substring.strip()         # Remove leading and trailing whitespace, tabs, newlines\n",
    "       \n",
    "    # Return this value    \n",
    "    return substring"
   ]
  },
  {
   "cell_type": "code",
   "execution_count": 5,
   "metadata": {},
   "outputs": [],
   "source": [
    "# Function to specify a default path\n",
    "def make_default_path(suffix):\n",
    "    \n",
    "    # Get the root path\n",
    "    rootPath = Path( read_from_control(controlFolder/controlFile,'root_path') )\n",
    "    \n",
    "    # Get the domain folder\n",
    "    domainName = read_from_control(controlFolder/controlFile,'domain_name')\n",
    "    domainFolder = 'domain_' + domainName\n",
    "    \n",
    "    # Specify the forcing path\n",
    "    defaultPath = rootPath / domainFolder / suffix\n",
    "    \n",
    "    return defaultPath"
   ]
  },
  {
   "cell_type": "markdown",
   "metadata": {},
   "source": [
    "#### Find location of river network shapefile"
   ]
  },
  {
   "cell_type": "code",
   "execution_count": 6,
   "metadata": {},
   "outputs": [],
   "source": [
    "# River network shapefile path & name\n",
    "river_network_path = read_from_control(controlFolder/controlFile,'river_network_shp_path')\n",
    "river_network_name = read_from_control(controlFolder/controlFile,'river_network_shp_name')"
   ]
  },
  {
   "cell_type": "code",
   "execution_count": 7,
   "metadata": {},
   "outputs": [],
   "source": [
    "# Specify default path if needed\n",
    "if river_network_path == 'default':\n",
    "    river_network_path = make_default_path('shapefiles/river_network') # outputs a Path()\n",
    "else:\n",
    "    river_network_path = Path(river_network_path) # make sure a user-specified path is a Path()"
   ]
  },
  {
   "cell_type": "code",
   "execution_count": 8,
   "metadata": {},
   "outputs": [],
   "source": [
    "# Find the field names we're after\n",
    "river_seg_id      = read_from_control(controlFolder/controlFile,'river_network_shp_segid')\n",
    "river_down_seg_id = read_from_control(controlFolder/controlFile,'river_network_shp_downsegid')\n",
    "river_slope       = read_from_control(controlFolder/controlFile,'river_network_shp_slope')\n",
    "river_length      = read_from_control(controlFolder/controlFile,'river_network_shp_length')"
   ]
  },
  {
   "cell_type": "markdown",
   "metadata": {},
   "source": [
    "#### Find location of river basin shapefile (routing catchments)"
   ]
  },
  {
   "cell_type": "code",
   "execution_count": 9,
   "metadata": {},
   "outputs": [],
   "source": [
    "# River network shapefile path & name\n",
    "river_basin_path = read_from_control(controlFolder/controlFile,'river_basin_shp_path')\n",
    "river_basin_name = read_from_control(controlFolder/controlFile,'river_basin_shp_name')"
   ]
  },
  {
   "cell_type": "code",
   "execution_count": 10,
   "metadata": {},
   "outputs": [],
   "source": [
    "# Specify default path if needed\n",
    "if river_basin_path == 'default':\n",
    "    river_basin_path = make_default_path('shapefiles/river_basins') # outputs a Path()\n",
    "else:\n",
    "    river_basin_path = Path(river_basin_path) # make sure a user-specified path is a Path()"
   ]
  },
  {
   "cell_type": "code",
   "execution_count": 11,
   "metadata": {},
   "outputs": [],
   "source": [
    "# Find the field names we're after\n",
    "basin_hru_id     = read_from_control(controlFolder/controlFile,'river_basin_shp_rm_hruid')\n",
    "basin_hru_area   = read_from_control(controlFolder/controlFile,'river_basin_shp_area')\n",
    "basin_hru_to_seg = read_from_control(controlFolder/controlFile,'river_basin_shp_hru_to_seg')"
   ]
  },
  {
   "cell_type": "markdown",
   "metadata": {},
   "source": [
    "#### Find where the topology file needs to go"
   ]
  },
  {
   "cell_type": "code",
   "execution_count": 12,
   "metadata": {},
   "outputs": [],
   "source": [
    "# Topology .nc path and name\n",
    "topology_path = read_from_control(controlFolder/controlFile,'settings_mizu_path')\n",
    "topology_name = read_from_control(controlFolder/controlFile,'settings_mizu_topology')"
   ]
  },
  {
   "cell_type": "code",
   "execution_count": 13,
   "metadata": {},
   "outputs": [],
   "source": [
    "# Specify default path if needed\n",
    "if topology_path == 'default':\n",
    "    topology_path = make_default_path('settings/mizuRoute') # outputs a Path()\n",
    "else:\n",
    "    topology_path = Path(topology_path) # make sure a user-specified path is a Path()"
   ]
  },
  {
   "cell_type": "code",
   "execution_count": 14,
   "metadata": {},
   "outputs": [],
   "source": [
    "# Make the folder if it doesn't exist\n",
    "topology_path.mkdir(parents=True, exist_ok=True)"
   ]
  },
  {
   "cell_type": "markdown",
   "metadata": {},
   "source": [
    "#### Find if we need to enforce any segments as outlet(s)"
   ]
  },
  {
   "cell_type": "code",
   "execution_count": null,
   "metadata": {},
   "outputs": [],
   "source": [
    "# Find the setting in the control file\n",
    "river_outlet_ids  = read_from_control(controlFolder/controlFile,'settings_mizu_make_outlet')"
   ]
  },
  {
   "cell_type": "code",
   "execution_count": null,
   "metadata": {},
   "outputs": [],
   "source": [
    "# Set flag and convert variable type if needed\n",
    "if 'n/a' in river_outlet_ids:\n",
    "    enforce_outlets = False\n",
    "else:\n",
    "    enforce_outlets = True\n",
    "    river_outlet_ids = river_outlet_ids.split(',') # does nothing if string contains no comma\n",
    "    river_outlet_ids = [int(outlet_id) for outlet_id in river_outlet_ids]    "
   ]
  },
  {
   "cell_type": "markdown",
   "metadata": {},
   "source": [
    "#### Make the river network topology file "
   ]
  },
  {
   "cell_type": "code",
   "execution_count": 15,
   "metadata": {},
   "outputs": [],
   "source": [
    "# Open the shapefile\n",
    "shp_river = gpd.read_file(river_network_path/river_network_name)\n",
    "shp_basin = gpd.read_file(river_basin_path/river_basin_name)"
   ]
  },
  {
   "cell_type": "code",
   "execution_count": 16,
   "metadata": {},
   "outputs": [],
   "source": [
    "# Find the number of segments and mizuRoute-HRUs (SUMMA-GRUs)\n",
    "num_seg = len(shp_river)\n",
    "num_hru = len(shp_basin)"
   ]
  },
  {
   "cell_type": "code",
   "execution_count": 17,
   "metadata": {},
   "outputs": [],
   "source": [
    "# Ensure that any segments specified in the control file are identified to mizuRoute as outlets, by setting the downstream segment to 0\n",
    "# This indicates to mizuRoute that this segment has no downstream segment attached to it; i.e. is an outlet\n",
    "if enforce_outlets:\n",
    "    for outlet_id in river_outlet_ids:\n",
    "        if any(shp_river[river_seg_id] == outlet_id):\n",
    "            shp_river.loc[shp_river[river_seg_id] == outlet_id, river_down_seg_id] = 0\n",
    "        else:\n",
    "            print('outlet_id {} not found in {}'.format(outlet_id,river_seg_id))\n",
	"    \n",
	"# Ensure that any segment with length 0 is set to 1m to avoid tripping mizuRoute\n",
	"shp_river.loc[shp_river[river_length] == 0, river_length] = 1"
   ]
  },
  {
   "cell_type": "code",
   "execution_count": 18,
   "metadata": {},
   "outputs": [],
   "source": [
    "# Function to create new nc variables\n",
    "def create_and_fill_nc_var(ncid, var_name, var_type, dim, fill_val, fill_data, long_name, units):\n",
    "    \n",
    "    # Make the variable\n",
    "    ncvar = ncid.createVariable(var_name, var_type, (dim,), fill_val)\n",
    "    \n",
    "    # Add the data\n",
    "    ncvar[:] = fill_data    \n",
    "    \n",
    "    # Add meta data\n",
    "    ncvar.long_name = long_name \n",
    "    ncvar.unit = units\n",
    "    \n",
    "    return    "
   ]
  },
  {
   "cell_type": "code",
   "execution_count": 19,
   "metadata": {},
   "outputs": [],
   "source": [
    "# Make the netcdf file\n",
    "with nc4.Dataset(topology_path/topology_name, 'w', format='NETCDF4') as ncid:\n",
    "    \n",
    "    # Set general attributes\n",
    "    now = datetime.now()\n",
    "    ncid.setncattr('Author', \"Created by SUMMA workflow scripts\")\n",
    "    ncid.setncattr('History','Created ' + now.strftime('%Y/%m/%d %H:%M:%S'))\n",
    "    ncid.setncattr('Purpose','Create a river network .nc file for mizuRoute routing')\n",
    "    \n",
    "    # Define the seg and hru dimensions\n",
    "    ncid.createDimension('seg', num_seg)\n",
    "    ncid.createDimension('hru', num_hru)\n",
    "    \n",
    "    # --- Variables\n",
    "    create_and_fill_nc_var(ncid, 'segId', 'int', 'seg', False, \\\n",
    "                           shp_river[river_seg_id].values.astype(int), \\\n",
    "                           'Unique ID of each stream segment', '-')\n",
    "    create_and_fill_nc_var(ncid, 'downSegId', 'int', 'seg', False, \\\n",
    "                           shp_river[river_down_seg_id].values.astype(int), \\\n",
    "                           'ID of the downstream segment', '-')\n",
    "    create_and_fill_nc_var(ncid, 'slope', 'f8', 'seg', False, \\\n",
    "                           shp_river[river_slope].values.astype(float), \\\n",
    "                           'Segment slope', '-')\n",
    "    create_and_fill_nc_var(ncid, 'length', 'f8', 'seg', False, \\\n",
    "                           shp_river[river_length].values.astype(float), \\\n",
    "                           'Segment length', 'm')\n",
    "    create_and_fill_nc_var(ncid, 'hruId', 'int', 'hru', False, \\\n",
    "                           shp_basin[basin_hru_id].values.astype(int), \\\n",
    "                           'Unique hru ID', '-') \n",
    "    create_and_fill_nc_var(ncid, 'hruToSegId', 'int', 'hru', False, \\\n",
    "                           shp_basin[basin_hru_to_seg].values.astype(int), \\\n",
    "                           'ID of the stream segment to which the HRU discharges', '-')\n",
    "    create_and_fill_nc_var(ncid, 'area', 'f8', 'hru', False, \\\n",
    "                           shp_basin[basin_hru_area].values.astype(float), \\\n",
    "                           'HRU area', 'm^2')"
   ]
  },
  {
   "cell_type": "markdown",
   "metadata": {},
   "source": [
    "#### Code provenance\n",
    "Generates a basic log file in the domain folder and copies the control file and itself there."
   ]
  },
  {
   "cell_type": "code",
   "execution_count": 20,
   "metadata": {},
   "outputs": [],
   "source": [
    "# Set the log path and file name\n",
    "logPath = topology_path\n",
    "log_suffix = '_make_river_network_topology.txt'"
   ]
  },
  {
   "cell_type": "code",
   "execution_count": 21,
   "metadata": {},
   "outputs": [],
   "source": [
    "# Create a log folder\n",
    "logFolder = '_workflow_log'\n",
    "Path( logPath / logFolder ).mkdir(parents=True, exist_ok=True)"
   ]
  },
  {
   "cell_type": "code",
   "execution_count": 22,
   "metadata": {},
   "outputs": [],
   "source": [
    "# Copy this script\n",
    "thisFile = '1_create_network_topology_file.ipynb'\n",
    "copyfile(thisFile, logPath / logFolder / thisFile);"
   ]
  },
  {
   "cell_type": "code",
   "execution_count": 23,
   "metadata": {},
   "outputs": [],
   "source": [
    "# Get current date and time\n",
    "now = datetime.now()"
   ]
  },
  {
   "cell_type": "code",
   "execution_count": 24,
   "metadata": {},
   "outputs": [],
   "source": [
    "# Create a log file \n",
    "logFile = now.strftime('%Y%m%d') + log_suffix\n",
    "with open( logPath / logFolder / logFile, 'w') as file:\n",
    "    \n",
    "    lines = ['Log generated by ' + thisFile + ' on ' + now.strftime('%Y/%m/%d %H:%M:%S') + '\\n',\n",
    "             'Generated network topology .nc file.']\n",
    "    for txt in lines:\n",
    "        file.write(txt) "
   ]
  },
  {
   "cell_type": "code",
   "execution_count": null,
   "metadata": {},
   "outputs": [],
   "source": []
  }
 ],
 "metadata": {
  "kernelspec": {
   "display_name": "summa-env",
   "language": "python",
   "name": "summa-env"
  },
  "language_info": {
   "codemirror_mode": {
    "name": "ipython",
    "version": 3
   },
   "file_extension": ".py",
   "mimetype": "text/x-python",
   "name": "python",
   "nbconvert_exporter": "python",
   "pygments_lexer": "ipython3",
   "version": "3.8.8"
  }
 },
 "nbformat": 4,
 "nbformat_minor": 4
}
