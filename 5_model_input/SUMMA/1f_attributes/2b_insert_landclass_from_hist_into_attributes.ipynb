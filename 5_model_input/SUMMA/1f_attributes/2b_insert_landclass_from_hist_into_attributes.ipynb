{
 "cells": [
  {
   "cell_type": "markdown",
   "metadata": {},
   "source": [
    "# Insert MODIS-derived land class in SUMMA set up\n",
    "Inserts mode land class of each HRU into the attributes `.nc` file. The intersection code stores a histogram of land classes in fields `IGBP_{1,...,17}`."
   ]
  },
  {
   "cell_type": "code",
   "execution_count": 1,
   "metadata": {},
   "outputs": [],
   "source": [
    "# modules\n",
    "import os\n",
    "import numpy as np\n",
    "import netCDF4 as nc4\n",
    "import geopandas as gpd\n",
    "from pathlib import Path\n",
    "from shutil import copyfile\n",
    "from datetime import datetime"
   ]
  },
  {
   "cell_type": "markdown",
   "metadata": {},
   "source": [
    "#### Control file handling"
   ]
  },
  {
   "cell_type": "code",
   "execution_count": 2,
   "metadata": {},
   "outputs": [],
   "source": [
    "# Easy access to control file folder\n",
    "controlFolder = Path('../../../0_control_files')"
   ]
  },
  {
   "cell_type": "code",
   "execution_count": 3,
   "metadata": {},
   "outputs": [],
   "source": [
    "# Store the name of the 'active' file in a variable\n",
    "controlFile = 'control_active.txt'"
   ]
  },
  {
   "cell_type": "code",
   "execution_count": 4,
   "metadata": {},
   "outputs": [],
   "source": [
    "# Function to extract a given setting from the control file\n",
    "def read_from_control( file, setting ):\n",
    "    \n",
    "    # Open 'control_active.txt' and ...\n",
    "    with open(file) as contents:\n",
    "        for line in contents:\n",
    "            \n",
    "            # ... find the line with the requested setting\n",
    "            if setting in line and not line.startswith('#'):\n",
    "                break\n",
    "    \n",
    "    # Extract the setting's value\n",
    "    substring = line.split('|',1)[1]      # Remove the setting's name (split into 2 based on '|', keep only 2nd part)\n",
    "    substring = substring.split('#',1)[0] # Remove comments, does nothing if no '#' is found\n",
    "    substring = substring.strip()         # Remove leading and trailing whitespace, tabs, newlines\n",
    "       \n",
    "    # Return this value    \n",
    "    return substring"
   ]
  },
  {
   "cell_type": "code",
   "execution_count": 5,
   "metadata": {},
   "outputs": [],
   "source": [
    "# Function to specify a default path\n",
    "def make_default_path(suffix):\n",
    "    \n",
    "    # Get the root path\n",
    "    rootPath = Path( read_from_control(controlFolder/controlFile,'root_path') )\n",
    "    \n",
    "    # Get the domain folder\n",
    "    domainName = read_from_control(controlFolder/controlFile,'domain_name')\n",
    "    domainFolder = 'domain_' + domainName\n",
    "    \n",
    "    # Specify the forcing path\n",
    "    defaultPath = rootPath / domainFolder / suffix\n",
    "    \n",
    "    return defaultPath"
   ]
  },
  {
   "cell_type": "markdown",
   "metadata": {},
   "source": [
    "#### Find shapefile location and name"
   ]
  },
  {
   "cell_type": "code",
   "execution_count": 6,
   "metadata": {},
   "outputs": [],
   "source": [
    "# Path to and name of shapefile with intersection between catchment and soil classes\n",
    "intersect_path = read_from_control(controlFolder/controlFile,'intersect_land_path')\n",
    "intersect_name = read_from_control(controlFolder/controlFile,'intersect_land_name')"
   ]
  },
  {
   "cell_type": "code",
   "execution_count": 7,
   "metadata": {},
   "outputs": [],
   "source": [
    "# Specify default path if needed\n",
    "if intersect_path == 'default':\n",
    "    intersect_path = make_default_path('shapefiles/catchment_intersection/with_modis') # outputs a Path()\n",
    "else:\n",
    "    intersect_path = Path(intersect_path) # make sure a user-specified path is a Path()"
   ]
  },
  {
   "cell_type": "code",
   "execution_count": 8,
   "metadata": {},
   "outputs": [],
   "source": [
    "# Variable names used in shapefile\n",
    "intersect_hruId_var = read_from_control(controlFolder/controlFile,'catchment_shp_hruid')"
   ]
  },
  {
   "cell_type": "markdown",
   "metadata": {},
   "source": [
    "#### Find where the attributes file is"
   ]
  },
  {
   "cell_type": "code",
   "execution_count": 9,
   "metadata": {},
   "outputs": [],
   "source": [
    "# Attribute path & name\n",
    "attribute_path = read_from_control(controlFolder/controlFile,'settings_summa_path')\n",
    "attribute_name = read_from_control(controlFolder/controlFile,'settings_summa_attributes')"
   ]
  },
  {
   "cell_type": "code",
   "execution_count": 10,
   "metadata": {},
   "outputs": [],
   "source": [
    "# Specify default path if needed\n",
    "if attribute_path == 'default':\n",
    "    attribute_path = make_default_path('settings/SUMMA') # outputs a Path()\n",
    "else:\n",
    "    attribute_path = Path(attribute_path) # make sure a user-specified path is a Path()"
   ]
  },
  {
   "cell_type": "markdown",
   "metadata": {},
   "source": [
    "#### Open the files and fill the placeholder values in the attributes file"
   ]
  },
  {
   "cell_type": "code",
   "execution_count": 11,
   "metadata": {},
   "outputs": [],
   "source": [
    "# Open files\n",
    "shp = gpd.read_file(intersect_path/intersect_name)"
   ]
  },
  {
   "cell_type": "code",
   "execution_count": 12,
   "metadata": {},
   "outputs": [
    {
     "name": "stdout",
     "output_type": "stream",
     "text": [
      "Replacing land class 10 with 10 at HRU 1\n",
      "Replacing land class 10 with 10 at HRU 2\n",
      "Replacing land class 10 with 10 at HRU 3\n",
      "Replacing land class 10 with 10 at HRU 4\n",
      "Replacing land class 10 with 10 at HRU 5\n",
      "Replacing land class 10 with 10 at HRU 6\n",
      "Replacing land class 1 with 1 at HRU 7\n",
      "Replacing land class 10 with 10 at HRU 8\n",
      "Replacing land class 10 with 10 at HRU 9\n",
      "Replacing land class 1 with 1 at HRU 10\n",
      "Replacing land class 10 with 10 at HRU 11\n",
      "Replacing land class 16 with 16 at HRU 12\n",
      "Replacing land class 10 with 10 at HRU 13\n",
      "Replacing land class 10 with 10 at HRU 14\n",
      "Replacing land class 10 with 10 at HRU 15\n",
      "Replacing land class 10 with 10 at HRU 16\n",
      "Replacing land class 10 with 10 at HRU 17\n",
      "Replacing land class 10 with 10 at HRU 18\n",
      "Replacing land class 10 with 10 at HRU 19\n",
      "Replacing land class 10 with 10 at HRU 20\n",
      "Replacing land class 10 with 10 at HRU 21\n",
      "Replacing land class 10 with 10 at HRU 22\n",
      "Replacing land class 10 with 10 at HRU 23\n",
      "Replacing land class 10 with 10 at HRU 24\n",
      "Replacing land class 10 with 10 at HRU 25\n",
      "Replacing land class 10 with 10 at HRU 26\n",
      "Replacing land class 8 with 8 at HRU 27\n",
      "Replacing land class 16 with 16 at HRU 28\n",
      "Replacing land class 10 with 10 at HRU 29\n",
      "Replacing land class 10 with 10 at HRU 30\n",
      "Replacing land class 10 with 10 at HRU 31\n",
      "Replacing land class 10 with 10 at HRU 32\n",
      "Replacing land class 10 with 10 at HRU 33\n",
      "Replacing land class 16 with 16 at HRU 34\n",
      "Replacing land class 10 with 10 at HRU 35\n",
      "Replacing land class 16 with 16 at HRU 36\n",
      "Replacing land class 10 with 10 at HRU 37\n",
      "Replacing land class 10 with 10 at HRU 38\n",
      "Replacing land class 10 with 10 at HRU 39\n",
      "Replacing land class 16 with 16 at HRU 40\n",
      "Replacing land class 10 with 10 at HRU 41\n",
      "Replacing land class 16 with 16 at HRU 42\n",
      "Replacing land class 10 with 10 at HRU 43\n",
      "Replacing land class 16 with 16 at HRU 44\n",
      "Replacing land class 10 with 10 at HRU 45\n",
      "Replacing land class 10 with 10 at HRU 46\n",
      "Replacing land class 10 with 10 at HRU 47\n",
      "Replacing land class 1 with 1 at HRU 48\n",
      "Replacing land class 1 with 1 at HRU 49\n",
      "Replacing land class 8 with 8 at HRU 50\n",
      "Replacing land class 1 with 1 at HRU 51\n",
      "Replacing land class 1 with 1 at HRU 52\n",
      "Replacing land class 1 with 1 at HRU 53\n",
      "Replacing land class 1 with 1 at HRU 54\n",
      "Replacing land class 1 with 1 at HRU 55\n",
      "Replacing land class 1 with 1 at HRU 56\n",
      "Replacing land class 1 with 1 at HRU 57\n",
      "Replacing land class 1 with 1 at HRU 58\n",
      "Replacing land class 1 with 1 at HRU 59\n",
      "Replacing land class 1 with 1 at HRU 60\n",
      "Replacing land class 8 with 8 at HRU 61\n",
      "Replacing land class 1 with 1 at HRU 62\n",
      "Replacing land class 8 with 8 at HRU 63\n",
      "Replacing land class 1 with 1 at HRU 64\n",
      "Replacing land class 1 with 1 at HRU 65\n",
      "Replacing land class 8 with 8 at HRU 66\n",
      "Replacing land class 1 with 1 at HRU 67\n",
      "Replacing land class 8 with 8 at HRU 68\n",
      "Replacing land class 1 with 1 at HRU 69\n",
      "Replacing land class 8 with 8 at HRU 70\n",
      "Replacing land class 8 with 8 at HRU 71\n",
      "Replacing land class 8 with 8 at HRU 72\n",
      "Replacing land class 8 with 8 at HRU 73\n",
      "Replacing land class 8 with 8 at HRU 74\n",
      "Replacing land class 1 with 1 at HRU 75\n",
      "Replacing land class 1 with 1 at HRU 76\n",
      "Replacing land class 1 with 1 at HRU 77\n",
      "Replacing land class 8 with 8 at HRU 78\n",
      "Replacing land class 1 with 1 at HRU 79\n",
      "Replacing land class 1 with 1 at HRU 80\n",
      "Replacing land class 1 with 1 at HRU 81\n",
      "Replacing land class 1 with 1 at HRU 82\n",
      "Replacing land class 1 with 1 at HRU 83\n",
      "Replacing land class 8 with 8 at HRU 84\n",
      "Replacing land class 1 with 1 at HRU 85\n",
      "Replacing land class 1 with 1 at HRU 86\n",
      "Replacing land class 8 with 8 at HRU 87\n",
      "Replacing land class 8 with 8 at HRU 88\n",
      "Replacing land class 1 with 1 at HRU 89\n",
      "Replacing land class 1 with 1 at HRU 90\n",
      "Replacing land class 17 with 10 at HRU 91\n",
      "Replacing land class 10 with 10 at HRU 92\n",
      "Replacing land class 10 with 10 at HRU 93\n",
      "Replacing land class 9 with 9 at HRU 94\n",
      "Replacing land class 8 with 8 at HRU 95\n",
      "Replacing land class 8 with 8 at HRU 96\n",
      "Replacing land class 1 with 1 at HRU 97\n",
      "Replacing land class 8 with 8 at HRU 98\n",
      "Replacing land class 8 with 8 at HRU 99\n",
      "Replacing land class 8 with 8 at HRU 100\n",
      "Replacing land class 8 with 8 at HRU 101\n",
      "Replacing land class 8 with 8 at HRU 102\n",
      "Replacing land class 1 with 1 at HRU 103\n",
      "Replacing land class 1 with 1 at HRU 104\n",
      "Replacing land class 1 with 1 at HRU 105\n",
      "Replacing land class 8 with 8 at HRU 106\n",
      "Replacing land class 8 with 8 at HRU 107\n",
      "Replacing land class 1 with 1 at HRU 108\n",
      "Replacing land class 8 with 8 at HRU 109\n",
      "Replacing land class 1 with 1 at HRU 110\n",
      "Replacing land class 1 with 1 at HRU 111\n",
      "Replacing land class 8 with 8 at HRU 112\n",
      "Replacing land class 1 with 1 at HRU 113\n",
      "Replacing land class 1 with 1 at HRU 114\n",
      "Replacing land class 1 with 1 at HRU 115\n",
      "Replacing land class 8 with 8 at HRU 116\n",
      "Replacing land class 1 with 1 at HRU 117\n",
      "Replacing land class 8 with 8 at HRU 118\n",
      "HRU identified as mostly water in 0 cases. Note that SUMMA skips hydrologic calculations for such HRUs.\n"
     ]
    }
   ],
   "source": [
    "# Open the netcdf file for reading+writing\n",
    "with nc4.Dataset(attribute_path/attribute_name, \"r+\") as att:\n",
    "    \n",
    "    # Keep track of number of water (class 17) occurrences\n",
    "    is_water = 0\n",
    "    \n",
    "    # Loop over the HRUs in the attributes\n",
    "    for idx in range(0,len(att['hruId'])):\n",
    "        \n",
    "        # Find the HRU ID (attributes file) at this index\n",
    "        attribute_hru = att['hruId'][idx]\n",
    "    \n",
    "        # Find the row in the shapefile that contains info for this HRU\n",
    "        shp_mask = (shp[intersect_hruId_var].astype(int) == attribute_hru)\n",
    "        \n",
    "        # Extract the histogram values\n",
    "        tmp_hist = []\n",
    "        for j in range (1,18):\n",
    "            if 'IGBP_' + str(j) in shp.columns:\n",
    "                tmp_hist.append(shp['IGBP_' + str(j)][shp_mask].values[0])\n",
    "            else:\n",
    "                tmp_hist.append(0)\n",
    "        \n",
    "        # Find the index with the most occurences\n",
    "        # Note: this assumes index == class, but at index 0 we find class 1. \n",
    "        # Hence we need to increase this value with +1 \n",
    "        tmp_lc = np.argmax(np.asarray(tmp_hist)) + 1\n",
    "        \n",
    "        # Check the assumption that index == soilclass\n",
    "        if shp['IGBP_' + str(tmp_lc)][shp_mask].values != tmp_hist[tmp_lc - 1]:\n",
    "            print('Index and mode land class do not match at hru_id ' + \\\n",
    "                  str(shp[intersect_hruId_var][shp_mask].values[0]))\n",
    "            tmp_lc = -999\n",
    "        \n",
    "        # Handle the case where we have water (IGBP = 17)\n",
    "        if tmp_lc == 17:\n",
    "            if any(val > 0 for val in tmp_hist[0:-1]): # HRU is mostly water but other land classes are present\n",
    "                tmp_lc = np.argmax(np.asarray(tmp_hist[0:-1])) + 1 # select 2nd-most common class\n",
    "                print('HRU {} is predominantly water but some land is detected. Entering land class {} instead of open water.'.format(attribute_hru,tmp_lc))\n",
    "            else:\n",
    "                is_water += 1 # HRU is exclusively water\n",
    "        \n",
    "        # Replace the value\n",
    "        print('Replacing land class {} with {} at HRU {}'.format(att['vegTypeIndex'][idx],tmp_lc,attribute_hru))\n",
    "        att['vegTypeIndex'][idx] = tmp_lc\n",
    "        \n",
    "    # Print water counts\n",
    "    print('{} HRUs were identified as containing only open water. Note that SUMMA skips hydrologic calculations for such HRUs.'.format(is_water))"
   ]
  },
  {
   "cell_type": "markdown",
   "metadata": {},
   "source": [
    "## Check\n",
    "Plot the identified land classes."
   ]
  },
  {
   "cell_type": "code",
   "execution_count": 13,
   "metadata": {},
   "outputs": [],
   "source": [
    "import xarray as xr\n",
    "import matplotlib as mpl\n",
    "import matplotlib.pyplot as plt"
   ]
  },
  {
   "cell_type": "code",
   "execution_count": 16,
   "metadata": {},
   "outputs": [],
   "source": [
    "# Open the files \n",
    "shp = gpd.read_file(intersect_path/intersect_name)\n",
    "att = xr.open_dataset(attribute_path/attribute_name)"
   ]
  },
  {
   "cell_type": "code",
   "execution_count": 17,
   "metadata": {},
   "outputs": [],
   "source": [
    "# Set HRU IDs as index in the shape\n",
    "shp = shp.set_index(intersect_hruId_var)"
   ]
  },
  {
   "cell_type": "code",
   "execution_count": 18,
   "metadata": {},
   "outputs": [],
   "source": [
    "# Sort the shape to match the order of the attributes\n",
    "shp = shp.loc[att['hruId'].values]"
   ]
  },
  {
   "cell_type": "code",
   "execution_count": 19,
   "metadata": {},
   "outputs": [],
   "source": [
    "# temporarily store the soiltype in the shape for plotting\n",
    "shp['vegTypeIndex'] = att['vegTypeIndex'][:]"
   ]
  },
  {
   "cell_type": "code",
   "execution_count": 20,
   "metadata": {},
   "outputs": [
    {
     "data": {
      "image/png": "[encoded data removed]",
      "text/plain": [
       "<Figure size 1152x576 with 2 Axes>"
      ]
     },
     "metadata": {
      "needs_background": "light"
     },
     "output_type": "display_data"
    }
   ],
   "source": [
    "# Make a plot to see what we did\n",
    "shp.plot(column='vegTypeIndex',figsize=(16,8), legend=True,edgecolor='k')\n",
    "ax = plt.gca()\n",
    "ax.set_title('MODIS-derived IGBP landclass');"
   ]
  },
  {
   "cell_type": "code",
   "execution_count": null,
   "metadata": {},
   "outputs": [],
   "source": [
    "# Close the netCDF file\n",
    "att.close()"
   ]
  },
  {
   "cell_type": "markdown",
   "metadata": {},
   "source": [
    "#### Code provenance\n",
    "Generates a basic log file in the domain folder and copies the control file and itself there."
   ]
  },
  {
   "cell_type": "code",
   "execution_count": 21,
   "metadata": {},
   "outputs": [],
   "source": [
    "# Set the log path and file name\n",
    "logPath = attribute_path\n",
    "log_suffix = '_add_veg_to_attributes.txt'"
   ]
  },
  {
   "cell_type": "code",
   "execution_count": 22,
   "metadata": {},
   "outputs": [],
   "source": [
    "# Create a log folder\n",
    "logFolder = '_workflow_log'\n",
    "Path( logPath / logFolder ).mkdir(parents=True, exist_ok=True)"
   ]
  },
  {
   "cell_type": "code",
   "execution_count": 23,
   "metadata": {},
   "outputs": [],
   "source": [
    "# Copy this script\n",
    "thisFile = '2b_insert_landclass_from_hist_into_attributes.ipynb'\n",
    "copyfile(thisFile, logPath / logFolder / thisFile);"
   ]
  },
  {
   "cell_type": "code",
   "execution_count": 24,
   "metadata": {},
   "outputs": [],
   "source": [
    "# Get current date and time\n",
    "now = datetime.now()"
   ]
  },
  {
   "cell_type": "code",
   "execution_count": 25,
   "metadata": {},
   "outputs": [],
   "source": [
    "# Create a log file \n",
    "logFile = now.strftime('%Y%m%d') + log_suffix\n",
    "with open( logPath / logFolder / logFile, 'w') as file:\n",
    "    \n",
    "    lines = ['Log generated by ' + thisFile + ' on ' + now.strftime('%Y/%m/%d %H:%M:%S') + '\\n',\n",
    "             'Added land classes to attributes .nc file.']\n",
    "    for txt in lines:\n",
    "        file.write(txt) "
   ]
  },
  {
   "cell_type": "code",
   "execution_count": null,
   "metadata": {},
   "outputs": [],
   "source": []
  }
 ],
 "metadata": {
  "kernelspec": {
   "display_name": "summa-env",
   "language": "python",
   "name": "summa-env"
  },
  "language_info": {
   "codemirror_mode": {
    "name": "ipython",
    "version": 3
   },
   "file_extension": ".py",
   "mimetype": "text/x-python",
   "name": "python",
   "nbconvert_exporter": "python",
   "pygments_lexer": "ipython3",
   "version": "3.8.8"
  }
 },
 "nbformat": 4,
 "nbformat_minor": 4
}
