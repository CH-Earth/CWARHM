{
 "cells": [
  {
   "cell_type": "markdown",
   "metadata": {},
   "source": [
    "# Find bounding box coordinates\n",
    "Script to automatically find the bounding box for a given shapefile. Slightly rounds coordinates outward so that any cutouts based on these coordinates fully cover the modelling domain."
   ]
  },
  {
   "cell_type": "code",
   "execution_count": 25,
   "metadata": {},
   "outputs": [],
   "source": [
    "import math\n",
    "import geopandas as gpd\n",
    "from pathlib import Path"
   ]
  },
  {
   "cell_type": "markdown",
   "metadata": {},
   "source": [
    "#### Control file handling"
   ]
  },
  {
   "cell_type": "code",
   "execution_count": 15,
   "metadata": {},
   "outputs": [],
   "source": [
    "# Easy access to control file folder\n",
    "controlFolder = Path('../0_control_files')"
   ]
  },
  {
   "cell_type": "code",
   "execution_count": 16,
   "metadata": {},
   "outputs": [],
   "source": [
    "# Store the name of the 'active' file in a variable\n",
    "controlFile = 'control_active.txt'"
   ]
  },
  {
   "cell_type": "code",
   "execution_count": 17,
   "metadata": {},
   "outputs": [],
   "source": [
    "# Function to extract a given setting from the control file\n",
    "def read_from_control( file, setting ):\n",
    "    \n",
    "    # Open 'control_active.txt' and ...\n",
    "    for line in open(file):\n",
    "        \n",
    "        # ... find the line with the requested setting\n",
    "        if setting in line:\n",
    "            break\n",
    "    \n",
    "    # Extract the setting's value\n",
    "    substring = line.split('|',1)[1]      # Remove the setting's name (split into 2 based on '|', keep only 2nd part)\n",
    "    substring = substring.split('#',1)[0] # Remove comments, does nothing if no '#' is found\n",
    "    substring = substring.strip()         # Remove leading and trailing whitespace, tabs, newlines\n",
    "    \n",
    "    # Return this value    \n",
    "    return substring"
   ]
  },
  {
   "cell_type": "code",
   "execution_count": 18,
   "metadata": {},
   "outputs": [],
   "source": [
    "# Function to specify a default path\n",
    "def make_default_path(suffix):\n",
    "    \n",
    "    # Get the root path\n",
    "    rootPath = Path( read_from_control(controlFolder/controlFile,'root_path') )\n",
    "    \n",
    "    # Get the domain folder\n",
    "    domainName = read_from_control(controlFolder/controlFile,'domain_name')\n",
    "    domainFolder = 'domain_' + domainName\n",
    "    \n",
    "    # Specify the forcing path\n",
    "    defaultPath = rootPath / domainFolder / suffix\n",
    "    \n",
    "    return defaultPath"
   ]
  },
  {
   "cell_type": "markdown",
   "metadata": {},
   "source": [
    "#### Find spatial domain as bounding box of shapefile"
   ]
  },
  {
   "cell_type": "code",
   "execution_count": 26,
   "metadata": {},
   "outputs": [],
   "source": [
    "# function to round coordinates of a bounding box to ERA5s 0.25 degree resolution\n",
    "def round_bounding_box(coords):\n",
    "    \n",
    "    '''Assumes coodinates are an array: [lon_min,lat_min,lon_max,lat_max].\n",
    "    Returns separate lat and lon vectors.'''\n",
    "    \n",
    "    # Extract values\n",
    "    lon = [coords[0],coords[2]]\n",
    "    lat = [coords[1],coords[3]]\n",
    "    \n",
    "    # Round to two decimals\n",
    "    rounded_lon = [math.floor(lon[0]*100)/100, math.ceil(lon[1]*100)/100]\n",
    "    rounded_lat = [math.floor(lat[0]*100)/100, math.ceil(lat[1]*100)/100]\n",
    "    \n",
    "    # Store as control file string\n",
    "    control_string = '{}/{}/{}/{}'.format(rounded_lat[1],rounded_lon[0],rounded_lat[0],rounded_lon[1])    \n",
    "    \n",
    "    return control_string, rounded_lat, rounded_lon"
   ]
  },
  {
   "cell_type": "code",
   "execution_count": 27,
   "metadata": {},
   "outputs": [],
   "source": [
    "# Find name and location of catchment shapefile\n",
    "shp_path = read_from_control(controlFolder/controlFile, 'catchment_shp_path')\n",
    "shp_name = read_from_control(controlFolder/controlFile, 'catchment_shp_name')"
   ]
  },
  {
   "cell_type": "code",
   "execution_count": 28,
   "metadata": {},
   "outputs": [],
   "source": [
    "# Specify default path if needed\n",
    "if shp_path == 'default':\n",
    "    shp_path = make_default_path('shapefiles/catchment')\n",
    "else:\n",
    "    shp_path = Path(shp_path)"
   ]
  },
  {
   "cell_type": "code",
   "execution_count": 29,
   "metadata": {},
   "outputs": [],
   "source": [
    "# Open the shapefile\n",
    "shp = gpd.read_file(shp_path/shp_name)"
   ]
  },
  {
   "cell_type": "code",
   "execution_count": 30,
   "metadata": {},
   "outputs": [],
   "source": [
    "# Get the latitude and longitude of the bounding box\n",
    "bounding_box = shp.total_bounds"
   ]
  },
  {
   "cell_type": "code",
   "execution_count": 33,
   "metadata": {},
   "outputs": [],
   "source": [
    "# Find the rounded bounding box\n",
    "coordinates,lat,lon = round_bounding_box(bounding_box)"
   ]
  },
  {
   "cell_type": "code",
   "execution_count": 34,
   "metadata": {},
   "outputs": [
    {
     "name": "stdout",
     "output_type": "stream",
     "text": [
      "Specify coordinates as 51.74/-116.55/50.95/-115.52 in control file.\n"
     ]
    }
   ],
   "source": [
    "# Print in ERA5 format\n",
    "print('Specify coordinates as {}/{}/{}/{} in control file.'.format(lat[1],lon[0],lat[0],lon[1]))"
   ]
  },
  {
   "cell_type": "code",
   "execution_count": null,
   "metadata": {},
   "outputs": [],
   "source": []
  }
 ],
 "metadata": {
  "kernelspec": {
   "display_name": "Python [conda env:geospatialTools]",
   "language": "python",
   "name": "conda-env-geospatialTools-py"
  },
  "language_info": {
   "codemirror_mode": {
    "name": "ipython",
    "version": 3
   },
   "file_extension": ".py",
   "mimetype": "text/x-python",
   "name": "python",
   "nbconvert_exporter": "python",
   "pygments_lexer": "ipython3",
   "version": "3.7.7"
  }
 },
 "nbformat": 4,
 "nbformat_minor": 4
}
