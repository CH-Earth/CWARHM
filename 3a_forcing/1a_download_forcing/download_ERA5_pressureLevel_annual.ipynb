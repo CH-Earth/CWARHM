{
 "cells": [
  {
   "cell_type": "markdown",
   "metadata": {},
   "source": [
    "# Download ERA5 pressure level data"
   ]
  },
  {
   "cell_type": "code",
   "execution_count": 18,
   "metadata": {},
   "outputs": [],
   "source": [
    "# modules\n",
    "import cdsapi    # copernicus connection\n",
    "import calendar  # to find days per month\n",
    "import os        # to check if file already exists\n",
    "import math\n",
    "from pathlib import Path\n",
    "from shutil import copyfile\n",
    "from datetime import datetime"
   ]
  },
  {
   "cell_type": "markdown",
   "metadata": {},
   "source": [
    "#### Control file handling"
   ]
  },
  {
   "cell_type": "code",
   "execution_count": 2,
   "metadata": {},
   "outputs": [],
   "source": [
    "# Easy access to control file folder\n",
    "controlFolder = Path('../../0_control_files')"
   ]
  },
  {
   "cell_type": "code",
   "execution_count": 3,
   "metadata": {},
   "outputs": [],
   "source": [
    "# Store the name of the 'active' file in a variable\n",
    "controlFile = 'control_active.txt'"
   ]
  },
  {
   "cell_type": "code",
   "execution_count": 4,
   "metadata": {},
   "outputs": [],
   "source": [
    "# Function to extract a given setting from the control file\n",
    "def read_from_control( file, setting ):\n",
    "    \n",
    "    # Open 'control_active.txt' and ...\n",
    "    with open(file) as contents:\n",
    "        for line in contents:\n",
    "            \n",
    "            # ... find the line with the requested setting\n",
    "            if setting in line:\n",
    "                break\n",
    "    \n",
    "    # Extract the setting's value\n",
    "    substring = line.split('|',1)[1]      # Remove the setting's name (split into 2 based on '|', keep only 2nd part)\n",
    "    substring = substring.split('#',1)[0] # Remove comments, does nothing if no '#' is found\n",
    "    substring = substring.strip()         # Remove leading and trailing whitespace, tabs, newlines\n",
    "       \n",
    "    # Return this value    \n",
    "    return substring"
   ]
  },
  {
   "cell_type": "code",
   "execution_count": 5,
   "metadata": {},
   "outputs": [],
   "source": [
    "# Function to specify a default path\n",
    "def make_default_path(suffix):\n",
    "    \n",
    "    # Get the root path\n",
    "    rootPath = Path( read_from_control(controlFolder/controlFile,'root_path') )\n",
    "    \n",
    "    # Get the domain folder\n",
    "    domainName = read_from_control(controlFolder/controlFile,'domain_name')\n",
    "    domainFolder = 'domain_' + domainName\n",
    "    \n",
    "    # Specify the forcing path\n",
    "    defaultPath = rootPath / domainFolder / suffix\n",
    "    \n",
    "    return defaultPath"
   ]
  },
  {
   "cell_type": "markdown",
   "metadata": {},
   "source": [
    "#### Find where to save the data"
   ]
  },
  {
   "cell_type": "code",
   "execution_count": 6,
   "metadata": {},
   "outputs": [],
   "source": [
    "# Find the path where the raw forcing needs to go\n",
    "forcingPath = read_from_control(controlFolder/controlFile,'forcing_raw_path')"
   ]
  },
  {
   "cell_type": "code",
   "execution_count": 7,
   "metadata": {},
   "outputs": [],
   "source": [
    "# Specify the default paths if required\n",
    "if forcingPath == 'default':\n",
    "    forcingPath = make_default_path('forcing/1_ERA5_raw_data')\n",
    "else: \n",
    "    forcingPath = Path(forcingPath) # ensure Path() object "
   ]
  },
  {
   "cell_type": "code",
   "execution_count": 8,
   "metadata": {},
   "outputs": [],
   "source": [
    "# Make the folder if it doesn't exist\n",
    "forcingPath.mkdir(parents=True, exist_ok=True)"
   ]
  },
  {
   "cell_type": "markdown",
   "metadata": {},
   "source": [
    "#### Find temporal and spatial domain from control file"
   ]
  },
  {
   "cell_type": "code",
   "execution_count": 9,
   "metadata": {},
   "outputs": [],
   "source": [
    "# Find which years to download\n",
    "years = read_from_control(controlFolder/controlFile,'forcing_raw_time')"
   ]
  },
  {
   "cell_type": "code",
   "execution_count": 10,
   "metadata": {},
   "outputs": [],
   "source": [
    "# Split the string into 2 integers\n",
    "years = years.split(',')\n",
    "years = [int(year) for year in years]"
   ]
  },
  {
   "cell_type": "code",
   "execution_count": 45,
   "metadata": {},
   "outputs": [],
   "source": [
    "# Find the spatial extent the data needs to cover\n",
    "bounding_box = read_from_control(controlFolder/controlFile,'forcing_raw_space') "
   ]
  },
  {
   "cell_type": "markdown",
   "metadata": {},
   "source": [
    "#### Convert bounding box coordinates to the forcing spatial grid"
   ]
  },
  {
   "cell_type": "code",
   "execution_count": 36,
   "metadata": {},
   "outputs": [],
   "source": [
    "# function to round coordinates of a bounding box to ERA5s 0.25 degree resolution\n",
    "def round_coords_to_ERA5(coords):\n",
    "    \n",
    "    '''Assumes coodinates are an array: [lon_min,lat_min,lon_max,lat_max].\n",
    "    Returns separate lat and lon vectors.'''\n",
    "    \n",
    "    # Extract values\n",
    "    lon = [coords[1],coords[3]]\n",
    "    lat = [coords[2],coords[0]]\n",
    "    \n",
    "    # Round to ERA5 0.25 degree resolution\n",
    "    rounded_lon = [math.floor(lon[0]*4)/4, math.ceil(lon[1]*4)/4]\n",
    "    rounded_lat = [math.floor(lat[0]*4)/4, math.ceil(lat[1]*4)/4]\n",
    "    \n",
    "    # Find if we are still in the representative area of a different ERA5 grid cell\n",
    "    if lat[0] > rounded_lat[0]+0.125:\n",
    "        rounded_lat[0] += 0.25\n",
    "    if lon[0] > rounded_lon[0]+0.125:\n",
    "        rounded_lon[0] += 0.25\n",
    "    if lat[1] < rounded_lat[1]-0.125:\n",
    "        rounded_lat[1] -= 0.25\n",
    "    if lon[1] < rounded_lon[1]-0.125:\n",
    "        rounded_lon[1] -= 0.25\n",
    "    \n",
    "    # Make a download string\n",
    "    dl_string = '{}/{}/{}/{}'.format(rounded_lat[1],rounded_lon[0],rounded_lat[0],rounded_lon[1])\n",
    "    \n",
    "    return dl_string, rounded_lat, rounded_lon"
   ]
  },
  {
   "cell_type": "code",
   "execution_count": 32,
   "metadata": {},
   "outputs": [],
   "source": [
    "# Convert string to array\n",
    "bounding_box = bounding_box.split('/')\n",
    "bounding_box = [float(value) for value in bounding_box]"
   ]
  },
  {
   "cell_type": "code",
   "execution_count": 37,
   "metadata": {},
   "outputs": [],
   "source": [
    "# Find the rounded bounding box\n",
    "coordinates,_,_ = round_coords_to_ERA5(bounding_box)"
   ]
  },
  {
   "cell_type": "code",
   "execution_count": 44,
   "metadata": {},
   "outputs": [
    {
     "name": "stdout",
     "output_type": "stream",
     "text": [
      "Starting download of [51.75/-116.5/51.0/-115.5] for years 2008-2013.\n"
     ]
    }
   ],
   "source": [
    "# Check what we selected\n",
    "print('Starting download of [{}] for years {}-{}.'.format(coordinates,years[0],years[1]))"
   ]
  },
  {
   "cell_type": "markdown",
   "metadata": {},
   "source": [
    "#### Download the data in monthly chunks"
   ]
  },
  {
   "cell_type": "code",
   "execution_count": 14,
   "metadata": {},
   "outputs": [
    {
     "name": "stdout",
     "output_type": "stream",
     "text": [
      "Trying to download 1979-01-01/to/1979-01-31 into C:\\Globus endpoint\\summaWorkflow_data\\domain_BowAtBanff\\forcing\\1_ERA5_raw_data\\ERA5_pressureLevel137_197901.nc\n",
      "Trying to download 1979-02-01/to/1979-02-28 into C:\\Globus endpoint\\summaWorkflow_data\\domain_BowAtBanff\\forcing\\1_ERA5_raw_data\\ERA5_pressureLevel137_197902.nc\n",
      "Trying to download 1979-03-01/to/1979-03-31 into C:\\Globus endpoint\\summaWorkflow_data\\domain_BowAtBanff\\forcing\\1_ERA5_raw_data\\ERA5_pressureLevel137_197903.nc\n",
      "Trying to download 1979-04-01/to/1979-04-30 into C:\\Globus endpoint\\summaWorkflow_data\\domain_BowAtBanff\\forcing\\1_ERA5_raw_data\\ERA5_pressureLevel137_197904.nc\n",
      "Trying to download 1979-05-01/to/1979-05-31 into C:\\Globus endpoint\\summaWorkflow_data\\domain_BowAtBanff\\forcing\\1_ERA5_raw_data\\ERA5_pressureLevel137_197905.nc\n",
      "Trying to download 1979-06-01/to/1979-06-30 into C:\\Globus endpoint\\summaWorkflow_data\\domain_BowAtBanff\\forcing\\1_ERA5_raw_data\\ERA5_pressureLevel137_197906.nc\n",
      "Trying to download 1979-07-01/to/1979-07-31 into C:\\Globus endpoint\\summaWorkflow_data\\domain_BowAtBanff\\forcing\\1_ERA5_raw_data\\ERA5_pressureLevel137_197907.nc\n",
      "Trying to download 1979-08-01/to/1979-08-31 into C:\\Globus endpoint\\summaWorkflow_data\\domain_BowAtBanff\\forcing\\1_ERA5_raw_data\\ERA5_pressureLevel137_197908.nc\n",
      "Trying to download 1979-09-01/to/1979-09-30 into C:\\Globus endpoint\\summaWorkflow_data\\domain_BowAtBanff\\forcing\\1_ERA5_raw_data\\ERA5_pressureLevel137_197909.nc\n",
      "Trying to download 1979-10-01/to/1979-10-31 into C:\\Globus endpoint\\summaWorkflow_data\\domain_BowAtBanff\\forcing\\1_ERA5_raw_data\\ERA5_pressureLevel137_197910.nc\n",
      "Trying to download 1979-11-01/to/1979-11-30 into C:\\Globus endpoint\\summaWorkflow_data\\domain_BowAtBanff\\forcing\\1_ERA5_raw_data\\ERA5_pressureLevel137_197911.nc\n",
      "Trying to download 1979-12-01/to/1979-12-31 into C:\\Globus endpoint\\summaWorkflow_data\\domain_BowAtBanff\\forcing\\1_ERA5_raw_data\\ERA5_pressureLevel137_197912.nc\n"
     ]
    }
   ],
   "source": [
    "# Start the year loop\n",
    "for year in range(years[0],years[1]+1): \n",
    "    \n",
    "    # Start the month loop\n",
    "    for month in range (1,13): # this loops through numbers 1 to 12\n",
    "       \n",
    "        # find the number of days in this month\n",
    "        daysInMonth = calendar.monthrange(year,month) \n",
    "        \n",
    "        # compile the date string in the required format. Append 0's to the month number if needed (zfill(2))\n",
    "        date = str(year) + '-' + str(month).zfill(2) + '-01/to/' + \\\n",
    "            str(year) + '-' + str(month).zfill(2) + '-' + str(daysInMonth[1]).zfill(2) \n",
    "        \n",
    "        # compile the file name string\n",
    "        file = forcingPath / ('ERA5_pressureLevel137_' + str(year) + str(month).zfill(2) + '.nc')\n",
    "\n",
    "        # track progress\n",
    "        print('Trying to download ' + date + ' into ' + str(file))\n",
    "\n",
    "        # if file doesn't yet exist, download the data\n",
    "        if not os.path.isfile(file):\n",
    "\n",
    "            # Make sure the connection is re-tried if it fails\n",
    "            retries_max = 10\n",
    "            retries_cur = 1\n",
    "            while retries_cur <= retries_max:\n",
    "                try:\n",
    "\n",
    "                    # connect to Copernicus (requires .cdsapirc file in $HOME)\n",
    "                    c = cdsapi.Client()\n",
    "\n",
    "                    # specify and retrieve data\n",
    "                    c.retrieve('reanalysis-era5-complete', {    # do not change this!\n",
    "                        'class': 'ea',\n",
    "                        'expver': '1',\n",
    "                        'stream': 'oper',\n",
    "                        'type': 'an',\n",
    "                        'levtype': 'ml',\n",
    "                        'levelist': '137',\n",
    "                        'param': '130/131/132/133',\n",
    "                        'date': date,\n",
    "                        'time': '00/to/23/by/1',\n",
    "                        'area': coordinates,\n",
    "                        'grid': '0.25/0.25', # Latitude/longitude grid: east-west (longitude) and north-south resolution (latitude).\n",
    "                        'format'  : 'netcdf',\n",
    "                    }, file)\n",
    "            \n",
    "                    # track progress\n",
    "                    print('Successfully downloaded ' + str(file))\n",
    "\n",
    "                except Exception as e:\n",
    "                    print('Error downloading ' + str(file) + ' on try ' + str(retries_cur))\n",
    "                    print(str(e))\n",
    "                    retries_cur += 1\n",
    "                    continue\n",
    "                else:\n",
    "                    break"
   ]
  },
  {
   "cell_type": "markdown",
   "metadata": {},
   "source": [
    "#### Code provenance\n",
    "Generates a basic log file in the domain folder and copies the control file and itself there."
   ]
  },
  {
   "cell_type": "code",
   "execution_count": 9,
   "metadata": {},
   "outputs": [],
   "source": [
    "# Create a log folder\n",
    "logFolder = '_workflow_log'\n",
    "Path( forcingPath / logFolder ).mkdir(parents=True, exist_ok=True)"
   ]
  },
  {
   "cell_type": "code",
   "execution_count": 13,
   "metadata": {},
   "outputs": [],
   "source": [
    "# Copy this script\n",
    "thisFile = 'download_ERA5_pressureLevel_annual.ipynb'\n",
    "copyfile(thisFile, forcingPath / logFolder / thisFile);"
   ]
  },
  {
   "cell_type": "code",
   "execution_count": 14,
   "metadata": {},
   "outputs": [],
   "source": [
    "# Get current date and time\n",
    "now = datetime.now()"
   ]
  },
  {
   "cell_type": "code",
   "execution_count": 23,
   "metadata": {},
   "outputs": [],
   "source": [
    "# Create a log file \n",
    "logFile = now.strftime('%Y%m%d') + '_pressure_level_log.txt'\n",
    "with open( forcingPath / logFolder / logFile, 'w') as file:\n",
    "    \n",
    "    lines = ['Log generated by ' + thisFile + ' on ' + now.strftime('%Y/%m/%d %H:%M:%S') + '\\n',\n",
    "             'Downloaded ERA5 pressure level data for space (lat_max, lon_min, lat_min, lon_max) [{}] for time Jan-{} / Dec-{}.'.format(coordinates,years[0],years[1])]\n",
    "    for txt in lines:\n",
    "        file.write(txt)    "
   ]
  },
  {
   "cell_type": "code",
   "execution_count": null,
   "metadata": {},
   "outputs": [],
   "source": []
  }
 ],
 "metadata": {
  "kernelspec": {
   "display_name": "Python [conda env:geospatialTools]",
   "language": "python",
   "name": "conda-env-geospatialTools-py"
  },
  "language_info": {
   "codemirror_mode": {
    "name": "ipython",
    "version": 3
   },
   "file_extension": ".py",
   "mimetype": "text/x-python",
   "name": "python",
   "nbconvert_exporter": "python",
   "pygments_lexer": "ipython3",
   "version": "3.7.7"
  }
 },
 "nbformat": 4,
 "nbformat_minor": 4
}
