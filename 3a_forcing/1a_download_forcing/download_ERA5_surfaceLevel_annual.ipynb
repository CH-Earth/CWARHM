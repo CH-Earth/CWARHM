{
 "cells": [
  {
   "cell_type": "markdown",
   "metadata": {},
   "source": [
    "# Download ERA5 surface level data",
	"Requires use of the Copernicus Data Store API\n",
	"CDS registration: https://cds.climate.copernicus.eu/user/register?destination=%2F%23!%2Fhome \n",
	"CDS api setup: https://cds.climate.copernicus.eu/api-how-to"
   ]
  },
  {
   "cell_type": "code",
   "execution_count": 2,
   "metadata": {},
   "outputs": [],
   "source": [
    "# modules\n",
    "import cdsapi    # copernicus connection\n",
    "import calendar  # to find days per month\n",
    "import os        # to check if file already exists\n",
    "import math\n",
    "from pathlib import Path\n",
    "from shutil import copyfile\n",
    "from datetime import datetime"
   ]
  },
  {
   "cell_type": "markdown",
   "metadata": {},
   "source": [
    "#### Control file handling"
   ]
  },
  {
   "cell_type": "code",
   "execution_count": 3,
   "metadata": {},
   "outputs": [],
   "source": [
    "# Easy access to control file folder\n",
    "controlFolder = Path('../../0_control_files')"
   ]
  },
  {
   "cell_type": "code",
   "execution_count": 4,
   "metadata": {},
   "outputs": [],
   "source": [
    "# Store the name of the 'active' file in a variable\n",
    "controlFile = 'control_active.txt'"
   ]
  },
  {
   "cell_type": "code",
   "execution_count": 5,
   "metadata": {},
   "outputs": [],
   "source": [
    "# Function to extract a given setting from the control file\n",
    "def read_from_control( file, setting ):\n",
    "    \n",
    "    # Open 'control_active.txt' and ...\n",
    "    with open(file) as contents:\n",
    "        for line in contents:\n",
    "            \n",
    "            # ... find the line with the requested setting\n",
    "            if setting in line and not line.startswith('#'):\n",
    "                break\n",
    "    \n",
    "    # Extract the setting's value\n",
    "    substring = line.split('|',1)[1]      # Remove the setting's name (split into 2 based on '|', keep only 2nd part)\n",
    "    substring = substring.split('#',1)[0] # Remove comments, does nothing if no '#' is found\n",
    "    substring = substring.strip()         # Remove leading and trailing whitespace, tabs, newlines\n",
    "       \n",
    "    # Return this value    \n",
    "    return substring"
   ]
  },
  {
   "cell_type": "code",
   "execution_count": 6,
   "metadata": {},
   "outputs": [],
   "source": [
    "# Function to specify a default path\n",
    "def make_default_path(suffix):\n",
    "    \n",
    "    # Get the root path\n",
    "    rootPath = Path( read_from_control(controlFolder/controlFile,'root_path') )\n",
    "    \n",
    "    # Get the domain folder\n",
    "    domainName = read_from_control(controlFolder/controlFile,'domain_name')\n",
    "    domainFolder = 'domain_' + domainName\n",
    "    \n",
    "    # Specify the forcing path\n",
    "    defaultPath = rootPath / domainFolder / suffix\n",
    "    \n",
    "    return defaultPath"
   ]
  },
  {
   "cell_type": "markdown",
   "metadata": {},
   "source": [
    "#### Find where to save the data"
   ]
  },
  {
   "cell_type": "code",
   "execution_count": 6,
   "metadata": {},
   "outputs": [],
   "source": [
    "# Find the path where the raw forcing needs to go\n",
    "# Immediately store as a 'Path' to avoid issues with '/' and '\\' on different operating systems\n",
    "forcingPath = read_from_control(controlFolder/controlFile,'forcing_raw_path')"
   ]
  },
  {
   "cell_type": "code",
   "execution_count": 7,
   "metadata": {},
   "outputs": [],
   "source": [
    "# Specify the default paths if required\n",
    "if forcingPath == 'default':\n",
    "    forcingPath = make_default_path('forcing/1_ERA5_raw_data')\n",
    "else: \n",
    "    forcingPath = Path(forcingPath) # ensure Path() object "
   ]
  },
  {
   "cell_type": "code",
   "execution_count": 8,
   "metadata": {},
   "outputs": [],
   "source": [
    "# Make the folder if it doesn't exist\n",
    "forcingPath.mkdir(parents=True, exist_ok=True)"
   ]
  },
  {
   "cell_type": "markdown",
   "metadata": {},
   "source": [
    "#### Find temporal and spatial domain from control file"
   ]
  },
  {
   "cell_type": "code",
   "execution_count": 7,
   "metadata": {},
   "outputs": [],
   "source": [
    "# Find which years to download\n",
    "years = read_from_control(controlFolder/controlFile,'forcing_raw_time')"
   ]
  },
  {
   "cell_type": "code",
   "execution_count": 8,
   "metadata": {},
   "outputs": [],
   "source": [
    "# Split the string into 2 integers\n",
    "years = years.split(',')\n",
    "years = [int(year) for year in years]"
   ]
  },
  {
   "cell_type": "code",
   "execution_count": 9,
   "metadata": {},
   "outputs": [],
   "source": [
    "# Find the spatial extent the data needs to cover\n",
    "bounding_box = read_from_control(controlFolder/controlFile,'forcing_raw_space') "
   ]
  },
  {
   "cell_type": "markdown",
   "metadata": {},
   "source": [
    "#### Convert bounding box coordinates to the forcing spatial grid"
   ]
  },
  {
   "cell_type": "code",
   "execution_count": 10,
   "metadata": {},
   "outputs": [],
   "source": [
    "# function to round coordinates of a bounding box to ERA5s 0.25 degree resolution\n",
    "def round_coords_to_ERA5(coords):\n",
    "    \n",
    "    '''Assumes coodinates are an array: [lon_min,lat_min,lon_max,lat_max].\n",
    "    Returns separate lat and lon vectors.'''\n",
    "    \n",
    "    # Extract values\n",
    "    lon = [coords[1],coords[3]]\n",
    "    lat = [coords[2],coords[0]]\n",
    "    \n",
    "    # Round to ERA5 0.25 degree resolution\n",
    "    rounded_lon = [math.floor(lon[0]*4)/4, math.ceil(lon[1]*4)/4]\n",
    "    rounded_lat = [math.floor(lat[0]*4)/4, math.ceil(lat[1]*4)/4]\n",
    "    \n",
    "    # Find if we are still in the representative area of a different ERA5 grid cell\n",
    "    if lat[0] > rounded_lat[0]+0.125:\n",
    "        rounded_lat[0] += 0.25\n",
    "    if lon[0] > rounded_lon[0]+0.125:\n",
    "        rounded_lon[0] += 0.25\n",
    "    if lat[1] < rounded_lat[1]-0.125:\n",
    "        rounded_lat[1] -= 0.25\n",
    "    if lon[1] < rounded_lon[1]-0.125:\n",
    "        rounded_lon[1] -= 0.25\n",
    "    \n",
    "    # Make a download string\n",
    "    dl_string = '{}/{}/{}/{}'.format(rounded_lat[1],rounded_lon[0],rounded_lat[0],rounded_lon[1])\n",
    "    \n",
    "    return dl_string, rounded_lat, rounded_lon"
   ]
  },
  {
   "cell_type": "code",
   "execution_count": 11,
   "metadata": {},
   "outputs": [],
   "source": [
    "# Convert string to array\n",
    "bounding_box = bounding_box.split('/')\n",
    "bounding_box = [float(value) for value in bounding_box]"
   ]
  },
  {
   "cell_type": "code",
   "execution_count": 12,
   "metadata": {},
   "outputs": [],
   "source": [
    "# Find the rounded bounding box\n",
    "coordinates,_,_ = round_coords_to_ERA5(bounding_box)"
   ]
  },
  {
   "cell_type": "code",
   "execution_count": 13,
   "metadata": {},
   "outputs": [
    {
     "name": "stdout",
     "output_type": "stream",
     "text": [
      "Starting download of [51.75/-116.5/51.0/-115.5] for years 2008-2013.\n"
     ]
    }
   ],
   "source": [
    "# Check what we selected\n",
    "print('Starting download of [{}] for years {}-{}.'.format(coordinates,years[0],years[1]))"
   ]
  },
  {
   "cell_type": "markdown",
   "metadata": {},
   "source": [
    "#### Download the data in monthly chunks"
   ]
  },
  {
   "cell_type": "code",
   "execution_count": 23,
   "metadata": {},
   "outputs": [
    {
     "name": "stdout",
     "output_type": "stream",
     "text": [
      "Trying to download 1979-01-01/1979-01-31 into C:\\Globus endpoint\\summaWorkflow_data\\domain_BowAtBanff\\forcing\\1_ERA5_raw_data\\ERA5_surface_197901.nc\n",
      "Trying to download 1979-02-01/1979-02-28 into C:\\Globus endpoint\\summaWorkflow_data\\domain_BowAtBanff\\forcing\\1_ERA5_raw_data\\ERA5_surface_197902.nc\n"
     ]
    },
    {
     "name": "stderr",
     "output_type": "stream",
     "text": [
      "2021-02-08 20:30:03,470 INFO Welcome to the CDS\n",
      "2021-02-08 20:30:03,470 INFO Sending request to https://cds.climate.copernicus.eu/api/v2/resources/reanalysis-era5-single-levels\n",
      "2021-02-08 20:30:03,655 INFO Request is queued\n",
      "2021-02-08 20:30:04,824 INFO Request is running\n",
      "2021-02-08 20:34:24,749 INFO Request is completed\n",
      "2021-02-08 20:34:24,750 INFO Downloading https://download-0004.copernicus-climate.eu/cache-compute-0004/cache/data5/adaptor.mars.internal-1612841403.7407765-19743-7-ff673673-bdec-4749-a35d-0a83ad617707.nc to C:\\Globus endpoint\\summaWorkflow_data\\domain_BowAtBanff\\forcing\\1_ERA5_raw_data\\ERA5_surface_197902.nc (162K)\n",
      "2021-02-08 20:34:26,107 INFO Download rate 119.4K/s                                                                    \n",
      "2021-02-08 20:34:26,448 INFO Welcome to the CDS\n",
      "2021-02-08 20:34:26,449 INFO Sending request to https://cds.climate.copernicus.eu/api/v2/resources/reanalysis-era5-single-levels\n"
     ]
    },
    {
     "name": "stdout",
     "output_type": "stream",
     "text": [
      "Successfully downloaded C:\\Globus endpoint\\summaWorkflow_data\\domain_BowAtBanff\\forcing\\1_ERA5_raw_data\\ERA5_surface_197902.nc\n",
      "Trying to download 1979-03-01/1979-03-31 into C:\\Globus endpoint\\summaWorkflow_data\\domain_BowAtBanff\\forcing\\1_ERA5_raw_data\\ERA5_surface_197903.nc\n"
     ]
    },
    {
     "name": "stderr",
     "output_type": "stream",
     "text": [
      "2021-02-08 20:34:26,630 INFO Request is queued\n",
      "2021-02-08 20:34:27,793 INFO Request is running\n",
      "2021-02-08 20:38:46,632 INFO Request is completed\n",
      "2021-02-08 20:38:46,633 INFO Downloading https://download-0007.copernicus-climate.eu/cache-compute-0007/cache/data6/adaptor.mars.internal-1612841666.7446716-1491-31-30a15bc1-2f83-4f23-9d68-813166b3a6b4.nc to C:\\Globus endpoint\\summaWorkflow_data\\domain_BowAtBanff\\forcing\\1_ERA5_raw_data\\ERA5_surface_197903.nc (179.2K)\n",
      "2021-02-08 20:38:47,932 INFO Download rate 138K/s                                                                      \n",
      "2021-02-08 20:38:48,272 INFO Welcome to the CDS\n",
      "2021-02-08 20:38:48,272 INFO Sending request to https://cds.climate.copernicus.eu/api/v2/resources/reanalysis-era5-single-levels\n"
     ]
    },
    {
     "name": "stdout",
     "output_type": "stream",
     "text": [
      "Successfully downloaded C:\\Globus endpoint\\summaWorkflow_data\\domain_BowAtBanff\\forcing\\1_ERA5_raw_data\\ERA5_surface_197903.nc\n",
      "Trying to download 1979-04-01/1979-04-30 into C:\\Globus endpoint\\summaWorkflow_data\\domain_BowAtBanff\\forcing\\1_ERA5_raw_data\\ERA5_surface_197904.nc\n"
     ]
    },
    {
     "name": "stderr",
     "output_type": "stream",
     "text": [
      "2021-02-08 20:38:48,515 INFO Request is queued\n",
      "2021-02-08 20:38:49,709 INFO Request is running\n",
      "2021-02-08 20:43:08,561 INFO Request is completed\n",
      "2021-02-08 20:43:08,562 INFO Downloading https://download-0002.copernicus-climate.eu/cache-compute-0002/cache/data2/adaptor.mars.internal-1612841928.7930326-31274-33-505b3ae2-65ba-4037-bc13-3990e61a5e65.nc to C:\\Globus endpoint\\summaWorkflow_data\\domain_BowAtBanff\\forcing\\1_ERA5_raw_data\\ERA5_surface_197904.nc (173.5K)\n",
      "2021-02-08 20:43:11,546 INFO Download rate 58.2K/s                                                                     \n",
      "2021-02-08 20:43:11,942 INFO Welcome to the CDS\n",
      "2021-02-08 20:43:11,943 INFO Sending request to https://cds.climate.copernicus.eu/api/v2/resources/reanalysis-era5-single-levels\n"
     ]
    },
    {
     "name": "stdout",
     "output_type": "stream",
     "text": [
      "Successfully downloaded C:\\Globus endpoint\\summaWorkflow_data\\domain_BowAtBanff\\forcing\\1_ERA5_raw_data\\ERA5_surface_197904.nc\n",
      "Trying to download 1979-05-01/1979-05-31 into C:\\Globus endpoint\\summaWorkflow_data\\domain_BowAtBanff\\forcing\\1_ERA5_raw_data\\ERA5_surface_197905.nc\n"
     ]
    },
    {
     "name": "stderr",
     "output_type": "stream",
     "text": [
      "2021-02-08 20:43:12,130 INFO Request is queued\n",
      "2021-02-08 20:43:13,294 INFO Request is running\n",
      "2021-02-08 20:47:32,153 INFO Request is completed\n",
      "2021-02-08 20:47:32,154 INFO Downloading https://download-0002.copernicus-climate.eu/cache-compute-0002/cache/data0/adaptor.mars.internal-1612842192.3640003-7815-19-db30b55c-b696-4db8-a4da-ff553c58fe78.nc to C:\\Globus endpoint\\summaWorkflow_data\\domain_BowAtBanff\\forcing\\1_ERA5_raw_data\\ERA5_surface_197905.nc (179.2K)\n",
      "2021-02-08 20:47:34,297 INFO Download rate 83.7K/s                                                                     \n",
      "2021-02-08 20:47:34,658 INFO Welcome to the CDS\n",
      "2021-02-08 20:47:34,659 INFO Sending request to https://cds.climate.copernicus.eu/api/v2/resources/reanalysis-era5-single-levels\n"
     ]
    },
    {
     "name": "stdout",
     "output_type": "stream",
     "text": [
      "Successfully downloaded C:\\Globus endpoint\\summaWorkflow_data\\domain_BowAtBanff\\forcing\\1_ERA5_raw_data\\ERA5_surface_197905.nc\n",
      "Trying to download 1979-06-01/1979-06-30 into C:\\Globus endpoint\\summaWorkflow_data\\domain_BowAtBanff\\forcing\\1_ERA5_raw_data\\ERA5_surface_197906.nc\n"
     ]
    },
    {
     "name": "stderr",
     "output_type": "stream",
     "text": [
      "2021-02-08 20:47:34,864 INFO Request is queued\n",
      "2021-02-08 20:47:36,032 INFO Request is running\n",
      "2021-02-08 20:51:54,907 INFO Request is completed\n",
      "2021-02-08 20:51:54,908 INFO Downloading https://download-0008.copernicus-climate.eu/cache-compute-0008/cache/data2/adaptor.mars.internal-1612842455.3546946-418-11-55529753-7537-431d-ae58-29114ea6c50f.nc to C:\\Globus endpoint\\summaWorkflow_data\\domain_BowAtBanff\\forcing\\1_ERA5_raw_data\\ERA5_surface_197906.nc (173.5K)\n",
      "2021-02-08 20:51:56,253 INFO Download rate 128.9K/s                                                                    \n",
      "2021-02-08 20:51:56,579 INFO Welcome to the CDS\n",
      "2021-02-08 20:51:56,580 INFO Sending request to https://cds.climate.copernicus.eu/api/v2/resources/reanalysis-era5-single-levels\n"
     ]
    },
    {
     "name": "stdout",
     "output_type": "stream",
     "text": [
      "Successfully downloaded C:\\Globus endpoint\\summaWorkflow_data\\domain_BowAtBanff\\forcing\\1_ERA5_raw_data\\ERA5_surface_197906.nc\n",
      "Trying to download 1979-07-01/1979-07-31 into C:\\Globus endpoint\\summaWorkflow_data\\domain_BowAtBanff\\forcing\\1_ERA5_raw_data\\ERA5_surface_197907.nc\n"
     ]
    },
    {
     "name": "stderr",
     "output_type": "stream",
     "text": [
      "2021-02-08 20:51:56,769 INFO Request is queued\n",
      "2021-02-08 20:51:57,932 INFO Request is running\n",
      "2021-02-08 20:56:16,737 INFO Request is completed\n",
      "2021-02-08 20:56:16,738 INFO Downloading https://download-0008.copernicus-climate.eu/cache-compute-0008/cache/data9/adaptor.mars.internal-1612842716.8406177-23168-37-5897295e-79e5-4791-bd09-5ae2432bca4f.nc to C:\\Globus endpoint\\summaWorkflow_data\\domain_BowAtBanff\\forcing\\1_ERA5_raw_data\\ERA5_surface_197907.nc (179.2K)\n",
      "2021-02-08 20:56:19,868 INFO Download rate 57.3K/s                                                                     \n",
      "2021-02-08 20:56:20,185 INFO Welcome to the CDS\n",
      "2021-02-08 20:56:20,186 INFO Sending request to https://cds.climate.copernicus.eu/api/v2/resources/reanalysis-era5-single-levels\n"
     ]
    },
    {
     "name": "stdout",
     "output_type": "stream",
     "text": [
      "Successfully downloaded C:\\Globus endpoint\\summaWorkflow_data\\domain_BowAtBanff\\forcing\\1_ERA5_raw_data\\ERA5_surface_197907.nc\n",
      "Trying to download 1979-08-01/1979-08-31 into C:\\Globus endpoint\\summaWorkflow_data\\domain_BowAtBanff\\forcing\\1_ERA5_raw_data\\ERA5_surface_197908.nc\n"
     ]
    },
    {
     "name": "stderr",
     "output_type": "stream",
     "text": [
      "2021-02-08 20:56:20,364 INFO Request is queued\n",
      "2021-02-08 20:56:21,519 INFO Request is running\n",
      "2021-02-08 21:00:40,308 INFO Request is completed\n",
      "2021-02-08 21:00:40,309 INFO Downloading https://download-0005.copernicus-climate.eu/cache-compute-0005/cache/data1/adaptor.mars.internal-1612842980.405912-4481-11-7f4053a1-6e92-454a-be28-9484e2b2b492.nc to C:\\Globus endpoint\\summaWorkflow_data\\domain_BowAtBanff\\forcing\\1_ERA5_raw_data\\ERA5_surface_197908.nc (179.2K)\n",
      "2021-02-08 21:00:41,610 INFO Download rate 137.9K/s                                                                    \n",
      "2021-02-08 21:00:41,953 INFO Welcome to the CDS\n",
      "2021-02-08 21:00:41,954 INFO Sending request to https://cds.climate.copernicus.eu/api/v2/resources/reanalysis-era5-single-levels\n"
     ]
    },
    {
     "name": "stdout",
     "output_type": "stream",
     "text": [
      "Successfully downloaded C:\\Globus endpoint\\summaWorkflow_data\\domain_BowAtBanff\\forcing\\1_ERA5_raw_data\\ERA5_surface_197908.nc\n",
      "Trying to download 1979-09-01/1979-09-30 into C:\\Globus endpoint\\summaWorkflow_data\\domain_BowAtBanff\\forcing\\1_ERA5_raw_data\\ERA5_surface_197909.nc\n"
     ]
    },
    {
     "name": "stderr",
     "output_type": "stream",
     "text": [
      "2021-02-08 21:00:42,144 INFO Request is queued\n",
      "2021-02-08 21:00:43,310 INFO Request is running\n",
      "2021-02-08 21:05:02,158 INFO Request is completed\n",
      "2021-02-08 21:05:02,159 INFO Downloading https://download-0009.copernicus-climate.eu/cache-compute-0009/cache/data8/adaptor.mars.internal-1612843242.2507327-11020-5-a95dd5c0-15f3-44cf-ae50-bab3cdfa99ce.nc to C:\\Globus endpoint\\summaWorkflow_data\\domain_BowAtBanff\\forcing\\1_ERA5_raw_data\\ERA5_surface_197909.nc (173.5K)\n",
      "2021-02-08 21:05:03,391 INFO Download rate 140.8K/s                                                                    \n",
      "2021-02-08 21:05:03,693 INFO Welcome to the CDS\n",
      "2021-02-08 21:05:03,694 INFO Sending request to https://cds.climate.copernicus.eu/api/v2/resources/reanalysis-era5-single-levels\n"
     ]
    },
    {
     "name": "stdout",
     "output_type": "stream",
     "text": [
      "Successfully downloaded C:\\Globus endpoint\\summaWorkflow_data\\domain_BowAtBanff\\forcing\\1_ERA5_raw_data\\ERA5_surface_197909.nc\n",
      "Trying to download 1979-10-01/1979-10-31 into C:\\Globus endpoint\\summaWorkflow_data\\domain_BowAtBanff\\forcing\\1_ERA5_raw_data\\ERA5_surface_197910.nc\n"
     ]
    },
    {
     "name": "stderr",
     "output_type": "stream",
     "text": [
      "2021-02-08 21:05:03,920 INFO Request is queued\n",
      "2021-02-08 21:05:05,074 INFO Request is running\n",
      "2021-02-08 21:09:23,854 INFO Request is completed\n",
      "2021-02-08 21:09:23,855 INFO Downloading https://download-0010.copernicus-climate.eu/cache-compute-0010/cache/data7/adaptor.mars.internal-1612843504.0099413-21120-27-6d06baea-35a8-4f8c-af40-e3be271bee0c.nc to C:\\Globus endpoint\\summaWorkflow_data\\domain_BowAtBanff\\forcing\\1_ERA5_raw_data\\ERA5_surface_197910.nc (179.2K)\n",
      "2021-02-08 21:09:25,439 INFO Download rate 113.2K/s                                                                    \n",
      "2021-02-08 21:09:25,805 INFO Welcome to the CDS\n",
      "2021-02-08 21:09:25,806 INFO Sending request to https://cds.climate.copernicus.eu/api/v2/resources/reanalysis-era5-single-levels\n"
     ]
    },
    {
     "name": "stdout",
     "output_type": "stream",
     "text": [
      "Successfully downloaded C:\\Globus endpoint\\summaWorkflow_data\\domain_BowAtBanff\\forcing\\1_ERA5_raw_data\\ERA5_surface_197910.nc\n",
      "Trying to download 1979-11-01/1979-11-30 into C:\\Globus endpoint\\summaWorkflow_data\\domain_BowAtBanff\\forcing\\1_ERA5_raw_data\\ERA5_surface_197911.nc\n"
     ]
    },
    {
     "name": "stderr",
     "output_type": "stream",
     "text": [
      "2021-02-08 21:09:26,049 INFO Request is queued\n",
      "2021-02-08 21:09:27,206 INFO Request is running\n",
      "2021-02-08 21:13:45,997 INFO Request is completed\n",
      "2021-02-08 21:13:45,998 INFO Downloading https://download-0010.copernicus-climate.eu/cache-compute-0010/cache/data9/adaptor.mars.internal-1612843766.2572463-14632-19-97c952dc-d302-4e1c-8707-f4767d04d712.nc to C:\\Globus endpoint\\summaWorkflow_data\\domain_BowAtBanff\\forcing\\1_ERA5_raw_data\\ERA5_surface_197911.nc (173.5K)\n",
      "2021-02-08 21:13:47,295 INFO Download rate 133.7K/s                                                                    \n",
      "2021-02-08 21:13:47,646 INFO Welcome to the CDS\n",
      "2021-02-08 21:13:47,647 INFO Sending request to https://cds.climate.copernicus.eu/api/v2/resources/reanalysis-era5-single-levels\n"
     ]
    },
    {
     "name": "stdout",
     "output_type": "stream",
     "text": [
      "Successfully downloaded C:\\Globus endpoint\\summaWorkflow_data\\domain_BowAtBanff\\forcing\\1_ERA5_raw_data\\ERA5_surface_197911.nc\n",
      "Trying to download 1979-12-01/1979-12-31 into C:\\Globus endpoint\\summaWorkflow_data\\domain_BowAtBanff\\forcing\\1_ERA5_raw_data\\ERA5_surface_197912.nc\n"
     ]
    },
    {
     "name": "stderr",
     "output_type": "stream",
     "text": [
      "2021-02-08 21:13:47,850 INFO Request is queued\n",
      "2021-02-08 21:13:49,010 INFO Request is running\n",
      "2021-02-08 21:18:07,789 INFO Request is completed\n",
      "2021-02-08 21:18:07,789 INFO Downloading https://download-0000.copernicus-climate.eu/cache-compute-0000/cache/data1/adaptor.mars.internal-1612844028.1393278-6028-23-7b8bd343-b89d-4d9e-bc63-4df6ea0585a6.nc to C:\\Globus endpoint\\summaWorkflow_data\\domain_BowAtBanff\\forcing\\1_ERA5_raw_data\\ERA5_surface_197912.nc (179.2K)\n",
      "2021-02-08 21:18:09,125 INFO Download rate 134.2K/s                                                                    \n"
     ]
    },
    {
     "name": "stdout",
     "output_type": "stream",
     "text": [
      "Successfully downloaded C:\\Globus endpoint\\summaWorkflow_data\\domain_BowAtBanff\\forcing\\1_ERA5_raw_data\\ERA5_surface_197912.nc\n"
     ]
    }
   ],
   "source": [
    "# Start the year loop\n",
    "for year in range(years[0],years[1]+1): \n",
    "    \n",
    "    # Start the month loop\n",
    "    for month in range (1,13): # this loops through numbers 1 to 12\n",
    "       \n",
    "        # find the number of days in this month\n",
    "        daysInMonth = calendar.monthrange(year,month) \n",
    "        \n",
    "        # compile the date string in the required format. Append 0's to the month number if needed (zfill(2))\n",
    "        date = str(year) + '-' + str(month).zfill(2) + '-01/' + \\\n",
    "            str(year) + '-' + str(month).zfill(2) + '-' + str(daysInMonth[1]).zfill(2) \n",
    "        \n",
    "        # compile the file name string\n",
    "        file = forcingPath / ('ERA5_surface_' + str(year) + str(month).zfill(2) + '.nc')\n",
    "\n",
    "        # track progress\n",
    "        print('Trying to download ' + date + ' into ' + str(file))\n",
    "\n",
    "        # if file doesn't yet exist, download the data\n",
    "        if not os.path.isfile(file):\n",
    "\n",
    "            # Make sure the connection is re-tried if it fails\n",
    "            retries_max = 10\n",
    "            retries_cur = 1\n",
    "            while retries_cur <= retries_max:\n",
    "                try:\n",
    "\n",
    "                    # connect to Copernicus (requires .cdsapirc file in $HOME)\n",
    "                    c = cdsapi.Client()\n",
    "\n",
    "                    # specify and retrieve data\n",
    "                    c.retrieve('reanalysis-era5-single-levels', { # do not change this!\n",
    "                        'product_type': 'reanalysis',\n",
    "                        'format': 'netcdf',\n",
    "                        'variable': [\n",
    "                            'mean_surface_downward_long_wave_radiation_flux',                \n",
    "                            'mean_surface_downward_short_wave_radiation_flux',\n",
    "                            'mean_total_precipitation_rate', \n",
    "                            'surface_pressure',\n",
    "                        ],\n",
    "                        'date': date,\n",
    "                        'time': '00/to/23/by/1',\n",
    "                        'area': coordinates, # North, West, South, East. Default: global\n",
    "                        'grid': '0.25/0.25', # Latitude/longitude grid: east-west (longitude) and north-south resolution (latitude).\n",
    "                    },\n",
    "                    file) # file path and name\n",
    "                    \n",
    "                    # track progress\n",
    "                    print('Successfully downloaded ' + str(file))\n",
    "                        \n",
    "                except Exception as e:\n",
    "                    print('Error downloading ' + str(file) + ' on try ' + str(retries_cur))\n",
    "                    print(str(e))\n",
    "                    retries_cur += 1\n",
    "                    continue\n",
    "                else:\n",
    "                    break"
   ]
  },
  {
   "cell_type": "markdown",
   "metadata": {},
   "source": [
    "#### Code provenance\n",
    "Generates a basic log file in the domain folder and copies the control file and itself there."
   ]
  },
  {
   "cell_type": "code",
   "execution_count": 13,
   "metadata": {},
   "outputs": [],
   "source": [
    "# Create a log folder\n",
    "logFolder = '_workflow_log'\n",
    "Path( forcingPath / logFolder ).mkdir(parents=True, exist_ok=True)"
   ]
  },
  {
   "cell_type": "code",
   "execution_count": 14,
   "metadata": {},
   "outputs": [],
   "source": [
    "# Copy this script\n",
    "thisFile = 'download_ERA5_surfaceLevel_annual.ipynb'\n",
    "copyfile(thisFile, forcingPath / logFolder / thisFile);"
   ]
  },
  {
   "cell_type": "code",
   "execution_count": 15,
   "metadata": {},
   "outputs": [],
   "source": [
    "# Get current date and time\n",
    "now = datetime.now()"
   ]
  },
  {
   "cell_type": "code",
   "execution_count": 16,
   "metadata": {},
   "outputs": [],
   "source": [
    "# Create a log file \n",
    "logFile = now.strftime('%Y%m%d') + '_surface_level_log.txt'\n",
    "with open( forcingPath / logFolder / logFile, 'w') as file:\n",
    "    \n",
    "    lines = ['Log generated by ' + thisFile + ' on ' + now.strftime('%Y/%m/%d %H:%M:%S') + '\\n',\n",
    "             'Downloaded ERA5 surface level data for space (lat_max, lon_min, lat_min, lon_max) [{}] for time Jan-{} / Dec-{}.'.format(coordinates,years[0],years[1])]\n",
    "    for txt in lines:\n",
    "        file.write(txt)  "
   ]
  },
  {
   "cell_type": "code",
   "execution_count": null,
   "metadata": {},
   "outputs": [],
   "source": []
  }
 ],
 "metadata": {
  "kernelspec": {
   "display_name": "summa-env",
   "language": "python",
   "name": "summa-env"
  },
  "language_info": {
   "codemirror_mode": {
    "name": "ipython",
    "version": 3
   },
   "file_extension": ".py",
   "mimetype": "text/x-python",
   "name": "python",
   "nbconvert_exporter": "python",
   "pygments_lexer": "ipython3",
   "version": "3.8.8"
  }
 },
 "nbformat": 4,
 "nbformat_minor": 4
}
