{
 "cells": [
  {
   "cell_type": "markdown",
   "metadata": {},
   "source": [
    "# Create SUMMA-to-mizuRoute catchment remapping file\n",
    "Creates a remap `.nc` file for cases where the routing catchments are different from the catchments used to run SUMMA. While mizuRoute is able to perform routing from grid-based outputs, SUMMA does not produce these and the code here is not setup to work with gridded model outputs.\n",
    "\n",
    "**_This code assumes routing occurs at the GRU level of SUMMA outputs. SUMMA-HRU-level routing is not supported._**"
   ]
  },
  {
   "cell_type": "code",
   "execution_count": 1,
   "metadata": {},
   "outputs": [],
   "source": [
    "# modules\n",
    "import itertools\n",
    "import pandas as pd\n",
    "import netCDF4 as nc4\n",
    "import geopandas as gpd\n",
    "from pathlib import Path\n",
    "from shutil import copyfile\n",
    "import easymore.easymore as esmr\n",
    "from datetime import datetime"
   ]
  },
  {
   "cell_type": "markdown",
   "metadata": {},
   "source": [
    "#### Control file handling"
   ]
  },
  {
   "cell_type": "code",
   "execution_count": 2,
   "metadata": {},
   "outputs": [],
   "source": [
    "# Easy access to control file folder\n",
    "controlFolder = Path('../../../0_control_files')"
   ]
  },
  {
   "cell_type": "code",
   "execution_count": 3,
   "metadata": {},
   "outputs": [],
   "source": [
    "# Store the name of the 'active' file in a variable\n",
    "controlFile = 'control_active.txt'"
   ]
  },
  {
   "cell_type": "code",
   "execution_count": 4,
   "metadata": {},
   "outputs": [],
   "source": [
    "# Function to extract a given setting from the control file\n",
    "def read_from_control( file, setting ):\n",
    "    \n",
    "    # Open 'control_active.txt' and ...\n",
    "    with open(file) as contents:\n",
    "        for line in contents:\n",
    "            \n",
    "            # ... find the line with the requested setting\n",
    "            if setting in line and not line.startswith('#'):\n",
    "                break\n",
    "    \n",
    "    # Extract the setting's value\n",
    "    substring = line.split('|',1)[1]      # Remove the setting's name (split into 2 based on '|', keep only 2nd part)\n",
    "    substring = substring.split('#',1)[0] # Remove comments, does nothing if no '#' is found\n",
    "    substring = substring.strip()         # Remove leading and trailing whitespace, tabs, newlines\n",
    "       \n",
    "    # Return this value    \n",
    "    return substring"
   ]
  },
  {
   "cell_type": "code",
   "execution_count": 5,
   "metadata": {},
   "outputs": [],
   "source": [
    "# Function to specify a default path\n",
    "def make_default_path(suffix):\n",
    "    \n",
    "    # Get the root path\n",
    "    rootPath = Path( read_from_control(controlFolder/controlFile,'root_path') )\n",
    "    \n",
    "    # Get the domain folder\n",
    "    domainName = read_from_control(controlFolder/controlFile,'domain_name')\n",
    "    domainFolder = 'domain_' + domainName\n",
    "    \n",
    "    # Specify the forcing path\n",
    "    defaultPath = rootPath / domainFolder / suffix\n",
    "    \n",
    "    return defaultPath"
   ]
  },
  {
   "cell_type": "markdown",
   "metadata": {},
   "source": [
    "#### Check if remapping is needed"
   ]
  },
  {
   "cell_type": "code",
   "execution_count": 6,
   "metadata": {},
   "outputs": [],
   "source": [
    "# Get the remap flag\n",
    "do_remap = read_from_control(controlFolder/controlFile,'river_basin_needs_remap')"
   ]
  },
  {
   "cell_type": "code",
   "execution_count": 7,
   "metadata": {},
   "outputs": [],
   "source": [
    "# Check\n",
    "if do_remap.lower() != 'yes':\n",
    "    print('Active control file indicates remapping is not needed. Aborting.')\n",
    "    exit()"
   ]
  },
  {
   "cell_type": "markdown",
   "metadata": {},
   "source": [
    "#### Find location of hydrologic model (HM) catchment shapefile"
   ]
  },
  {
   "cell_type": "code",
   "execution_count": 8,
   "metadata": {},
   "outputs": [],
   "source": [
    "# HM catchment shapefile path & name\n",
    "hm_catchment_path = read_from_control(controlFolder/controlFile,'catchment_shp_path')\n",
    "hm_catchment_name = read_from_control(controlFolder/controlFile,'catchment_shp_name')"
   ]
  },
  {
   "cell_type": "code",
   "execution_count": 9,
   "metadata": {},
   "outputs": [],
   "source": [
    "# Specify default path if needed\n",
    "if hm_catchment_path == 'default':\n",
    "    hm_catchment_path = make_default_path('shapefiles/catchment') # outputs a Path()\n",
    "else:\n",
    "    hm_catchment_path = Path(hm_catchment_path) # make sure a user-specified path is a Path()"
   ]
  },
  {
   "cell_type": "code",
   "execution_count": 10,
   "metadata": {},
   "outputs": [],
   "source": [
    "# Find the fields we're interested in\n",
    "hm_shp_gru_id = read_from_control(controlFolder/controlFile,'catchment_shp_gruid')"
   ]
  },
  {
   "cell_type": "markdown",
   "metadata": {},
   "source": [
    "#### Find location of routing model (RM) catchment shapefile"
   ]
  },
  {
   "cell_type": "code",
   "execution_count": 11,
   "metadata": {},
   "outputs": [],
   "source": [
    "# Routing model catchment shapefile path & name\n",
    "rm_catchment_path = read_from_control(controlFolder/controlFile,'river_basin_shp_path')\n",
    "rm_catchment_name = read_from_control(controlFolder/controlFile,'river_basin_shp_name')"
   ]
  },
  {
   "cell_type": "code",
   "execution_count": 12,
   "metadata": {},
   "outputs": [],
   "source": [
    "# Specify default path if needed\n",
    "if rm_catchment_path == 'default':\n",
    "    rm_catchment_path = make_default_path('shapefiles/river_basins') # outputs a Path()\n",
    "else:\n",
    "    rm_catchment_path = Path(rm_catchment_path) # make sure a user-specified path is a Path()"
   ]
  },
  {
   "cell_type": "code",
   "execution_count": 13,
   "metadata": {},
   "outputs": [],
   "source": [
    "# Find the fields we're interested in\n",
    "rm_shp_hru_id = read_from_control(controlFolder/controlFile,'river_basin_shp_rm_hruid')"
   ]
  },
  {
   "cell_type": "markdown",
   "metadata": {},
   "source": [
    "#### Find where the intersection needs to go"
   ]
  },
  {
   "cell_type": "code",
   "execution_count": 14,
   "metadata": {},
   "outputs": [],
   "source": [
    "# Intersected shapefile path. Name is set by EASYMORE as [prefix]_intersected_shapefile.shp\n",
    "intersect_path = read_from_control(controlFolder/controlFile,'intersect_routing_path')\n",
    "intersect_name = read_from_control(controlFolder/controlFile,'intersect_routing_name')"
   ]
  },
  {
   "cell_type": "code",
   "execution_count": 15,
   "metadata": {},
   "outputs": [],
   "source": [
    "# Specify default path if needed\n",
    "if intersect_path == 'default':\n",
    "    intersect_path = make_default_path('shapefiles/catchment_intersection/with_routing') # outputs a Path()\n",
    "else:\n",
    "    intersect_path = Path(intersect_path) # make sure a user-specified path is a Path()"
   ]
  },
  {
   "cell_type": "code",
   "execution_count": 16,
   "metadata": {},
   "outputs": [],
   "source": [
    "# Make the folder if it doesn't exist\n",
    "intersect_path.mkdir(parents=True, exist_ok=True)"
   ]
  },
  {
   "cell_type": "markdown",
   "metadata": {},
   "source": [
    "#### Find where the remapping file needs to go"
   ]
  },
  {
   "cell_type": "code",
   "execution_count": 17,
   "metadata": {},
   "outputs": [],
   "source": [
    "# Remap .nc path and name\n",
    "remap_path = read_from_control(controlFolder/controlFile,'settings_mizu_path')\n",
    "remap_name = read_from_control(controlFolder/controlFile,'settings_mizu_remap')"
   ]
  },
  {
   "cell_type": "code",
   "execution_count": 18,
   "metadata": {},
   "outputs": [],
   "source": [
    "# Specify default path if needed\n",
    "if remap_path == 'default':\n",
    "    remap_path = make_default_path('settings/mizuRoute') # outputs a Path()\n",
    "else:\n",
    "    remap_path = Path(remap_path) # make sure a user-specified path is a Path()"
   ]
  },
  {
   "cell_type": "code",
   "execution_count": 19,
   "metadata": {},
   "outputs": [],
   "source": [
    "# Make the folder if it doesn't exist\n",
    "remap_path.mkdir(parents=True, exist_ok=True)"
   ]
  },
  {
   "cell_type": "markdown",
   "metadata": {},
   "source": [
    "#### Call EASYMORE to do the intersection "
   ]
  },
  {
   "cell_type": "code",
   "execution_count": 20,
   "metadata": {},
   "outputs": [],
   "source": [
    "# Load both shapefiles\n",
    "hm_shape = gpd.read_file(hm_catchment_path/hm_catchment_name)\n",
    "rm_shape = gpd.read_file(rm_catchment_path/rm_catchment_name)"
   ]
  },
  {
   "cell_type": "code",
   "execution_count": 21,
   "metadata": {},
   "outputs": [],
   "source": [
    "# Create a EASYMORE object\n",
    "esmr_caller = esmr()"
   ]
  },
  {
   "cell_type": "code",
   "execution_count": 22,
   "metadata": {},
   "outputs": [],
   "source": [
    "# Project both shapes to equal area\n",
    "hm_shape = hm_shape.to_crs('EPSG:6933')\n",
    "rm_shape = rm_shape.to_crs('EPSG:6933')"
   ]
  },
  {
   "cell_type": "code",
   "execution_count": 23,
   "metadata": {},
   "outputs": [
    {
     "name": "stderr",
     "output_type": "stream",
     "text": [
      "C:\\Users\\wmk934\\Anaconda3\\envs\\geospatialTools_qgis_candex_hs\\lib\\site-packages\\candex\\candex.py:893: FutureWarning: Assigning CRS to a GeoDataFrame without a geometry column is now deprecated and will not be supported in the future.\n",
      "  pairs = gpd.GeoDataFrame(nei, columns=['idx1','idx2'], crs=df1.crs)\n",
      "C:\\Users\\wmk934\\Anaconda3\\envs\\geospatialTools_qgis_candex_hs\\lib\\site-packages\\candex\\candex.py:897: FutureWarning: Assigning CRS to a GeoDataFrame without a geometry column is now deprecated and will not be supported in the future.\n",
      "  pairs = gpd.GeoDataFrame(pairs, columns=pairs.columns, crs=df1.crs)\n"
     ]
    }
   ],
   "source": [
    "# Run the intersection\n",
    "intersected_shape = esmr.intersection_shp(esmr_caller,rm_shape,hm_shape)"
   ]
  },
  {
   "cell_type": "code",
   "execution_count": 24,
   "metadata": {},
   "outputs": [],
   "source": [
    "# Reproject the intersection to WSG84\n",
    "intersected_shape = intersected_shape.to_crs('EPSG:4326')"
   ]
  },
  {
   "cell_type": "code",
   "execution_count": 25,
   "metadata": {},
   "outputs": [
    {
     "name": "stderr",
     "output_type": "stream",
     "text": [
      "C:\\Users\\wmk934\\Anaconda3\\envs\\geospatialTools_qgis_candex_hs\\lib\\site-packages\\ipykernel_launcher.py:2: UserWarning: Column names longer than 10 characters will be truncated when saved to ESRI Shapefile.\n",
      "  \n"
     ]
    }
   ],
   "source": [
    "# Save the intersection to file\n",
    "intersected_shape.to_file(intersect_path/intersect_name)"
   ]
  },
  {
   "cell_type": "markdown",
   "metadata": {},
   "source": [
    "#### Pre-process the variables"
   ]
  },
  {
   "cell_type": "code",
   "execution_count": 26,
   "metadata": {},
   "outputs": [],
   "source": [
    "# Define a few shorthand variables\n",
    "int_rm_id = 'S_1_' + rm_shp_hru_id\n",
    "int_hm_id = 'S_2_' + hm_shp_gru_id\n",
    "int_weight = 'AP1N'"
   ]
  },
  {
   "cell_type": "code",
   "execution_count": 27,
   "metadata": {},
   "outputs": [],
   "source": [
    "# Sort the intersected shape by RM ID first, and HM ID second. This means all info per RM ID is in consecutive rows\n",
    "intersected_shape = intersected_shape.sort_values(by=[int_rm_id,int_hm_id])"
   ]
  },
  {
   "cell_type": "code",
   "execution_count": 28,
   "metadata": {},
   "outputs": [],
   "source": [
    "# Routing Network HRU ID\n",
    "nc_rnhruid = intersected_shape.groupby(int_rm_id).agg({int_rm_id: pd.unique}).values.astype(int)"
   ]
  },
  {
   "cell_type": "code",
   "execution_count": 29,
   "metadata": {},
   "outputs": [],
   "source": [
    "# Number of Hydrologic Model elements (GRUs in SUMMA's case) per Routing Network catchment\n",
    "nc_noverlaps = intersected_shape.groupby(int_rm_id).agg({int_hm_id: 'count'}).values.astype(int)"
   ]
  },
  {
   "cell_type": "code",
   "execution_count": 30,
   "metadata": {},
   "outputs": [],
   "source": [
    "# Hydrologic Model GRU IDs that are associated with each part of the overlap\n",
    "multi_nested_list = intersected_shape.groupby(int_rm_id).agg({int_hm_id: list}).values.tolist() # Get the data\n",
    "nc_hmgruid = list(itertools.chain.from_iterable(itertools.chain.from_iterable(multi_nested_list))) # Combine 3 nested list into 1"
   ]
  },
  {
   "cell_type": "code",
   "execution_count": 31,
   "metadata": {},
   "outputs": [],
   "source": [
    "# Areal weight of each HM GRU per part of the overlaps\n",
    "multi_nested_list = intersected_shape.groupby(int_rm_id).agg({int_weight: list}).values.tolist() \n",
    "nc_weight = list(itertools.chain.from_iterable(itertools.chain.from_iterable(multi_nested_list))) "
   ]
  },
  {
   "cell_type": "markdown",
   "metadata": {},
   "source": [
    "#### Make the `.nc` file"
   ]
  },
  {
   "cell_type": "code",
   "execution_count": 32,
   "metadata": {},
   "outputs": [],
   "source": [
    "# Find the dimension sizes\n",
    "num_hru  = len(rm_shape)\n",
    "num_data = len(intersected_shape)"
   ]
  },
  {
   "cell_type": "code",
   "execution_count": 33,
   "metadata": {},
   "outputs": [],
   "source": [
    "# Function to create new nc variables\n",
    "def create_and_fill_nc_var(ncid, var_name, var_type, dim, fill_val, fill_data, long_name, units):\n",
    "    \n",
    "    # Make the variable\n",
    "    ncvar = ncid.createVariable(var_name, var_type, (dim,), fill_val)\n",
    "    \n",
    "    # Add the data\n",
    "    ncvar[:] = fill_data    \n",
    "    \n",
    "    # Add meta data\n",
    "    ncvar.long_name = long_name \n",
    "    ncvar.unit = units\n",
    "    \n",
    "    return    "
   ]
  },
  {
   "cell_type": "code",
   "execution_count": 40,
   "metadata": {},
   "outputs": [],
   "source": [
    "# Make the netcdf file\n",
    "with nc4.Dataset(remap_path/remap_name, 'w', format='NETCDF4') as ncid:\n",
    "    \n",
    "    # Set general attributes\n",
    "    now = datetime.now()\n",
    "    ncid.setncattr('Author', \"Created by SUMMA workflow scripts\")\n",
    "    ncid.setncattr('History','Created ' + now.strftime('%Y/%m/%d %H:%M:%S'))\n",
    "    ncid.setncattr('Purpose','Create a remapping .nc file for mizuRoute routing')\n",
    "    \n",
    "    # Define the seg and hru dimensions\n",
    "    ncid.createDimension('hru', num_hru)\n",
    "    ncid.createDimension('data', num_data)\n",
    "    \n",
    "    # --- Variables\n",
    "    create_and_fill_nc_var(ncid, 'RN_hruId', 'int', 'hru', False, nc_rnhruid, \\\n",
    "                           'River network HRU ID', '-')\n",
    "    create_and_fill_nc_var(ncid, 'nOverlaps', 'int', 'hru', False, nc_noverlaps, \\\n",
    "                           'Number of overlapping HM_HRUs for each RN_HRU', '-')\n",
    "    create_and_fill_nc_var(ncid, 'HM_hruId', 'int', 'data', False, nc_hmgruid, \\\n",
    "                           'ID of overlapping HM_HRUs. Note that SUMMA calls these GRUs', '-')\n",
    "    create_and_fill_nc_var(ncid, 'weight', 'f8', 'data', False, nc_weight, \\\n",
    "                           'Areal weight of overlapping HM_HRUs. Note that SUMMA calls these GRUs', '-')"
   ]
  },
  {
   "cell_type": "markdown",
   "metadata": {},
   "source": [
    "#### Code provenance\n",
    "Generates a basic log file in the domain folder and copies the control file and itself there."
   ]
  },
  {
   "cell_type": "code",
   "execution_count": 35,
   "metadata": {},
   "outputs": [],
   "source": [
    "# Set the log path and file name\n",
    "logPath = remap_path\n",
    "log_suffix = '_make_remapping_file.txt'"
   ]
  },
  {
   "cell_type": "code",
   "execution_count": 36,
   "metadata": {},
   "outputs": [],
   "source": [
    "# Create a log folder\n",
    "logFolder = '_workflow_log'\n",
    "Path( logPath / logFolder ).mkdir(parents=True, exist_ok=True)"
   ]
  },
  {
   "cell_type": "code",
   "execution_count": 37,
   "metadata": {},
   "outputs": [],
   "source": [
    "# Copy this script\n",
    "thisFile = '1_remap_summa_catchments_to_routing.ipynb'\n",
    "copyfile(thisFile, logPath / logFolder / thisFile);"
   ]
  },
  {
   "cell_type": "code",
   "execution_count": 38,
   "metadata": {},
   "outputs": [],
   "source": [
    "# Get current date and time\n",
    "now = datetime.now()"
   ]
  },
  {
   "cell_type": "code",
   "execution_count": 39,
   "metadata": {},
   "outputs": [],
   "source": [
    "# Create a log file \n",
    "logFile = now.strftime('%Y%m%d') + log_suffix\n",
    "with open( logPath / logFolder / logFile, 'w') as file:\n",
    "    \n",
    "    lines = ['Log generated by ' + thisFile + ' on ' + now.strftime('%Y/%m/%d %H:%M:%S') + '\\n',\n",
    "             'Generated remapping .nc file for Hydro model catchments to routing model catchments.']\n",
    "    for txt in lines:\n",
    "        file.write(txt) "
   ]
  },
  {
   "cell_type": "code",
   "execution_count": null,
   "metadata": {},
   "outputs": [],
   "source": []
  }
 ],
 "metadata": {
  "kernelspec": {
   "display_name": "summa-env",
   "language": "python",
   "name": "summa-env"
  },
  "language_info": {
   "codemirror_mode": {
    "name": "ipython",
    "version": 3
   },
   "file_extension": ".py",
   "mimetype": "text/x-python",
   "name": "python",
   "nbconvert_exporter": "python",
   "pygments_lexer": "ipython3",
   "version": "3.8.8"
  }
 },
 "nbformat": 4,
 "nbformat_minor": 4
}
