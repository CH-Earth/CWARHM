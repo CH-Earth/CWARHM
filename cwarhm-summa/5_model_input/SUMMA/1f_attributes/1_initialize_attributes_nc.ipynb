{
 "cells": [
  {
   "cell_type": "markdown",
   "metadata": {},
   "source": [
    "# Initialize attributes.nc\n",
    "Create attributes.nc file. This needs (https://summa.readthedocs.io/en/master/input_output/SUMMA_input/):\n",
    "\n",
    "| Variable       | dimension | type   | units                | long name                                 | notes                                                                                                                                                                                         |\n",
    "|:----------------|:-----------|:--------|:----------------------|:-------------------------------------------|:-----------------------------------------------------------------------------------------------------------------------------------------------------------------------------------------------|\n",
    "| hruId          | hru       | int    | -                    | Index of hydrological response unit (HRU) | Unique numeric ID for each HRU|\n",
    "| gruId          | gru       | int    | -                    | Index of grouped response unit (GRU)      | Unique numeric ID for each GRU                                                                                                                                                                |\n",
    "| hru2gruId      | hru       | int    | -                    | Index of GRU to which the HRU belongs     | gruId of the GRU to which the HRU belongs                                                                                                                                                     |\n",
    "| downHRUindex   | hru       | int    | -                    | Index of downslope HRU (0 = basin outlet) | Downslope HRU must be within the same GRU. If the value is 0, then  there is no exchange to a neighboring HRU. Setting this value to 0 for  all HRUs emulates a series of independent columns |\n",
    "| longitude      | hru       | double | Decimal degree east  | Longitude of HRU's centroid               | West is negative or greater than 180                                                                                                                                                          |\n",
    "| latitude       | hru       | double | Decimal degree north | Latitude of HRU's centroid                | South is negative                                                                                                                                                                             |\n",
    "| elevation      | hru       | double | m                    | Elevation of HRU's centroid               |                                                                                                                                                                                               |\n",
    "| HRUarea        | hru       | double | m^2                  | Area of HRU                               |                                                                                                                                                                                               |\n",
    "| tan_slope      | hru       | double | m m-1                | Average tangent slope of HRU              |                                                                                                                                                                                               |\n",
    "| contourLength  | hru       | double | m                    | Contour length of HRU                     | Width of a hillslope (m) parallel to a stream. Used in groundwatr.f90                                                                                                                         |\n",
    "| slopeTypeIndex | hru       | int    | -                    | Index defining slope                      |                                                                                                                                                                                               |\n",
    "| soilTypeIndex  | hru       | int    | -                    | Index defining soil type                  |                                                                                                                                                                                               |\n",
    "| vegTypeIndex   | hru       | int    | -                    | Index defining vegetation type            |                                                                                                                                                                                               |\n",
    "| mHeight        | hru       | double | m                    | Measurement height above bare ground      |                                                                                                                                                                                            |\n",
    "\n",
    "## Note on HRU order\n",
    "HRU order must be the same in forcing, attributes, initial conditions and trial parameter files. Order will be taken from forcing files to ensure consistency.\n",
    "\n",
    "## Fill values\n",
    "| Variable       | Value |\n",
    "|:---------------|:------|\n",
    "| hruId          | taken from the shapefile index values |\n",
    "| gruId          | same as hruId, because in this setup HRU and GRU map 1:1 |\n",
    "| hru2gruId      | same as hruId |\n",
    "| downHRUindex   | 0, each HRU is independent column |\n",
    "| longitude      | taken from the shapefile geometry |\n",
    "| latitude       | taken from the shapefile geometry |\n",
    "| elevation      | placeholder value -999, fill from the MERIT Hydro DEM |\n",
    "| HRUarea        | taken from the shapefile attributes |\n",
    "| tan_slope      | unused in current set up, fixed at 0.1 [-] |\n",
    "| contourLength  | unused in current set up, fixed at 30 [m] |\n",
    "| slopeTypeIndex | unused in current set up, fixed at 1 [-] |\n",
    "| soilTypeIndex  | placeholder value -999, fill from SOILGRIDS |\n",
    "| vegTypeIndex   | placeholder value -999, fill from MODIS veg |\n",
    "| mHeight        | temporarily set at 3 [m] |\n",
    "\n",
    "## Assumed modeling decisions\n",
    "Note that options:\n",
    "- tan_slope\n",
    "- contourLength\n",
    "- slopeTypeIndex \n",
    "\n",
    "are not set to correct values. `slopeTypeIndex` is a legacy variable that is no longer used. `tan_slope` and `contourLength` are needed for the `qbaseTopmodel` modeling option. These require significant preprocessing of geospatial data and are not yet implemented as part of this workflow.\n",
    "\n",
    "`downHRUindex` is set to 0, indicating that each HRU will be modeled as an independent column. This can optionally be changed by setting the flag `settings_summa_connect_HRUs` to `yes` in the control file. The notebook that populates the attributes `.nc` file with elevation will in that case also use the relative elevations of HRUs in each GRU to define downslope HRU IDs."
   ]
  },
  {
   "cell_type": "code",
   "execution_count": 1,
   "metadata": {},
   "outputs": [],
   "source": [
    "# modules\n",
    "import os\n",
    "import pandas as pd\n",
    "import xarray as xr\n",
    "import netCDF4 as nc4\n",
    "import geopandas as gpd\n",
    "from pathlib import Path\n",
    "from shutil import copyfile\n",
    "from datetime import datetime"
   ]
  },
  {
   "cell_type": "markdown",
   "metadata": {},
   "source": [
    "#### Control file handling"
   ]
  },
  {
   "cell_type": "code",
   "execution_count": 2,
   "metadata": {},
   "outputs": [],
   "source": [
    "# Easy access to control file folder\n",
    "controlFolder = Path('../../../0_control_files')"
   ]
  },
  {
   "cell_type": "code",
   "execution_count": 3,
   "metadata": {},
   "outputs": [],
   "source": [
    "# Store the name of the 'active' file in a variable\n",
    "controlFile = 'control_active.txt'"
   ]
  },
  {
   "cell_type": "code",
   "execution_count": 4,
   "metadata": {},
   "outputs": [],
   "source": [
    "# Function to extract a given setting from the control file\n",
    "def read_from_control( file, setting ):\n",
    "    \n",
    "    # Open 'control_active.txt' and ...\n",
    "    with open(file) as contents:\n",
    "        for line in contents:\n",
    "            \n",
    "            # ... find the line with the requested setting\n",
    "            if setting in line and not line.startswith('#'):\n",
    "                break\n",
    "    \n",
    "    # Extract the setting's value\n",
    "    substring = line.split('|',1)[1]      # Remove the setting's name (split into 2 based on '|', keep only 2nd part)\n",
    "    substring = substring.split('#',1)[0] # Remove comments, does nothing if no '#' is found\n",
    "    substring = substring.strip()         # Remove leading and trailing whitespace, tabs, newlines\n",
    "       \n",
    "    # Return this value    \n",
    "    return substring"
   ]
  },
  {
   "cell_type": "code",
   "execution_count": 5,
   "metadata": {},
   "outputs": [],
   "source": [
    "# Function to specify a default path\n",
    "def make_default_path(suffix):\n",
    "    \n",
    "    # Get the root path\n",
    "    rootPath = Path( read_from_control(controlFolder/controlFile,'root_path') )\n",
    "    \n",
    "    # Get the domain folder\n",
    "    domainName = read_from_control(controlFolder/controlFile,'domain_name')\n",
    "    domainFolder = 'domain_' + domainName\n",
    "    \n",
    "    # Specify the forcing path\n",
    "    defaultPath = rootPath / domainFolder / suffix\n",
    "    \n",
    "    return defaultPath"
   ]
  },
  {
   "cell_type": "markdown",
   "metadata": {},
   "source": [
    "#### Find shapefile location and name"
   ]
  },
  {
   "cell_type": "code",
   "execution_count": 16,
   "metadata": {},
   "outputs": [],
   "source": [
    "# Catchment shapefile path & name\n",
    "catchment_path = read_from_control(controlFolder/controlFile,'catchment_shp_path')\n",
    "catchment_name = read_from_control(controlFolder/controlFile,'catchment_shp_name')"
   ]
  },
  {
   "cell_type": "code",
   "execution_count": 17,
   "metadata": {},
   "outputs": [],
   "source": [
    "# Specify default path if needed\n",
    "if catchment_path == 'default':\n",
    "    catchment_path = make_default_path('shapefiles/catchment') # outputs a Path()\n",
    "else:\n",
    "    catchment_path = Path(catchment_path) # make sure a user-specified path is a Path()\""
   ]
  },
  {
   "cell_type": "code",
   "execution_count": 18,
   "metadata": {},
   "outputs": [],
   "source": [
    "# Variable names used in shapefile\n",
    "catchment_hruId_var = read_from_control(controlFolder/controlFile,'catchment_shp_hruid')\n",
    "catchment_gruId_var = read_from_control(controlFolder/controlFile,'catchment_shp_gruid')\n",
    "catchment_area_var = read_from_control(controlFolder/controlFile,'catchment_shp_area')\n",
    "catchment_lat_var = read_from_control(controlFolder/controlFile,'catchment_shp_lat')\n",
    "catchment_lon_var = read_from_control(controlFolder/controlFile,'catchment_shp_lon')"
   ]
  },
  {
   "cell_type": "markdown",
   "metadata": {},
   "source": [
    "#### Find forcing location and an example file"
   ]
  },
  {
   "cell_type": "code",
   "execution_count": 19,
   "metadata": {},
   "outputs": [],
   "source": [
    "# Forcing path\n",
    "forcing_path = read_from_control(controlFolder/controlFile,'forcing_summa_path')"
   ]
  },
  {
   "cell_type": "code",
   "execution_count": 20,
   "metadata": {},
   "outputs": [],
   "source": [
    "# Specify default path if needed\n",
    "if forcing_path == 'default':\n",
    "    forcing_path = make_default_path('forcing/4_SUMMA_input') # outputs a Path()\n",
    "else:\n",
    "    forcing_path = Path(forcing_path) # make sure a user-specified path is a Path()"
   ]
  },
  {
   "cell_type": "code",
   "execution_count": 21,
   "metadata": {},
   "outputs": [],
   "source": [
    "# Find a list of forcing files\n",
    "_,_,forcing_files = next(os.walk(forcing_path))"
   ]
  },
  {
   "cell_type": "code",
   "execution_count": 22,
   "metadata": {},
   "outputs": [],
   "source": [
    "# Select a random file as a template for hruId order\n",
    "forcing_name = forcing_files[0]"
   ]
  },
  {
   "cell_type": "code",
   "execution_count": 23,
   "metadata": {},
   "outputs": [],
   "source": [
    "# Find the forcing measurement height\n",
    "forcing_measurement_height = float(read_from_control(controlFolder/controlFile,'forcing_measurement_height'))"
   ]
  },
  {
   "cell_type": "markdown",
   "metadata": {},
   "source": [
    "#### Find where the attributes need to go"
   ]
  },
  {
   "cell_type": "code",
   "execution_count": 25,
   "metadata": {},
   "outputs": [],
   "source": [
    "# Attribute path & name\n",
    "attribute_path = read_from_control(controlFolder/controlFile,'settings_summa_path')\n",
    "attribute_name = read_from_control(controlFolder/controlFile,'settings_summa_attributes')"
   ]
  },
  {
   "cell_type": "code",
   "execution_count": 26,
   "metadata": {},
   "outputs": [],
   "source": [
    "# Specify default path if needed\n",
    "if attribute_path == 'default':\n",
    "    attribute_path = make_default_path('settings/SUMMA') # outputs a Path()\n",
    "else:\n",
    "    attribute_path = Path(attribute_path) # make sure a user-specified path is a Path()"
   ]
  },
  {
   "cell_type": "code",
   "execution_count": 27,
   "metadata": {},
   "outputs": [],
   "source": [
    "# Make the folder if it doesn't exist\n",
    "attribute_path.mkdir(parents=True, exist_ok=True)"
   ]
  },
  {
   "cell_type": "markdown",
   "metadata": {},
   "source": [
    "#### Load the catchment shapefile and sort it based on HRU order in the forcing file"
   ]
  },
  {
   "cell_type": "code",
   "execution_count": 42,
   "metadata": {},
   "outputs": [],
   "source": [
    "# Open the catchment shapefile\n",
    "shp = gpd.read_file(catchment_path/catchment_name)"
   ]
  },
  {
   "cell_type": "code",
   "execution_count": 30,
   "metadata": {},
   "outputs": [],
   "source": [
    "# Open the forcing file\n",
    "forc = xr.open_dataset(forcing_path/forcing_name)"
   ]
  },
  {
   "cell_type": "code",
   "execution_count": 31,
   "metadata": {},
   "outputs": [],
   "source": [
    "# Get the sorting order from the forcing file\n",
    "forcing_hruIds = forc['hruId'].values.astype(int) # 'hruId' is prescribed by SUMMA so this variable must exist"
   ]
  },
  {
   "cell_type": "code",
   "execution_count": 44,
   "metadata": {},
   "outputs": [],
   "source": [
    "# Make the hruId variable in the shapefile the index\n",
    "shp = shp.set_index(catchment_hruId_var)"
   ]
  },
  {
   "cell_type": "code",
   "execution_count": 45,
   "metadata": {},
   "outputs": [],
   "source": [
    "# Enforce index as integers\n",
    "shp.index = shp.index.astype(int)"
   ]
  },
  {
   "cell_type": "code",
   "execution_count": 48,
   "metadata": {},
   "outputs": [],
   "source": [
    "# Sort the shape based on the forcing HRU order\n",
    "shp = shp.loc[forcing_hruIds]"
   ]
  },
  {
   "cell_type": "code",
   "execution_count": 49,
   "metadata": {},
   "outputs": [],
   "source": [
    "# Reset the index so that we reference each row properly in later code\n",
    "shp = shp.reset_index()"
   ]
  },
  {
   "cell_type": "markdown",
   "metadata": {},
   "source": [
    "#### Find number of GRUs and HRUs"
   ]
  },
  {
   "cell_type": "code",
   "execution_count": 22,
   "metadata": {},
   "outputs": [],
   "source": [
    "# Extract HRU IDs and count unique occurence (should be equal to length of shapefile)\n",
    "hru_ids = pd.unique(shp[catchment_hruId_var].values)\n",
    "num_hru = len(hru_ids)\n",
    "\n",
    "gru_ids = pd.unique(shp[catchment_gruId_var].values)\n",
    "num_gru = len(gru_ids)"
   ]
  },
  {
   "cell_type": "markdown",
   "metadata": {},
   "source": [
    "#### Create the new attributes file"
   ]
  },
  {
   "cell_type": "code",
   "execution_count": 31,
   "metadata": {},
   "outputs": [
    {
     "name": "stdout",
     "output_type": "stream",
     "text": [
      "1 out of 118 HRUs completed.\n",
      "2 out of 118 HRUs completed.\n",
      "3 out of 118 HRUs completed.\n",
      "4 out of 118 HRUs completed.\n",
      "5 out of 118 HRUs completed.\n",
      "6 out of 118 HRUs completed.\n",
      "7 out of 118 HRUs completed.\n",
      "8 out of 118 HRUs completed.\n",
      "9 out of 118 HRUs completed.\n",
      "10 out of 118 HRUs completed.\n",
      "11 out of 118 HRUs completed.\n",
      "12 out of 118 HRUs completed.\n",
      "13 out of 118 HRUs completed.\n",
      "14 out of 118 HRUs completed.\n",
      "15 out of 118 HRUs completed.\n",
      "16 out of 118 HRUs completed.\n",
      "17 out of 118 HRUs completed.\n",
      "18 out of 118 HRUs completed.\n",
      "19 out of 118 HRUs completed.\n",
      "20 out of 118 HRUs completed.\n",
      "21 out of 118 HRUs completed.\n",
      "22 out of 118 HRUs completed.\n",
      "23 out of 118 HRUs completed.\n",
      "24 out of 118 HRUs completed.\n",
      "25 out of 118 HRUs completed.\n",
      "26 out of 118 HRUs completed.\n",
      "27 out of 118 HRUs completed.\n",
      "28 out of 118 HRUs completed.\n",
      "29 out of 118 HRUs completed.\n",
      "30 out of 118 HRUs completed.\n",
      "31 out of 118 HRUs completed.\n",
      "32 out of 118 HRUs completed.\n",
      "33 out of 118 HRUs completed.\n",
      "34 out of 118 HRUs completed.\n",
      "35 out of 118 HRUs completed.\n",
      "36 out of 118 HRUs completed.\n",
      "37 out of 118 HRUs completed.\n",
      "38 out of 118 HRUs completed.\n",
      "39 out of 118 HRUs completed.\n",
      "40 out of 118 HRUs completed.\n",
      "41 out of 118 HRUs completed.\n",
      "42 out of 118 HRUs completed.\n",
      "43 out of 118 HRUs completed.\n",
      "44 out of 118 HRUs completed.\n",
      "45 out of 118 HRUs completed.\n",
      "46 out of 118 HRUs completed.\n",
      "47 out of 118 HRUs completed.\n",
      "48 out of 118 HRUs completed.\n",
      "49 out of 118 HRUs completed.\n",
      "50 out of 118 HRUs completed.\n",
      "51 out of 118 HRUs completed.\n",
      "52 out of 118 HRUs completed.\n",
      "53 out of 118 HRUs completed.\n",
      "54 out of 118 HRUs completed.\n",
      "55 out of 118 HRUs completed.\n",
      "56 out of 118 HRUs completed.\n",
      "57 out of 118 HRUs completed.\n",
      "58 out of 118 HRUs completed.\n",
      "59 out of 118 HRUs completed.\n",
      "60 out of 118 HRUs completed.\n",
      "61 out of 118 HRUs completed.\n",
      "62 out of 118 HRUs completed.\n",
      "63 out of 118 HRUs completed.\n",
      "64 out of 118 HRUs completed.\n",
      "65 out of 118 HRUs completed.\n",
      "66 out of 118 HRUs completed.\n",
      "67 out of 118 HRUs completed.\n",
      "68 out of 118 HRUs completed.\n",
      "69 out of 118 HRUs completed.\n",
      "70 out of 118 HRUs completed.\n",
      "71 out of 118 HRUs completed.\n",
      "72 out of 118 HRUs completed.\n",
      "73 out of 118 HRUs completed.\n",
      "74 out of 118 HRUs completed.\n",
      "75 out of 118 HRUs completed.\n",
      "76 out of 118 HRUs completed.\n",
      "77 out of 118 HRUs completed.\n",
      "78 out of 118 HRUs completed.\n",
      "79 out of 118 HRUs completed.\n",
      "80 out of 118 HRUs completed.\n",
      "81 out of 118 HRUs completed.\n",
      "82 out of 118 HRUs completed.\n",
      "83 out of 118 HRUs completed.\n",
      "84 out of 118 HRUs completed.\n",
      "85 out of 118 HRUs completed.\n",
      "86 out of 118 HRUs completed.\n",
      "87 out of 118 HRUs completed.\n",
      "88 out of 118 HRUs completed.\n",
      "89 out of 118 HRUs completed.\n",
      "90 out of 118 HRUs completed.\n",
      "91 out of 118 HRUs completed.\n",
      "92 out of 118 HRUs completed.\n",
      "93 out of 118 HRUs completed.\n",
      "94 out of 118 HRUs completed.\n",
      "95 out of 118 HRUs completed.\n",
      "96 out of 118 HRUs completed.\n",
      "97 out of 118 HRUs completed.\n",
      "98 out of 118 HRUs completed.\n",
      "99 out of 118 HRUs completed.\n",
      "100 out of 118 HRUs completed.\n",
      "101 out of 118 HRUs completed.\n",
      "102 out of 118 HRUs completed.\n",
      "103 out of 118 HRUs completed.\n",
      "104 out of 118 HRUs completed.\n",
      "105 out of 118 HRUs completed.\n",
      "106 out of 118 HRUs completed.\n",
      "107 out of 118 HRUs completed.\n",
      "108 out of 118 HRUs completed.\n",
      "109 out of 118 HRUs completed.\n",
      "110 out of 118 HRUs completed.\n",
      "111 out of 118 HRUs completed.\n",
      "112 out of 118 HRUs completed.\n",
      "113 out of 118 HRUs completed.\n",
      "114 out of 118 HRUs completed.\n",
      "115 out of 118 HRUs completed.\n",
      "116 out of 118 HRUs completed.\n",
      "117 out of 118 HRUs completed.\n",
      "118 out of 118 HRUs completed.\n"
     ]
    }
   ],
   "source": [
    "# Create the new .nc file\n",
    "with nc4.Dataset(attribute_path/attribute_name, \"w\", format=\"NETCDF4\") as att:\n",
    "    \n",
    "    # General attributes\n",
    "    now = datetime.now()\n",
    "    att.setncattr('Author', \"Created by SUMMA workflow scripts\")\n",
    "    att.setncattr('History','Created ' + now.strftime('%Y/%m/%d %H:%M:%S'))\n",
    "\n",
    "    # Define the dimensions \n",
    "    att.createDimension('hru',num_hru)\n",
    "    att.createDimension('gru',num_gru)\n",
    "    \n",
    "    # Define the variables\n",
    "    var = 'hruId'\n",
    "    att.createVariable(var, 'i4', 'hru', fill_value = False)\n",
    "    att[var].setncattr('units', '-')\n",
    "    att[var].setncattr('long_name', 'Index of hydrological response unit (HRU)')\n",
    "    \n",
    "    var = 'gruId'\n",
    "    att.createVariable(var, 'i4', 'gru', fill_value = False)\n",
    "    att[var].setncattr('units', '-')\n",
    "    att[var].setncattr('long_name', 'Index of grouped response unit (GRU)')\n",
    "    \n",
    "    var = 'hru2gruId'\n",
    "    att.createVariable(var, 'i4', 'hru', fill_value = False)\n",
    "    att[var].setncattr('units', '-')\n",
    "    att[var].setncattr('long_name', 'Index of GRU to which the HRU belongs')\n",
    "    \n",
    "    var = 'downHRUindex'\n",
    "    att.createVariable(var, 'i4', 'hru', fill_value = False)\n",
    "    att[var].setncattr('units', '-')\n",
    "    att[var].setncattr('long_name', 'Index of downslope HRU (0 = basin outlet)')\n",
    "    \n",
    "    var = 'longitude'\n",
    "    att.createVariable(var, 'f8', 'hru', fill_value = False)\n",
    "    att[var].setncattr('units', 'Decimal degree east')\n",
    "    att[var].setncattr('long_name', 'Longitude of HRU''s centroid')\n",
    "    \n",
    "    var = 'latitude'\n",
    "    att.createVariable(var, 'f8', 'hru', fill_value = False)\n",
    "    att[var].setncattr('units', 'Decimal degree north')\n",
    "    att[var].setncattr('long_name', 'Latitude of HRU''s centroid')\n",
    "    \n",
    "    var = 'elevation'\n",
    "    att.createVariable(var, 'f8', 'hru', fill_value = False)\n",
    "    att[var].setncattr('units', 'm')\n",
    "    att[var].setncattr('long_name', 'Mean HRU elevation')\n",
    "    \n",
    "    var = 'HRUarea'\n",
    "    att.createVariable(var, 'f8', 'hru', fill_value = False)\n",
    "    att[var].setncattr('units', 'm^2')\n",
    "    att[var].setncattr('long_name', 'Area of HRU')\n",
    "    \n",
    "    var = 'tan_slope'\n",
    "    att.createVariable(var, 'f8', 'hru', fill_value = False)\n",
    "    att[var].setncattr('units', 'm m-1')\n",
    "    att[var].setncattr('long_name', 'Average tangent slope of HRU')\n",
    "    \n",
    "    var = 'contourLength'\n",
    "    att.createVariable(var, 'f8', 'hru', fill_value = False)\n",
    "    att[var].setncattr('units', 'm')\n",
    "    att[var].setncattr('long_name', 'Contour length of HRU')\n",
    "    \n",
    "    var = 'slopeTypeIndex'\n",
    "    att.createVariable(var, 'i4', 'hru', fill_value = False)\n",
    "    att[var].setncattr('units', '-')\n",
    "    att[var].setncattr('long_name', 'Index defining slope')\n",
    "    \n",
    "    var = 'soilTypeIndex'\n",
    "    att.createVariable(var, 'i4', 'hru', fill_value = False)\n",
    "    att[var].setncattr('units', '-')\n",
    "    att[var].setncattr('long_name', 'Index defining soil type')\n",
    "    \n",
    "    var = 'vegTypeIndex'\n",
    "    att.createVariable(var, 'i4', 'hru', fill_value = False)\n",
    "    att[var].setncattr('units', '-')\n",
    "    att[var].setncattr('long_name', 'Index defining vegetation type')\n",
    "    \n",
    "    var = 'mHeight'\n",
    "    att.createVariable(var, 'f8', 'hru', fill_value = False)\n",
    "    att[var].setncattr('units', 'm')\n",
    "    att[var].setncattr('long_name', 'Measurement height above bare ground')\n",
    "    \n",
    "    # Progress\n",
    "    progress = 0\n",
    "    \n",
    "    # GRU variable\n",
    "    for idx in range(0,num_gru):\n",
    "        att['gruId'][idx] = gru_ids[idx]\n",
    "    \n",
    "    # HRU variables; due to pre-sorting, these are already in the same order as the forcing files\n",
    "    for idx in range(0,num_hru):\n",
    "        \n",
    "        # Fill values from shapefile\n",
    "        att['hruId'][idx]     = shp.iloc[idx][catchment_hruId_var]\n",
    "        att['HRUarea'][idx]   = shp.iloc[idx][catchment_area_var]\n",
    "        att['latitude'][idx]  = shp.iloc[idx][catchment_lat_var]\n",
    "        att['longitude'][idx] = shp.iloc[idx][catchment_lon_var]\n",
    "        att['hru2gruId'][idx] = shp.iloc[idx][catchment_gruId_var]\n",
    "        \n",
    "        # Constants\n",
    "        att['tan_slope'][idx]      = 0.1                         # Only used in qbaseTopmodel modelling decision\n",
    "        att['contourLength'][idx]  = 30                          # Only used in qbaseTopmodel modelling decision\n",
    "        att['slopeTypeIndex'][idx] = 1                           # Needs to be set but not used\n",
    "        att['mHeight'][idx]        = forcing_measurement_height  # Forcing data height; used in some scaling equations       \n",
    "        att['downHRUindex'][idx]   = 0   # All HRUs modeled as independent columns; optionally changed when elevation is added to attributes.nc\n",
    "        \n",
    "        # Placeholders to be filled later\n",
    "        att['elevation'][idx]     = -999\n",
    "        att['soilTypeIndex'][idx] = -999\n",
    "        att['vegTypeIndex'][idx]  = -999\n",
    "        \n",
    "       # Show a progress report\n",
    "        print(str(progress+1) + ' out of ' + str(num_hru) + ' HRUs completed.')\n",
    "        \n",
    "        # Increment the counter\n",
    "        progress += 1"
   ]
  },
  {
   "cell_type": "markdown",
   "metadata": {},
   "source": [
    "#### Code provenance\n",
    "Generates a basic log file in the domain folder and copies the control file and itself there."
   ]
  },
  {
   "cell_type": "code",
   "execution_count": 26,
   "metadata": {},
   "outputs": [],
   "source": [
    "# Set the log path and file name\n",
    "logPath = attribute_path\n",
    "log_suffix = '_initialize_attributes.txt'"
   ]
  },
  {
   "cell_type": "code",
   "execution_count": 27,
   "metadata": {},
   "outputs": [],
   "source": [
    "# Create a log folder\n",
    "logFolder = '_workflow_log'\n",
    "Path( logPath / logFolder ).mkdir(parents=True, exist_ok=True)"
   ]
  },
  {
   "cell_type": "code",
   "execution_count": 28,
   "metadata": {},
   "outputs": [],
   "source": [
    "# Copy this script\n",
    "thisFile = '1_initialize_attributes_nc.ipynb'\n",
    "copyfile(thisFile, logPath / logFolder / thisFile);"
   ]
  },
  {
   "cell_type": "code",
   "execution_count": 29,
   "metadata": {},
   "outputs": [],
   "source": [
    "# Get current date and time\n",
    "now = datetime.now()"
   ]
  },
  {
   "cell_type": "code",
   "execution_count": 30,
   "metadata": {},
   "outputs": [],
   "source": [
    "# Create a log file \n",
    "logFile = now.strftime('%Y%m%d') + log_suffix\n",
    "with open( logPath / logFolder / logFile, 'w') as file:\n",
    "    \n",
    "    lines = ['Log generated by ' + thisFile + ' on ' + now.strftime('%Y/%m/%d %H:%M:%S') + '\\n',\n",
    "             'Initialized the attributes .nc file.']\n",
    "    for txt in lines:\n",
    "        file.write(txt) "
   ]
  },
  {
   "cell_type": "code",
   "execution_count": null,
   "metadata": {},
   "outputs": [],
   "source": []
  }
 ],
 "metadata": {
  "kernelspec": {
   "display_name": "summa-env",
   "language": "python",
   "name": "summa-env"
  },
  "language_info": {
   "codemirror_mode": {
    "name": "ipython",
    "version": 3
   },
   "file_extension": ".py",
   "mimetype": "text/x-python",
   "name": "python",
   "nbconvert_exporter": "python",
   "pygments_lexer": "ipython3",
   "version": "3.8.8"
  }
 },
 "nbformat": 4,
 "nbformat_minor": 4
}
